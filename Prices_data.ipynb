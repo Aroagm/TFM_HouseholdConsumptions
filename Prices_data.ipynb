{
 "cells": [
  {
   "cell_type": "markdown",
   "metadata": {},
   "source": [
    "# ENERGY PRICES\n",
    "\n",
    "This notebook contains <br>\n",
    "[0. Import libraries and data](#0.-Import-libraries-and-data) <br>\n",
    "[1. Building the DataFrame](#1.-Building-the-DataFrame) <br>\n",
    "[2. Exploring the DataFrame](#2.-Exploring-the-DataFrame) <br>\n",
    "[3. Modelling the prices](#3.-Modelling-the-prices) <br>\n",
    "\n",
    "## 0. Import libraries and data"
   ]
  },
  {
   "cell_type": "code",
   "execution_count": 1,
   "metadata": {},
   "outputs": [],
   "source": [
    "import pandas as pd\n",
    "import numpy as np\n",
    "\n",
    "import matplotlib.pyplot as plt\n",
    "%matplotlib inline\n",
    "\n",
    "from sklearn.cluster import KMeans\n",
    "\n",
    "from pathlib import Path"
   ]
  },
  {
   "cell_type": "code",
   "execution_count": 2,
   "metadata": {},
   "outputs": [],
   "source": [
    "#working directory\n",
    "working_dir = !dir()\n",
    "wd_name = working_dir[3].split(\" \")[3]"
   ]
  },
  {
   "cell_type": "code",
   "execution_count": 3,
   "metadata": {},
   "outputs": [],
   "source": [
    "#The file is downloaded from https://transparency.entsoe.eu/dashboard/show\n",
    "prices_csv=\"Day-ahead Prices_201601010000-201701010000.csv\"\n",
    "df_prices = pd.read_csv(prices_csv, sep=\",\")\n"
   ]
  },
  {
   "cell_type": "markdown",
   "metadata": {},
   "source": [
    "One consideration with this data is that the prices have negative values that are going to be kept. This is a consequence of the energy market in Germany, when there are high renewable power supply (lots of wind and sun). For more information visit [this link](https://www.cleanenergywire.org/factsheets/why-power-prices-turn-negative)"
   ]
  },
  {
   "cell_type": "markdown",
   "metadata": {},
   "source": [
    "## 1. Building the DataFrame"
   ]
  },
  {
   "cell_type": "markdown",
   "metadata": {},
   "source": [
    "The first thing is to obtain the dates in the proper format."
   ]
  },
  {
   "cell_type": "code",
   "execution_count": 4,
   "metadata": {},
   "outputs": [
    {
     "data": {
      "text/html": [
       "<div>\n",
       "<style scoped>\n",
       "    .dataframe tbody tr th:only-of-type {\n",
       "        vertical-align: middle;\n",
       "    }\n",
       "\n",
       "    .dataframe tbody tr th {\n",
       "        vertical-align: top;\n",
       "    }\n",
       "\n",
       "    .dataframe thead th {\n",
       "        text-align: right;\n",
       "    }\n",
       "</style>\n",
       "<table border=\"1\" class=\"dataframe\">\n",
       "  <thead>\n",
       "    <tr style=\"text-align: right;\">\n",
       "      <th></th>\n",
       "      <th>MTU (UTC)</th>\n",
       "      <th>Day-ahead Price [EUR/MWh]</th>\n",
       "      <th>Datetime</th>\n",
       "    </tr>\n",
       "  </thead>\n",
       "  <tbody>\n",
       "    <tr>\n",
       "      <th>0</th>\n",
       "      <td>01.01.2016 00:00 - 01.01.2016 01:00</td>\n",
       "      <td>22.39</td>\n",
       "      <td>2016-01-01 00:00:00</td>\n",
       "    </tr>\n",
       "    <tr>\n",
       "      <th>1</th>\n",
       "      <td>01.01.2016 01:00 - 01.01.2016 02:00</td>\n",
       "      <td>20.59</td>\n",
       "      <td>2016-01-01 01:00:00</td>\n",
       "    </tr>\n",
       "    <tr>\n",
       "      <th>2</th>\n",
       "      <td>01.01.2016 02:00 - 01.01.2016 03:00</td>\n",
       "      <td>16.81</td>\n",
       "      <td>2016-01-01 02:00:00</td>\n",
       "    </tr>\n",
       "    <tr>\n",
       "      <th>3</th>\n",
       "      <td>01.01.2016 03:00 - 01.01.2016 04:00</td>\n",
       "      <td>17.41</td>\n",
       "      <td>2016-01-01 03:00:00</td>\n",
       "    </tr>\n",
       "    <tr>\n",
       "      <th>4</th>\n",
       "      <td>01.01.2016 04:00 - 01.01.2016 05:00</td>\n",
       "      <td>17.02</td>\n",
       "      <td>2016-01-01 04:00:00</td>\n",
       "    </tr>\n",
       "  </tbody>\n",
       "</table>\n",
       "</div>"
      ],
      "text/plain": [
       "                             MTU (UTC)  Day-ahead Price [EUR/MWh]  \\\n",
       "0  01.01.2016 00:00 - 01.01.2016 01:00                      22.39   \n",
       "1  01.01.2016 01:00 - 01.01.2016 02:00                      20.59   \n",
       "2  01.01.2016 02:00 - 01.01.2016 03:00                      16.81   \n",
       "3  01.01.2016 03:00 - 01.01.2016 04:00                      17.41   \n",
       "4  01.01.2016 04:00 - 01.01.2016 05:00                      17.02   \n",
       "\n",
       "             Datetime  \n",
       "0 2016-01-01 00:00:00  \n",
       "1 2016-01-01 01:00:00  \n",
       "2 2016-01-01 02:00:00  \n",
       "3 2016-01-01 03:00:00  \n",
       "4 2016-01-01 04:00:00  "
      ]
     },
     "execution_count": 4,
     "metadata": {},
     "output_type": "execute_result"
    }
   ],
   "source": [
    "df_prices['Datetime'] = df_prices[df_prices.columns[0]].map(lambda x: str(x).split(\"-\")[0].rstrip())\n",
    "df_prices['Datetime'] = pd.to_datetime(df_prices['Datetime'], format='%d.%m.%Y %H:%M')\n",
    "df_prices.head()\n"
   ]
  },
  {
   "cell_type": "code",
   "execution_count": 5,
   "metadata": {
    "scrolled": true
   },
   "outputs": [
    {
     "data": {
      "text/plain": [
       "MTU (UTC)                            object\n",
       "Day-ahead Price [EUR/MWh]           float64\n",
       "Datetime                     datetime64[ns]\n",
       "dtype: object"
      ]
     },
     "execution_count": 5,
     "metadata": {},
     "output_type": "execute_result"
    }
   ],
   "source": [
    "df_prices.dtypes"
   ]
  },
  {
   "cell_type": "markdown",
   "metadata": {},
   "source": [
    "Only some of the columns are going to be keep and some others will be generated for the next part of the study."
   ]
  },
  {
   "cell_type": "code",
   "execution_count": 6,
   "metadata": {},
   "outputs": [],
   "source": [
    "df_prices_clean = pd.DataFrame()\n",
    "df_prices_clean['Datetime'] = df_prices['Datetime']\n",
    "df_prices_clean['Price'] = df_prices[df_prices.columns[1]]\n",
    "df_prices_clean['Date'] =df_prices_clean['Datetime'].map(lambda x: x.date())\n",
    "df_prices_clean['Hour'] = df_prices_clean['Datetime'].map(lambda x: x.hour)\n",
    "df_prices_clean['DayofWeek'] = df_prices_clean['Datetime'].map(lambda x: x.dayofweek)\n",
    "df_prices_clean['DayofWeek_Str'] = df_prices_clean['Datetime'].map(lambda x: x.strftime(\"%A\"))"
   ]
  },
  {
   "cell_type": "code",
   "execution_count": 7,
   "metadata": {},
   "outputs": [
    {
     "data": {
      "text/html": [
       "<div>\n",
       "<style scoped>\n",
       "    .dataframe tbody tr th:only-of-type {\n",
       "        vertical-align: middle;\n",
       "    }\n",
       "\n",
       "    .dataframe tbody tr th {\n",
       "        vertical-align: top;\n",
       "    }\n",
       "\n",
       "    .dataframe thead th {\n",
       "        text-align: right;\n",
       "    }\n",
       "</style>\n",
       "<table border=\"1\" class=\"dataframe\">\n",
       "  <thead>\n",
       "    <tr style=\"text-align: right;\">\n",
       "      <th></th>\n",
       "      <th>Datetime</th>\n",
       "      <th>Price</th>\n",
       "      <th>Date</th>\n",
       "      <th>Hour</th>\n",
       "      <th>DayofWeek</th>\n",
       "      <th>DayofWeek_Str</th>\n",
       "    </tr>\n",
       "  </thead>\n",
       "  <tbody>\n",
       "    <tr>\n",
       "      <th>3155</th>\n",
       "      <td>2016-05-11 11:00:00</td>\n",
       "      <td>20.87</td>\n",
       "      <td>2016-05-11</td>\n",
       "      <td>11</td>\n",
       "      <td>2</td>\n",
       "      <td>Wednesday</td>\n",
       "    </tr>\n",
       "    <tr>\n",
       "      <th>8310</th>\n",
       "      <td>2016-12-12 06:00:00</td>\n",
       "      <td>57.36</td>\n",
       "      <td>2016-12-12</td>\n",
       "      <td>6</td>\n",
       "      <td>0</td>\n",
       "      <td>Monday</td>\n",
       "    </tr>\n",
       "    <tr>\n",
       "      <th>1983</th>\n",
       "      <td>2016-03-23 15:00:00</td>\n",
       "      <td>24.18</td>\n",
       "      <td>2016-03-23</td>\n",
       "      <td>15</td>\n",
       "      <td>2</td>\n",
       "      <td>Wednesday</td>\n",
       "    </tr>\n",
       "    <tr>\n",
       "      <th>3374</th>\n",
       "      <td>2016-05-20 14:00:00</td>\n",
       "      <td>24.57</td>\n",
       "      <td>2016-05-20</td>\n",
       "      <td>14</td>\n",
       "      <td>4</td>\n",
       "      <td>Friday</td>\n",
       "    </tr>\n",
       "    <tr>\n",
       "      <th>5250</th>\n",
       "      <td>2016-08-06 18:00:00</td>\n",
       "      <td>28.92</td>\n",
       "      <td>2016-08-06</td>\n",
       "      <td>18</td>\n",
       "      <td>5</td>\n",
       "      <td>Saturday</td>\n",
       "    </tr>\n",
       "  </tbody>\n",
       "</table>\n",
       "</div>"
      ],
      "text/plain": [
       "                Datetime  Price        Date  Hour  DayofWeek DayofWeek_Str\n",
       "3155 2016-05-11 11:00:00  20.87  2016-05-11    11          2     Wednesday\n",
       "8310 2016-12-12 06:00:00  57.36  2016-12-12     6          0        Monday\n",
       "1983 2016-03-23 15:00:00  24.18  2016-03-23    15          2     Wednesday\n",
       "3374 2016-05-20 14:00:00  24.57  2016-05-20    14          4        Friday\n",
       "5250 2016-08-06 18:00:00  28.92  2016-08-06    18          5      Saturday"
      ]
     },
     "execution_count": 7,
     "metadata": {},
     "output_type": "execute_result"
    }
   ],
   "source": [
    "df_prices_clean.sample(5)"
   ]
  },
  {
   "cell_type": "code",
   "execution_count": 8,
   "metadata": {},
   "outputs": [],
   "source": [
    "#Prices normalization, dividing by the day mean\n",
    "df_daymean = pd.DataFrame(df_prices_clean.groupby(df_prices_clean['Date'])['Price'].mean())\n",
    "df_daymean.rename(columns={'Price' : 'DayMean'},inplace=True)\n",
    "df_prices_clean = df_prices_clean.merge(df_daymean,left_on='Date', right_on='Date', how='outer')\n",
    "df_prices_clean['Price_nom'] = df_prices_clean['Price']/df_prices_clean['DayMean']"
   ]
  },
  {
   "cell_type": "code",
   "execution_count": 9,
   "metadata": {},
   "outputs": [],
   "source": [
    "df_prices_clean.to_csv('Prices.csv')"
   ]
  },
  {
   "cell_type": "markdown",
   "metadata": {},
   "source": [
    "## 2. Exploring the DataFrame"
   ]
  },
  {
   "cell_type": "code",
   "execution_count": 10,
   "metadata": {},
   "outputs": [],
   "source": [
    "mean_byhour = df_prices_clean.groupby('Hour').mean()\n",
    "mean_bydayofweek= df_prices_clean.groupby('DayofWeek').mean()"
   ]
  },
  {
   "cell_type": "code",
   "execution_count": 11,
   "metadata": {},
   "outputs": [
    {
     "data": {
      "text/html": [
       "<div>\n",
       "<style scoped>\n",
       "    .dataframe tbody tr th:only-of-type {\n",
       "        vertical-align: middle;\n",
       "    }\n",
       "\n",
       "    .dataframe tbody tr th {\n",
       "        vertical-align: top;\n",
       "    }\n",
       "\n",
       "    .dataframe thead th {\n",
       "        text-align: right;\n",
       "    }\n",
       "</style>\n",
       "<table border=\"1\" class=\"dataframe\">\n",
       "  <thead>\n",
       "    <tr style=\"text-align: right;\">\n",
       "      <th></th>\n",
       "      <th>Price</th>\n",
       "      <th>Hour</th>\n",
       "      <th>DayMean</th>\n",
       "      <th>Price_nom</th>\n",
       "    </tr>\n",
       "    <tr>\n",
       "      <th>DayofWeek</th>\n",
       "      <th></th>\n",
       "      <th></th>\n",
       "      <th></th>\n",
       "      <th></th>\n",
       "    </tr>\n",
       "  </thead>\n",
       "  <tbody>\n",
       "    <tr>\n",
       "      <th>0</th>\n",
       "      <td>30.019928</td>\n",
       "      <td>11.5</td>\n",
       "      <td>30.019928</td>\n",
       "      <td>1.0</td>\n",
       "    </tr>\n",
       "    <tr>\n",
       "      <th>1</th>\n",
       "      <td>32.166627</td>\n",
       "      <td>11.5</td>\n",
       "      <td>32.166627</td>\n",
       "      <td>1.0</td>\n",
       "    </tr>\n",
       "    <tr>\n",
       "      <th>2</th>\n",
       "      <td>31.506707</td>\n",
       "      <td>11.5</td>\n",
       "      <td>31.506707</td>\n",
       "      <td>1.0</td>\n",
       "    </tr>\n",
       "    <tr>\n",
       "      <th>3</th>\n",
       "      <td>31.684135</td>\n",
       "      <td>11.5</td>\n",
       "      <td>31.684135</td>\n",
       "      <td>1.0</td>\n",
       "    </tr>\n",
       "    <tr>\n",
       "      <th>4</th>\n",
       "      <td>31.032028</td>\n",
       "      <td>11.5</td>\n",
       "      <td>31.032028</td>\n",
       "      <td>1.0</td>\n",
       "    </tr>\n",
       "  </tbody>\n",
       "</table>\n",
       "</div>"
      ],
      "text/plain": [
       "               Price  Hour    DayMean  Price_nom\n",
       "DayofWeek                                       \n",
       "0          30.019928  11.5  30.019928        1.0\n",
       "1          32.166627  11.5  32.166627        1.0\n",
       "2          31.506707  11.5  31.506707        1.0\n",
       "3          31.684135  11.5  31.684135        1.0\n",
       "4          31.032028  11.5  31.032028        1.0"
      ]
     },
     "execution_count": 11,
     "metadata": {},
     "output_type": "execute_result"
    }
   ],
   "source": [
    "mean_bydayofweek.head()"
   ]
  },
  {
   "cell_type": "code",
   "execution_count": 12,
   "metadata": {
    "scrolled": true
   },
   "outputs": [
    {
     "data": {
      "text/plain": [
       "[<matplotlib.lines.Line2D at 0x1dc02c985c0>]"
      ]
     },
     "execution_count": 12,
     "metadata": {},
     "output_type": "execute_result"
    },
    {
     "data": {
      "image/png": "[encoded data removed]",
      "text/plain": [
       "<matplotlib.figure.Figure at 0x1dc02b711d0>"
      ]
     },
     "metadata": {},
     "output_type": "display_data"
    }
   ],
   "source": [
    "#Mean price for each hour in the whole year\n",
    "plt.plot(mean_byhour['Price'])"
   ]
  },
  {
   "cell_type": "code",
   "execution_count": 13,
   "metadata": {},
   "outputs": [
    {
     "data": {
      "text/plain": [
       "[<matplotlib.lines.Line2D at 0x1dc02d6c4e0>]"
      ]
     },
     "execution_count": 13,
     "metadata": {},
     "output_type": "execute_result"
    },
    {
     "data": {
      "image/png": "[encoded data removed]",
      "text/plain": [
       "<matplotlib.figure.Figure at 0x1dc02cec320>"
      ]
     },
     "metadata": {},
     "output_type": "display_data"
    }
   ],
   "source": [
    "#Mean price for each day of the week (from Monday (0) to Sunday (6))\n",
    "plt.plot(mean_bydayofweek['Price'])"
   ]
  },
  {
   "cell_type": "markdown",
   "metadata": {},
   "source": [
    "It can be seen that weekends have the lower prices"
   ]
  },
  {
   "cell_type": "code",
   "execution_count": 14,
   "metadata": {},
   "outputs": [
    {
     "data": {
      "text/plain": [
       "[<matplotlib.lines.Line2D at 0x1dc02e1b358>]"
      ]
     },
     "execution_count": 14,
     "metadata": {},
     "output_type": "execute_result"
    },
    {
     "data": {
      "image/png": "[encoded data removed]",
      "text/plain": [
       "<matplotlib.figure.Figure at 0x1dc02d3d550>"
      ]
     },
     "metadata": {},
     "output_type": "display_data"
    }
   ],
   "source": [
    "#Shape of the price in a specific day of the week by hour\n",
    "monday_hours = df_prices_clean[df_prices_clean['DayofWeek']==0].groupby('Hour').mean()\n",
    "plt.plot(monday_hours['Price'])"
   ]
  },
  {
   "cell_type": "code",
   "execution_count": 15,
   "metadata": {},
   "outputs": [
    {
     "data": {
      "image/png": "[encoded data removed]",
      "text/plain": [
       "<matplotlib.figure.Figure at 0x1dc02e29908>"
      ]
     },
     "metadata": {},
     "output_type": "display_data"
    }
   ],
   "source": [
    "#Plot with the mean price for each hour in each day of the week\n",
    "plt.figure(figsize=(12,5))\n",
    "for i in list(range(0,7)):\n",
    "    day_hours=df_prices_clean[df_prices_clean['DayofWeek']==i].groupby('Hour').mean()\n",
    "    day_name = df_prices_clean[\"DayofWeek_Str\"][df_prices_clean['DayofWeek']==i].iloc[0]\n",
    "    plt.plot(day_hours['Price'], label = day_name)\n",
    "    plt.legend(loc=1)\n"
   ]
  },
  {
   "cell_type": "markdown",
   "metadata": {},
   "source": [
    "From the graph it can be seen that there are 3 diferent behaviours:\n",
    "1. weekdays\n",
    "2. saturday\n",
    "1. sunday\n"
   ]
  },
  {
   "cell_type": "markdown",
   "metadata": {},
   "source": [
    "## 3. Modelling the prices\n",
    "With kmeans algorithm the hours will be clustered according to the prices. The 3 behaviours are going to have the same cluster since the shapes of the curves is in consonance, but the mean prices for the weekend are lower.\n",
    "\n",
    "##### Weekdays"
   ]
  },
  {
   "cell_type": "code",
   "execution_count": 16,
   "metadata": {},
   "outputs": [
    {
     "data": {
      "text/html": [
       "<div>\n",
       "<style scoped>\n",
       "    .dataframe tbody tr th:only-of-type {\n",
       "        vertical-align: middle;\n",
       "    }\n",
       "\n",
       "    .dataframe tbody tr th {\n",
       "        vertical-align: top;\n",
       "    }\n",
       "\n",
       "    .dataframe thead th {\n",
       "        text-align: right;\n",
       "    }\n",
       "</style>\n",
       "<table border=\"1\" class=\"dataframe\">\n",
       "  <thead>\n",
       "    <tr style=\"text-align: right;\">\n",
       "      <th></th>\n",
       "      <th>Datetime</th>\n",
       "      <th>Price</th>\n",
       "      <th>Date</th>\n",
       "      <th>Hour</th>\n",
       "      <th>DayofWeek</th>\n",
       "      <th>DayofWeek_Str</th>\n",
       "      <th>DayMean</th>\n",
       "      <th>Price_nom</th>\n",
       "    </tr>\n",
       "  </thead>\n",
       "  <tbody>\n",
       "    <tr>\n",
       "      <th>0</th>\n",
       "      <td>2016-01-01 00:00:00</td>\n",
       "      <td>22.39</td>\n",
       "      <td>2016-01-01</td>\n",
       "      <td>0</td>\n",
       "      <td>4</td>\n",
       "      <td>Friday</td>\n",
       "      <td>24.88</td>\n",
       "      <td>0.899920</td>\n",
       "    </tr>\n",
       "    <tr>\n",
       "      <th>1</th>\n",
       "      <td>2016-01-01 01:00:00</td>\n",
       "      <td>20.59</td>\n",
       "      <td>2016-01-01</td>\n",
       "      <td>1</td>\n",
       "      <td>4</td>\n",
       "      <td>Friday</td>\n",
       "      <td>24.88</td>\n",
       "      <td>0.827572</td>\n",
       "    </tr>\n",
       "    <tr>\n",
       "      <th>2</th>\n",
       "      <td>2016-01-01 02:00:00</td>\n",
       "      <td>16.81</td>\n",
       "      <td>2016-01-01</td>\n",
       "      <td>2</td>\n",
       "      <td>4</td>\n",
       "      <td>Friday</td>\n",
       "      <td>24.88</td>\n",
       "      <td>0.675643</td>\n",
       "    </tr>\n",
       "    <tr>\n",
       "      <th>3</th>\n",
       "      <td>2016-01-01 03:00:00</td>\n",
       "      <td>17.41</td>\n",
       "      <td>2016-01-01</td>\n",
       "      <td>3</td>\n",
       "      <td>4</td>\n",
       "      <td>Friday</td>\n",
       "      <td>24.88</td>\n",
       "      <td>0.699759</td>\n",
       "    </tr>\n",
       "    <tr>\n",
       "      <th>4</th>\n",
       "      <td>2016-01-01 04:00:00</td>\n",
       "      <td>17.02</td>\n",
       "      <td>2016-01-01</td>\n",
       "      <td>4</td>\n",
       "      <td>4</td>\n",
       "      <td>Friday</td>\n",
       "      <td>24.88</td>\n",
       "      <td>0.684084</td>\n",
       "    </tr>\n",
       "  </tbody>\n",
       "</table>\n",
       "</div>"
      ],
      "text/plain": [
       "             Datetime  Price        Date  Hour  DayofWeek DayofWeek_Str  \\\n",
       "0 2016-01-01 00:00:00  22.39  2016-01-01     0          4        Friday   \n",
       "1 2016-01-01 01:00:00  20.59  2016-01-01     1          4        Friday   \n",
       "2 2016-01-01 02:00:00  16.81  2016-01-01     2          4        Friday   \n",
       "3 2016-01-01 03:00:00  17.41  2016-01-01     3          4        Friday   \n",
       "4 2016-01-01 04:00:00  17.02  2016-01-01     4          4        Friday   \n",
       "\n",
       "   DayMean  Price_nom  \n",
       "0    24.88   0.899920  \n",
       "1    24.88   0.827572  \n",
       "2    24.88   0.675643  \n",
       "3    24.88   0.699759  \n",
       "4    24.88   0.684084  "
      ]
     },
     "execution_count": 16,
     "metadata": {},
     "output_type": "execute_result"
    }
   ],
   "source": [
    "df_weekdays = df_prices_clean[df_prices_clean['DayofWeek'] <=4]\n",
    "df_weekdays.head()"
   ]
  },
  {
   "cell_type": "code",
   "execution_count": 17,
   "metadata": {},
   "outputs": [
    {
     "data": {
      "text/html": [
       "<div>\n",
       "<style scoped>\n",
       "    .dataframe tbody tr th:only-of-type {\n",
       "        vertical-align: middle;\n",
       "    }\n",
       "\n",
       "    .dataframe tbody tr th {\n",
       "        vertical-align: top;\n",
       "    }\n",
       "\n",
       "    .dataframe thead th {\n",
       "        text-align: right;\n",
       "    }\n",
       "</style>\n",
       "<table border=\"1\" class=\"dataframe\">\n",
       "  <thead>\n",
       "    <tr style=\"text-align: right;\">\n",
       "      <th></th>\n",
       "      <th>Price</th>\n",
       "      <th>Date</th>\n",
       "      <th>Hour</th>\n",
       "    </tr>\n",
       "  </thead>\n",
       "  <tbody>\n",
       "    <tr>\n",
       "      <th>0</th>\n",
       "      <td>22.39</td>\n",
       "      <td>2016-01-01</td>\n",
       "      <td>0</td>\n",
       "    </tr>\n",
       "    <tr>\n",
       "      <th>1</th>\n",
       "      <td>20.59</td>\n",
       "      <td>2016-01-01</td>\n",
       "      <td>1</td>\n",
       "    </tr>\n",
       "    <tr>\n",
       "      <th>2</th>\n",
       "      <td>16.81</td>\n",
       "      <td>2016-01-01</td>\n",
       "      <td>2</td>\n",
       "    </tr>\n",
       "    <tr>\n",
       "      <th>3</th>\n",
       "      <td>17.41</td>\n",
       "      <td>2016-01-01</td>\n",
       "      <td>3</td>\n",
       "    </tr>\n",
       "    <tr>\n",
       "      <th>4</th>\n",
       "      <td>17.02</td>\n",
       "      <td>2016-01-01</td>\n",
       "      <td>4</td>\n",
       "    </tr>\n",
       "  </tbody>\n",
       "</table>\n",
       "</div>"
      ],
      "text/plain": [
       "   Price        Date  Hour\n",
       "0  22.39  2016-01-01     0\n",
       "1  20.59  2016-01-01     1\n",
       "2  16.81  2016-01-01     2\n",
       "3  17.41  2016-01-01     3\n",
       "4  17.02  2016-01-01     4"
      ]
     },
     "execution_count": 17,
     "metadata": {},
     "output_type": "execute_result"
    }
   ],
   "source": [
    "df_weekdays.iloc[:,1:4].head()"
   ]
  },
  {
   "cell_type": "code",
   "execution_count": 18,
   "metadata": {},
   "outputs": [
    {
     "data": {
      "text/plain": [
       "[<matplotlib.lines.Line2D at 0x1dc03084940>]"
      ]
     },
     "execution_count": 18,
     "metadata": {},
     "output_type": "execute_result"
    },
    {
     "data": {
      "image/png": "[encoded data removed]",
      "text/plain": [
       "<matplotlib.figure.Figure at 0x1dc02ed7518>"
      ]
     },
     "metadata": {},
     "output_type": "display_data"
    }
   ],
   "source": [
    "# Data values\n",
    "df_weekdaysH = df_weekdays.groupby('Hour').mean()\n",
    "prices = df_weekdaysH['Price_nom'].values\n",
    "X = np.array(list(zip(prices)))\n",
    "\n",
    "#Elbow Method to identify the best number of clusters\n",
    "center_distances = []\n",
    "for k in list(df_weekdaysH.index[2:]):\n",
    "    kmeans = KMeans(n_clusters=k)\n",
    "    kmeans.fit(X)\n",
    "    center_distances.append(kmeans.inertia_)\n",
    "\n",
    "plt.plot(list(df_weekdaysH.index[2:]), center_distances)\n",
    "plt.grid(True)\n",
    "plt.title('Elbow curve')\n",
    "\n",
    "#Given the graph the results the chosen number of clusters is 5\n",
    "n_clusters = 5\n",
    "plt.plot(n_clusters,center_distances[n_clusters-2], marker='o', color='r')"
   ]
  },
  {
   "cell_type": "markdown",
   "metadata": {},
   "source": [
    "Once the number of clusters is set KMeans can be run to group the data"
   ]
  },
  {
   "cell_type": "code",
   "execution_count": 19,
   "metadata": {},
   "outputs": [],
   "source": [
    "np.random.seed(1)\n",
    "\n",
    "# Initializing KMeans\n",
    "kmeans = KMeans(n_clusters=5)\n",
    "# Fitting with inputs\n",
    "kmeans = kmeans.fit(X)\n",
    "# Predicting the clusters\n",
    "cluster_num = kmeans.predict(X)\n",
    "# Getting the cluster centers\n",
    "cluster_centers = kmeans.cluster_centers_\n",
    "# Add the cluster to a column in the dataframe\n",
    "df_weekdaysH['Cluster'] = pd.Series(cluster_num, index=df_weekdaysH.index)"
   ]
  },
  {
   "cell_type": "code",
   "execution_count": 20,
   "metadata": {},
   "outputs": [
    {
     "data": {
      "text/html": [
       "<div>\n",
       "<style scoped>\n",
       "    .dataframe tbody tr th:only-of-type {\n",
       "        vertical-align: middle;\n",
       "    }\n",
       "\n",
       "    .dataframe tbody tr th {\n",
       "        vertical-align: top;\n",
       "    }\n",
       "\n",
       "    .dataframe thead th {\n",
       "        text-align: right;\n",
       "    }\n",
       "</style>\n",
       "<table border=\"1\" class=\"dataframe\">\n",
       "  <thead>\n",
       "    <tr style=\"text-align: right;\">\n",
       "      <th></th>\n",
       "      <th>Price</th>\n",
       "      <th>DayofWeek</th>\n",
       "      <th>DayMean</th>\n",
       "      <th>Price_nom</th>\n",
       "      <th>Cluster</th>\n",
       "    </tr>\n",
       "    <tr>\n",
       "      <th>Hour</th>\n",
       "      <th></th>\n",
       "      <th></th>\n",
       "      <th></th>\n",
       "      <th></th>\n",
       "      <th></th>\n",
       "    </tr>\n",
       "  </thead>\n",
       "  <tbody>\n",
       "    <tr>\n",
       "      <th>0</th>\n",
       "      <td>22.245594</td>\n",
       "      <td>2.007663</td>\n",
       "      <td>31.280928</td>\n",
       "      <td>0.708656</td>\n",
       "      <td>4</td>\n",
       "    </tr>\n",
       "    <tr>\n",
       "      <th>1</th>\n",
       "      <td>21.259004</td>\n",
       "      <td>2.007663</td>\n",
       "      <td>31.280928</td>\n",
       "      <td>0.661082</td>\n",
       "      <td>4</td>\n",
       "    </tr>\n",
       "    <tr>\n",
       "      <th>2</th>\n",
       "      <td>21.253985</td>\n",
       "      <td>2.007663</td>\n",
       "      <td>31.280928</td>\n",
       "      <td>0.656253</td>\n",
       "      <td>4</td>\n",
       "    </tr>\n",
       "    <tr>\n",
       "      <th>3</th>\n",
       "      <td>22.811762</td>\n",
       "      <td>2.007663</td>\n",
       "      <td>31.280928</td>\n",
       "      <td>0.714508</td>\n",
       "      <td>4</td>\n",
       "    </tr>\n",
       "    <tr>\n",
       "      <th>4</th>\n",
       "      <td>27.572759</td>\n",
       "      <td>2.007663</td>\n",
       "      <td>31.280928</td>\n",
       "      <td>0.904484</td>\n",
       "      <td>2</td>\n",
       "    </tr>\n",
       "  </tbody>\n",
       "</table>\n",
       "</div>"
      ],
      "text/plain": [
       "          Price  DayofWeek    DayMean  Price_nom  Cluster\n",
       "Hour                                                     \n",
       "0     22.245594   2.007663  31.280928   0.708656        4\n",
       "1     21.259004   2.007663  31.280928   0.661082        4\n",
       "2     21.253985   2.007663  31.280928   0.656253        4\n",
       "3     22.811762   2.007663  31.280928   0.714508        4\n",
       "4     27.572759   2.007663  31.280928   0.904484        2"
      ]
     },
     "execution_count": 20,
     "metadata": {},
     "output_type": "execute_result"
    }
   ],
   "source": [
    "df_weekdaysH.head(5)"
   ]
  },
  {
   "cell_type": "code",
   "execution_count": 21,
   "metadata": {},
   "outputs": [
    {
     "data": {
      "text/plain": [
       "<matplotlib.colorbar.Colorbar at 0x1dc02f9f4e0>"
      ]
     },
     "execution_count": 21,
     "metadata": {},
     "output_type": "execute_result"
    },
    {
     "data": {
      "image/png": "[encoded data removed]",
      "text/plain": [
       "<matplotlib.figure.Figure at 0x1dc02d41c50>"
      ]
     },
     "metadata": {},
     "output_type": "display_data"
    }
   ],
   "source": [
    "#Plot\n",
    "X = df_weekdaysH.index\n",
    "y = df_weekdaysH['Price_nom']\n",
    "color = df_weekdaysH['Cluster']\n",
    "plt.scatter(X,y, c= color)\n",
    "plt.colorbar()"
   ]
  },
  {
   "cell_type": "code",
   "execution_count": 22,
   "metadata": {},
   "outputs": [
    {
     "data": {
      "text/html": [
       "<div>\n",
       "<style scoped>\n",
       "    .dataframe tbody tr th:only-of-type {\n",
       "        vertical-align: middle;\n",
       "    }\n",
       "\n",
       "    .dataframe tbody tr th {\n",
       "        vertical-align: top;\n",
       "    }\n",
       "\n",
       "    .dataframe thead th {\n",
       "        text-align: right;\n",
       "    }\n",
       "</style>\n",
       "<table border=\"1\" class=\"dataframe\">\n",
       "  <thead>\n",
       "    <tr style=\"text-align: right;\">\n",
       "      <th></th>\n",
       "      <th>Price</th>\n",
       "      <th>DayofWeek</th>\n",
       "      <th>DayMean</th>\n",
       "      <th>Price_nom</th>\n",
       "    </tr>\n",
       "    <tr>\n",
       "      <th>Cluster</th>\n",
       "      <th></th>\n",
       "      <th></th>\n",
       "      <th></th>\n",
       "      <th></th>\n",
       "    </tr>\n",
       "  </thead>\n",
       "  <tbody>\n",
       "    <tr>\n",
       "      <th>0</th>\n",
       "      <td>7</td>\n",
       "      <td>7</td>\n",
       "      <td>7</td>\n",
       "      <td>7</td>\n",
       "    </tr>\n",
       "    <tr>\n",
       "      <th>1</th>\n",
       "      <td>3</td>\n",
       "      <td>3</td>\n",
       "      <td>3</td>\n",
       "      <td>3</td>\n",
       "    </tr>\n",
       "    <tr>\n",
       "      <th>2</th>\n",
       "      <td>5</td>\n",
       "      <td>5</td>\n",
       "      <td>5</td>\n",
       "      <td>5</td>\n",
       "    </tr>\n",
       "    <tr>\n",
       "      <th>3</th>\n",
       "      <td>5</td>\n",
       "      <td>5</td>\n",
       "      <td>5</td>\n",
       "      <td>5</td>\n",
       "    </tr>\n",
       "    <tr>\n",
       "      <th>4</th>\n",
       "      <td>4</td>\n",
       "      <td>4</td>\n",
       "      <td>4</td>\n",
       "      <td>4</td>\n",
       "    </tr>\n",
       "  </tbody>\n",
       "</table>\n",
       "</div>"
      ],
      "text/plain": [
       "         Price  DayofWeek  DayMean  Price_nom\n",
       "Cluster                                      \n",
       "0            7          7        7          7\n",
       "1            3          3        3          3\n",
       "2            5          5        5          5\n",
       "3            5          5        5          5\n",
       "4            4          4        4          4"
      ]
     },
     "execution_count": 22,
     "metadata": {},
     "output_type": "execute_result"
    }
   ],
   "source": [
    "df_weekdaysH.groupby('Cluster').count()"
   ]
  },
  {
   "cell_type": "markdown",
   "metadata": {},
   "source": [
    "To reference the cluster the following names are given\n",
    "<p>LowLow Price &#9658; Cluster 4</p>\n",
    "<p>Low Price &#9658; Cluster 1 </p>\n",
    "<p>Standard price &#9658; Cluster 2 </p>\n",
    "<p>High Price &#9658; Cluster 0 </p>\n",
    "<p>HighHigh Price &#9658; Cluster 3 </p>"
   ]
  },
  {
   "cell_type": "code",
   "execution_count": 23,
   "metadata": {},
   "outputs": [
    {
     "data": {
      "text/plain": [
       "3"
      ]
     },
     "execution_count": 23,
     "metadata": {},
     "output_type": "execute_result"
    }
   ],
   "source": [
    "cluster_order = [4,1,2,0,3]\n",
    "f = lambda x: cluster_order.index(x)\n",
    "f(df_weekdaysH['Cluster'][9])"
   ]
  },
  {
   "cell_type": "code",
   "execution_count": 24,
   "metadata": {},
   "outputs": [],
   "source": [
    "#Cluster_id from low to high (0,4)\n",
    "df_weekdaysH['Cluster_id'] = df_weekdaysH['Cluster'].map(lambda x: cluster_order.index(x))"
   ]
  },
  {
   "cell_type": "code",
   "execution_count": 25,
   "metadata": {},
   "outputs": [
    {
     "data": {
      "text/html": [
       "<div>\n",
       "<style scoped>\n",
       "    .dataframe tbody tr th:only-of-type {\n",
       "        vertical-align: middle;\n",
       "    }\n",
       "\n",
       "    .dataframe tbody tr th {\n",
       "        vertical-align: top;\n",
       "    }\n",
       "\n",
       "    .dataframe thead th {\n",
       "        text-align: right;\n",
       "    }\n",
       "</style>\n",
       "<table border=\"1\" class=\"dataframe\">\n",
       "  <thead>\n",
       "    <tr style=\"text-align: right;\">\n",
       "      <th></th>\n",
       "      <th>Price</th>\n",
       "      <th>DayofWeek</th>\n",
       "      <th>DayMean</th>\n",
       "      <th>Price_nom</th>\n",
       "      <th>Cluster</th>\n",
       "      <th>Cluster_id</th>\n",
       "    </tr>\n",
       "    <tr>\n",
       "      <th>Hour</th>\n",
       "      <th></th>\n",
       "      <th></th>\n",
       "      <th></th>\n",
       "      <th></th>\n",
       "      <th></th>\n",
       "      <th></th>\n",
       "    </tr>\n",
       "  </thead>\n",
       "  <tbody>\n",
       "    <tr>\n",
       "      <th>0</th>\n",
       "      <td>22.245594</td>\n",
       "      <td>2.007663</td>\n",
       "      <td>31.280928</td>\n",
       "      <td>0.708656</td>\n",
       "      <td>4</td>\n",
       "      <td>0</td>\n",
       "    </tr>\n",
       "    <tr>\n",
       "      <th>1</th>\n",
       "      <td>21.259004</td>\n",
       "      <td>2.007663</td>\n",
       "      <td>31.280928</td>\n",
       "      <td>0.661082</td>\n",
       "      <td>4</td>\n",
       "      <td>0</td>\n",
       "    </tr>\n",
       "    <tr>\n",
       "      <th>2</th>\n",
       "      <td>21.253985</td>\n",
       "      <td>2.007663</td>\n",
       "      <td>31.280928</td>\n",
       "      <td>0.656253</td>\n",
       "      <td>4</td>\n",
       "      <td>0</td>\n",
       "    </tr>\n",
       "    <tr>\n",
       "      <th>3</th>\n",
       "      <td>22.811762</td>\n",
       "      <td>2.007663</td>\n",
       "      <td>31.280928</td>\n",
       "      <td>0.714508</td>\n",
       "      <td>4</td>\n",
       "      <td>0</td>\n",
       "    </tr>\n",
       "    <tr>\n",
       "      <th>4</th>\n",
       "      <td>27.572759</td>\n",
       "      <td>2.007663</td>\n",
       "      <td>31.280928</td>\n",
       "      <td>0.904484</td>\n",
       "      <td>2</td>\n",
       "      <td>2</td>\n",
       "    </tr>\n",
       "  </tbody>\n",
       "</table>\n",
       "</div>"
      ],
      "text/plain": [
       "          Price  DayofWeek    DayMean  Price_nom  Cluster  Cluster_id\n",
       "Hour                                                                 \n",
       "0     22.245594   2.007663  31.280928   0.708656        4           0\n",
       "1     21.259004   2.007663  31.280928   0.661082        4           0\n",
       "2     21.253985   2.007663  31.280928   0.656253        4           0\n",
       "3     22.811762   2.007663  31.280928   0.714508        4           0\n",
       "4     27.572759   2.007663  31.280928   0.904484        2           2"
      ]
     },
     "execution_count": 25,
     "metadata": {},
     "output_type": "execute_result"
    }
   ],
   "source": [
    "df_weekdaysH.head()"
   ]
  },
  {
   "cell_type": "markdown",
   "metadata": {},
   "source": [
    "##### Saturday and Sunday"
   ]
  },
  {
   "cell_type": "code",
   "execution_count": 26,
   "metadata": {},
   "outputs": [
    {
     "data": {
      "text/html": [
       "<div>\n",
       "<style scoped>\n",
       "    .dataframe tbody tr th:only-of-type {\n",
       "        vertical-align: middle;\n",
       "    }\n",
       "\n",
       "    .dataframe tbody tr th {\n",
       "        vertical-align: top;\n",
       "    }\n",
       "\n",
       "    .dataframe thead th {\n",
       "        text-align: right;\n",
       "    }\n",
       "</style>\n",
       "<table border=\"1\" class=\"dataframe\">\n",
       "  <thead>\n",
       "    <tr style=\"text-align: right;\">\n",
       "      <th></th>\n",
       "      <th>Price</th>\n",
       "      <th>DayofWeek</th>\n",
       "      <th>DayMean</th>\n",
       "      <th>Price_nom</th>\n",
       "    </tr>\n",
       "    <tr>\n",
       "      <th>Hour</th>\n",
       "      <th></th>\n",
       "      <th></th>\n",
       "      <th></th>\n",
       "      <th></th>\n",
       "    </tr>\n",
       "  </thead>\n",
       "  <tbody>\n",
       "    <tr>\n",
       "      <th>0</th>\n",
       "      <td>23.267736</td>\n",
       "      <td>5</td>\n",
       "      <td>25.98489</td>\n",
       "      <td>0.905353</td>\n",
       "    </tr>\n",
       "    <tr>\n",
       "      <th>1</th>\n",
       "      <td>22.121887</td>\n",
       "      <td>5</td>\n",
       "      <td>25.98489</td>\n",
       "      <td>0.827283</td>\n",
       "    </tr>\n",
       "    <tr>\n",
       "      <th>2</th>\n",
       "      <td>21.703774</td>\n",
       "      <td>5</td>\n",
       "      <td>25.98489</td>\n",
       "      <td>0.817081</td>\n",
       "    </tr>\n",
       "    <tr>\n",
       "      <th>3</th>\n",
       "      <td>21.910377</td>\n",
       "      <td>5</td>\n",
       "      <td>25.98489</td>\n",
       "      <td>0.843423</td>\n",
       "    </tr>\n",
       "    <tr>\n",
       "      <th>4</th>\n",
       "      <td>22.462264</td>\n",
       "      <td>5</td>\n",
       "      <td>25.98489</td>\n",
       "      <td>0.862627</td>\n",
       "    </tr>\n",
       "  </tbody>\n",
       "</table>\n",
       "</div>"
      ],
      "text/plain": [
       "          Price  DayofWeek   DayMean  Price_nom\n",
       "Hour                                           \n",
       "0     23.267736          5  25.98489   0.905353\n",
       "1     22.121887          5  25.98489   0.827283\n",
       "2     21.703774          5  25.98489   0.817081\n",
       "3     21.910377          5  25.98489   0.843423\n",
       "4     22.462264          5  25.98489   0.862627"
      ]
     },
     "execution_count": 26,
     "metadata": {},
     "output_type": "execute_result"
    }
   ],
   "source": [
    "df_saturday = df_prices_clean[df_prices_clean['DayofWeek'] ==5]\n",
    "\n",
    "# Data values\n",
    "df_saturdayH = df_saturday.groupby('Hour').mean()\n",
    "prices = df_saturdayH['Price_nom'].values\n",
    "\n",
    "df_saturdayH.head(5)"
   ]
  },
  {
   "cell_type": "code",
   "execution_count": 27,
   "metadata": {},
   "outputs": [
    {
     "data": {
      "text/html": [
       "<div>\n",
       "<style scoped>\n",
       "    .dataframe tbody tr th:only-of-type {\n",
       "        vertical-align: middle;\n",
       "    }\n",
       "\n",
       "    .dataframe tbody tr th {\n",
       "        vertical-align: top;\n",
       "    }\n",
       "\n",
       "    .dataframe thead th {\n",
       "        text-align: right;\n",
       "    }\n",
       "</style>\n",
       "<table border=\"1\" class=\"dataframe\">\n",
       "  <thead>\n",
       "    <tr style=\"text-align: right;\">\n",
       "      <th></th>\n",
       "      <th>Price</th>\n",
       "      <th>DayofWeek</th>\n",
       "      <th>DayMean</th>\n",
       "      <th>Price_nom</th>\n",
       "    </tr>\n",
       "    <tr>\n",
       "      <th>Hour</th>\n",
       "      <th></th>\n",
       "      <th></th>\n",
       "      <th></th>\n",
       "      <th></th>\n",
       "    </tr>\n",
       "  </thead>\n",
       "  <tbody>\n",
       "    <tr>\n",
       "      <th>0</th>\n",
       "      <td>17.756731</td>\n",
       "      <td>6</td>\n",
       "      <td>20.499071</td>\n",
       "      <td>0.339645</td>\n",
       "    </tr>\n",
       "    <tr>\n",
       "      <th>1</th>\n",
       "      <td>16.856538</td>\n",
       "      <td>6</td>\n",
       "      <td>20.499071</td>\n",
       "      <td>0.257012</td>\n",
       "    </tr>\n",
       "    <tr>\n",
       "      <th>2</th>\n",
       "      <td>16.447500</td>\n",
       "      <td>6</td>\n",
       "      <td>20.499071</td>\n",
       "      <td>0.163716</td>\n",
       "    </tr>\n",
       "    <tr>\n",
       "      <th>3</th>\n",
       "      <td>16.346923</td>\n",
       "      <td>6</td>\n",
       "      <td>20.499071</td>\n",
       "      <td>0.015664</td>\n",
       "    </tr>\n",
       "    <tr>\n",
       "      <th>4</th>\n",
       "      <td>16.354231</td>\n",
       "      <td>6</td>\n",
       "      <td>20.499071</td>\n",
       "      <td>0.459033</td>\n",
       "    </tr>\n",
       "  </tbody>\n",
       "</table>\n",
       "</div>"
      ],
      "text/plain": [
       "          Price  DayofWeek    DayMean  Price_nom\n",
       "Hour                                            \n",
       "0     17.756731          6  20.499071   0.339645\n",
       "1     16.856538          6  20.499071   0.257012\n",
       "2     16.447500          6  20.499071   0.163716\n",
       "3     16.346923          6  20.499071   0.015664\n",
       "4     16.354231          6  20.499071   0.459033"
      ]
     },
     "execution_count": 27,
     "metadata": {},
     "output_type": "execute_result"
    }
   ],
   "source": [
    "df_sunday = df_prices_clean[df_prices_clean['DayofWeek'] ==6]\n",
    "\n",
    "# Data values\n",
    "df_sundayH = df_sunday.groupby('Hour').mean()\n",
    "prices = df_sundayH['Price_nom'].values\n",
    "\n",
    "df_sundayH.head(5)"
   ]
  },
  {
   "cell_type": "markdown",
   "metadata": {},
   "source": [
    "##### Final dataframe"
   ]
  },
  {
   "cell_type": "code",
   "execution_count": 28,
   "metadata": {},
   "outputs": [
    {
     "data": {
      "text/html": [
       "<div>\n",
       "<style scoped>\n",
       "    .dataframe tbody tr th:only-of-type {\n",
       "        vertical-align: middle;\n",
       "    }\n",
       "\n",
       "    .dataframe tbody tr th {\n",
       "        vertical-align: top;\n",
       "    }\n",
       "\n",
       "    .dataframe thead th {\n",
       "        text-align: right;\n",
       "    }\n",
       "</style>\n",
       "<table border=\"1\" class=\"dataframe\">\n",
       "  <thead>\n",
       "    <tr style=\"text-align: right;\">\n",
       "      <th></th>\n",
       "      <th>Cluster_id</th>\n",
       "      <th>Price_weekday</th>\n",
       "      <th>Price_sat</th>\n",
       "      <th>Price_sun</th>\n",
       "    </tr>\n",
       "    <tr>\n",
       "      <th>Hour</th>\n",
       "      <th></th>\n",
       "      <th></th>\n",
       "      <th></th>\n",
       "      <th></th>\n",
       "    </tr>\n",
       "  </thead>\n",
       "  <tbody>\n",
       "    <tr>\n",
       "      <th>0</th>\n",
       "      <td>0</td>\n",
       "      <td>22.245594</td>\n",
       "      <td>23.267736</td>\n",
       "      <td>17.756731</td>\n",
       "    </tr>\n",
       "    <tr>\n",
       "      <th>1</th>\n",
       "      <td>0</td>\n",
       "      <td>21.259004</td>\n",
       "      <td>22.121887</td>\n",
       "      <td>16.856538</td>\n",
       "    </tr>\n",
       "    <tr>\n",
       "      <th>2</th>\n",
       "      <td>0</td>\n",
       "      <td>21.253985</td>\n",
       "      <td>21.703774</td>\n",
       "      <td>16.447500</td>\n",
       "    </tr>\n",
       "    <tr>\n",
       "      <th>3</th>\n",
       "      <td>0</td>\n",
       "      <td>22.811762</td>\n",
       "      <td>21.910377</td>\n",
       "      <td>16.346923</td>\n",
       "    </tr>\n",
       "    <tr>\n",
       "      <th>4</th>\n",
       "      <td>2</td>\n",
       "      <td>27.572759</td>\n",
       "      <td>22.462264</td>\n",
       "      <td>16.354231</td>\n",
       "    </tr>\n",
       "  </tbody>\n",
       "</table>\n",
       "</div>"
      ],
      "text/plain": [
       "      Cluster_id  Price_weekday  Price_sat  Price_sun\n",
       "Hour                                                 \n",
       "0              0      22.245594  23.267736  17.756731\n",
       "1              0      21.259004  22.121887  16.856538\n",
       "2              0      21.253985  21.703774  16.447500\n",
       "3              0      22.811762  21.910377  16.346923\n",
       "4              2      27.572759  22.462264  16.354231"
      ]
     },
     "execution_count": 28,
     "metadata": {},
     "output_type": "execute_result"
    }
   ],
   "source": [
    "df_clusterprice = pd.DataFrame()\n",
    "df_clusterprice['Cluster_id'] = df_weekdaysH['Cluster_id']\n",
    "df_clusterprice['Price_weekday'] = df_weekdaysH['Price']\n",
    "df_clusterprice['Price_sat'] = df_saturdayH['Price']\n",
    "df_clusterprice['Price_sun'] = df_sundayH['Price']\n",
    "df_clusterprice.head()"
   ]
  },
  {
   "cell_type": "code",
   "execution_count": 29,
   "metadata": {},
   "outputs": [],
   "source": [
    "#Save the files in the correct directory for shiny\n",
    "path = Path( wd_name +\"/TFM/data/\")\n",
    "name = 'Cluster_prices.csv'\n",
    "df_clusterprice.to_csv(path / name)"
   ]
  }
 ],
 "metadata": {
  "kernelspec": {
   "display_name": "Python 3",
   "language": "python",
   "name": "python3"
  },
  "language_info": {
   "codemirror_mode": {
    "name": "ipython",
    "version": 3
   },
   "file_extension": ".py",
   "mimetype": "text/x-python",
   "name": "python",
   "nbconvert_exporter": "python",
   "pygments_lexer": "ipython3",
   "version": "3.6.4"
  }
 },
 "nbformat": 4,
 "nbformat_minor": 2
}
