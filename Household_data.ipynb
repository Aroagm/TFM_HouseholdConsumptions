{
 "cells": [
  {
   "cell_type": "markdown",
   "metadata": {},
   "source": [
    "# HOUSEHOLD CONSUMPTIONS\n",
    "\n",
    "This notebook contains <br>\n",
    "[0. Import libraries and data](#0.-Import-libraries-and-data) <br>\n",
    "[1. Building the DataFrame](#1.-Building-the-DataFrame)\n",
    "\n",
    "## 0. Import libraries and data"
   ]
  },
  {
   "cell_type": "code",
   "execution_count": 1,
   "metadata": {},
   "outputs": [],
   "source": [
    "import pandas as pd\n",
    "import numpy as np\n",
    "\n",
    "import matplotlib.pyplot as plt\n",
    "%matplotlib inline"
   ]
  },
  {
   "cell_type": "code",
   "execution_count": 2,
   "metadata": {},
   "outputs": [],
   "source": [
    "# CSV file containing the household data\n",
    "#url = \"https://data.open-power-system-data.org/household_data/latest/household_data_60min_singleindex.csv\"\n",
    "url= \"household_data_60min_singleindex.csv\"\n",
    "df = pd.read_csv(url, sep=\",\")"
   ]
  },
  {
   "cell_type": "markdown",
   "metadata": {},
   "source": [
    "As the source of the data stated, the numbers are cumulative power / generation over time."
   ]
  },
  {
   "cell_type": "markdown",
   "metadata": {},
   "source": [
    "## 1. Building the DataFrame "
   ]
  },
  {
   "cell_type": "markdown",
   "metadata": {},
   "source": [
    "### Datetime information and types\n",
    "First the date type is going to be convert and some information extracted in new columns to work with it"
   ]
  },
  {
   "cell_type": "code",
   "execution_count": 3,
   "metadata": {},
   "outputs": [
    {
     "data": {
      "text/plain": [
       "Datetime    datetime64[ns]\n",
       "Year                 int64\n",
       "Date                object\n",
       "dtype: object"
      ]
     },
     "execution_count": 3,
     "metadata": {},
     "output_type": "execute_result"
    }
   ],
   "source": [
    "df['Datetime'] = df[df.columns[0]].apply(pd.to_datetime)\n",
    "df['Year'] = pd.DatetimeIndex(df['Datetime']).year\n",
    "df['Date'] = pd.DatetimeIndex(df['Datetime']).date\n",
    "df['Hour'] = pd.DatetimeIndex(df['Datetime']).hour\n",
    "df.dtypes[len(df.dtypes)-4:len(df.dtypes)-1]"
   ]
  },
  {
   "cell_type": "code",
   "execution_count": 4,
   "metadata": {},
   "outputs": [
    {
     "data": {
      "text/plain": [
       "float64           70\n",
       "object             4\n",
       "int64              2\n",
       "datetime64[ns]     1\n",
       "dtype: int64"
      ]
     },
     "execution_count": 4,
     "metadata": {},
     "output_type": "execute_result"
    }
   ],
   "source": [
    "#Check all the types\n",
    "df.dtypes.value_counts()"
   ]
  },
  {
   "cell_type": "code",
   "execution_count": 5,
   "metadata": {},
   "outputs": [
    {
     "data": {
      "text/plain": [
       "utc_timestamp          object\n",
       "cet_cest_timestamp     object\n",
       "interpolated_values    object\n",
       "Date                   object\n",
       "dtype: object"
      ]
     },
     "execution_count": 5,
     "metadata": {},
     "output_type": "execute_result"
    }
   ],
   "source": [
    "df.dtypes[df.dtypes.values == object]"
   ]
  },
  {
   "cell_type": "code",
   "execution_count": 6,
   "metadata": {},
   "outputs": [
    {
     "data": {
      "text/plain": [
       "float64           70\n",
       "object             3\n",
       "int64              2\n",
       "datetime64[ns]     2\n",
       "dtype: int64"
      ]
     },
     "execution_count": 6,
     "metadata": {},
     "output_type": "execute_result"
    }
   ],
   "source": [
    "df['Date'] = df['Date'].apply(pd.to_datetime)\n",
    "df.dtypes.value_counts()"
   ]
  },
  {
   "cell_type": "markdown",
   "metadata": {},
   "source": [
    "All the information that is going to be use have the proper time since the object columns are not neccesary anymore"
   ]
  },
  {
   "cell_type": "markdown",
   "metadata": {},
   "source": [
    "### Selecting specific data\n",
    "#### Time period\n"
   ]
  },
  {
   "cell_type": "code",
   "execution_count": 7,
   "metadata": {},
   "outputs": [
    {
     "name": "stdout",
     "output_type": "stream",
     "text": [
      "The dataframe contains information from 2015-04-15 00:00:00 to 2017-02-09 00:00:00\n"
     ]
    }
   ],
   "source": [
    "first_day = df['Date'].iloc[0]\n",
    "last_day = df['Date'].iloc[-1]\n",
    "print(\"The dataframe contains information from\", first_day, \"to\", last_day)"
   ]
  },
  {
   "cell_type": "markdown",
   "metadata": {},
   "source": [
    "To be able to study a whole natural year only the data from year 2016 is going to be studied"
   ]
  },
  {
   "cell_type": "code",
   "execution_count": 8,
   "metadata": {},
   "outputs": [
    {
     "data": {
      "text/html": [
       "<div>\n",
       "<style scoped>\n",
       "    .dataframe tbody tr th:only-of-type {\n",
       "        vertical-align: middle;\n",
       "    }\n",
       "\n",
       "    .dataframe tbody tr th {\n",
       "        vertical-align: top;\n",
       "    }\n",
       "\n",
       "    .dataframe thead th {\n",
       "        text-align: right;\n",
       "    }\n",
       "</style>\n",
       "<table border=\"1\" class=\"dataframe\">\n",
       "  <thead>\n",
       "    <tr style=\"text-align: right;\">\n",
       "      <th></th>\n",
       "      <th>utc_timestamp</th>\n",
       "      <th>cet_cest_timestamp</th>\n",
       "      <th>DE_KN_industrial1_grid_import</th>\n",
       "      <th>DE_KN_industrial1_pv_1</th>\n",
       "      <th>DE_KN_industrial1_pv_2</th>\n",
       "      <th>DE_KN_industrial2_grid_import</th>\n",
       "      <th>DE_KN_industrial2_pv_1</th>\n",
       "      <th>DE_KN_industrial2_storage_charge</th>\n",
       "      <th>DE_KN_industrial2_storage_decharge</th>\n",
       "      <th>DE_KN_industrial3_area_offices</th>\n",
       "      <th>...</th>\n",
       "      <th>DE_KN_residential6_freezer</th>\n",
       "      <th>DE_KN_residential6_grid_export</th>\n",
       "      <th>DE_KN_residential6_grid_import</th>\n",
       "      <th>DE_KN_residential6_pv</th>\n",
       "      <th>DE_KN_residential6_washing_machine</th>\n",
       "      <th>interpolated_values</th>\n",
       "      <th>Datetime</th>\n",
       "      <th>Year</th>\n",
       "      <th>Date</th>\n",
       "      <th>Hour</th>\n",
       "    </tr>\n",
       "  </thead>\n",
       "  <tbody>\n",
       "    <tr>\n",
       "      <th>6253</th>\n",
       "      <td>2016-01-01T00:00:00Z</td>\n",
       "      <td>2016-01-01T01:00:00+0100</td>\n",
       "      <td>24436.750</td>\n",
       "      <td>NaN</td>\n",
       "      <td>NaN</td>\n",
       "      <td>NaN</td>\n",
       "      <td>NaN</td>\n",
       "      <td>NaN</td>\n",
       "      <td>NaN</td>\n",
       "      <td>NaN</td>\n",
       "      <td>...</td>\n",
       "      <td>-240.999</td>\n",
       "      <td>NaN</td>\n",
       "      <td>NaN</td>\n",
       "      <td>NaN</td>\n",
       "      <td>6.932</td>\n",
       "      <td>DE_KN_residential5_dishwasher</td>\n",
       "      <td>2016-01-01 00:00:00</td>\n",
       "      <td>2016</td>\n",
       "      <td>2016-01-01</td>\n",
       "      <td>0</td>\n",
       "    </tr>\n",
       "    <tr>\n",
       "      <th>6254</th>\n",
       "      <td>2016-01-01T01:00:00Z</td>\n",
       "      <td>2016-01-01T02:00:00+0100</td>\n",
       "      <td>24448.254</td>\n",
       "      <td>NaN</td>\n",
       "      <td>NaN</td>\n",
       "      <td>NaN</td>\n",
       "      <td>NaN</td>\n",
       "      <td>NaN</td>\n",
       "      <td>NaN</td>\n",
       "      <td>NaN</td>\n",
       "      <td>...</td>\n",
       "      <td>-240.985</td>\n",
       "      <td>NaN</td>\n",
       "      <td>NaN</td>\n",
       "      <td>NaN</td>\n",
       "      <td>6.932</td>\n",
       "      <td>DE_KN_residential5_dishwasher</td>\n",
       "      <td>2016-01-01 01:00:00</td>\n",
       "      <td>2016</td>\n",
       "      <td>2016-01-01</td>\n",
       "      <td>1</td>\n",
       "    </tr>\n",
       "  </tbody>\n",
       "</table>\n",
       "<p>2 rows × 77 columns</p>\n",
       "</div>"
      ],
      "text/plain": [
       "             utc_timestamp        cet_cest_timestamp  \\\n",
       "6253  2016-01-01T00:00:00Z  2016-01-01T01:00:00+0100   \n",
       "6254  2016-01-01T01:00:00Z  2016-01-01T02:00:00+0100   \n",
       "\n",
       "      DE_KN_industrial1_grid_import  DE_KN_industrial1_pv_1  \\\n",
       "6253                      24436.750                     NaN   \n",
       "6254                      24448.254                     NaN   \n",
       "\n",
       "      DE_KN_industrial1_pv_2  DE_KN_industrial2_grid_import  \\\n",
       "6253                     NaN                            NaN   \n",
       "6254                     NaN                            NaN   \n",
       "\n",
       "      DE_KN_industrial2_pv_1  DE_KN_industrial2_storage_charge  \\\n",
       "6253                     NaN                               NaN   \n",
       "6254                     NaN                               NaN   \n",
       "\n",
       "      DE_KN_industrial2_storage_decharge  DE_KN_industrial3_area_offices  \\\n",
       "6253                                 NaN                             NaN   \n",
       "6254                                 NaN                             NaN   \n",
       "\n",
       "      ...   DE_KN_residential6_freezer  DE_KN_residential6_grid_export  \\\n",
       "6253  ...                     -240.999                             NaN   \n",
       "6254  ...                     -240.985                             NaN   \n",
       "\n",
       "      DE_KN_residential6_grid_import  DE_KN_residential6_pv  \\\n",
       "6253                             NaN                    NaN   \n",
       "6254                             NaN                    NaN   \n",
       "\n",
       "      DE_KN_residential6_washing_machine            interpolated_values  \\\n",
       "6253                               6.932  DE_KN_residential5_dishwasher   \n",
       "6254                               6.932  DE_KN_residential5_dishwasher   \n",
       "\n",
       "                Datetime  Year       Date  Hour  \n",
       "6253 2016-01-01 00:00:00  2016 2016-01-01     0  \n",
       "6254 2016-01-01 01:00:00  2016 2016-01-01     1  \n",
       "\n",
       "[2 rows x 77 columns]"
      ]
     },
     "execution_count": 8,
     "metadata": {},
     "output_type": "execute_result"
    }
   ],
   "source": [
    "df_2016 = df[df['Year']==2016]\n",
    "df_2016.head(2)"
   ]
  },
  {
   "cell_type": "markdown",
   "metadata": {},
   "source": [
    "#### Dataframe by houses\n",
    "As the dataframe contains the data for 11 households in southern Germany it is neccesary to divide it to have individual dataframes with the same structure for each house.\n",
    "To do it a new dataframe with columns names is built"
   ]
  },
  {
   "cell_type": "code",
   "execution_count": 9,
   "metadata": {},
   "outputs": [
    {
     "data": {
      "text/html": [
       "<div>\n",
       "<style scoped>\n",
       "    .dataframe tbody tr th:only-of-type {\n",
       "        vertical-align: middle;\n",
       "    }\n",
       "\n",
       "    .dataframe tbody tr th {\n",
       "        vertical-align: top;\n",
       "    }\n",
       "\n",
       "    .dataframe thead th {\n",
       "        text-align: right;\n",
       "    }\n",
       "</style>\n",
       "<table border=\"1\" class=\"dataframe\">\n",
       "  <thead>\n",
       "    <tr style=\"text-align: right;\">\n",
       "      <th></th>\n",
       "      <th>Col_name</th>\n",
       "    </tr>\n",
       "  </thead>\n",
       "  <tbody>\n",
       "    <tr>\n",
       "      <th>0</th>\n",
       "      <td>utc_timestamp</td>\n",
       "    </tr>\n",
       "    <tr>\n",
       "      <th>1</th>\n",
       "      <td>cet_cest_timestamp</td>\n",
       "    </tr>\n",
       "    <tr>\n",
       "      <th>2</th>\n",
       "      <td>DE_KN_industrial1_grid_import</td>\n",
       "    </tr>\n",
       "    <tr>\n",
       "      <th>3</th>\n",
       "      <td>DE_KN_industrial1_pv_1</td>\n",
       "    </tr>\n",
       "    <tr>\n",
       "      <th>4</th>\n",
       "      <td>DE_KN_industrial1_pv_2</td>\n",
       "    </tr>\n",
       "  </tbody>\n",
       "</table>\n",
       "</div>"
      ],
      "text/plain": [
       "                        Col_name\n",
       "0                  utc_timestamp\n",
       "1             cet_cest_timestamp\n",
       "2  DE_KN_industrial1_grid_import\n",
       "3         DE_KN_industrial1_pv_1\n",
       "4         DE_KN_industrial1_pv_2"
      ]
     },
     "execution_count": 9,
     "metadata": {},
     "output_type": "execute_result"
    }
   ],
   "source": [
    "col_names= pd.DataFrame(list(df),columns=['Col_name'])\n",
    "col_names.head()"
   ]
  },
  {
   "cell_type": "markdown",
   "metadata": {},
   "source": [
    "The structure of the names of the columns is several concepts separated by _ symbol. The house type and number are in the 3rd field and the following concepts describe the type of comsuption, appliances or charges.<br><br>\n",
    "The next block contains the definition of functions to divide the column names and extract the necessary information."
   ]
  },
  {
   "cell_type": "code",
   "execution_count": 10,
   "metadata": {},
   "outputs": [],
   "source": [
    "def gethousenumber(col_name):\n",
    "    fields = str(col_name).split(\"_\")\n",
    "    house_field = 2\n",
    "    house_num = fields[house_field][-1] if len(fields)>house_field else 0\n",
    "    return int(house_num) if str(house_num).isdigit() else 0\n",
    "\n",
    "def getconcept(col_name):\n",
    "    fields = str(col_name).split(\"_\")\n",
    "    fields_num = len(fields)\n",
    "    fixed_fields = 3\n",
    "    field = list(range(fixed_fields,fields_num))\n",
    "    return str(''.join([fields[num] for num in field]))\n",
    "\n",
    "def residential(col_name):\n",
    "    fields = str(col_name).split(\"_\")\n",
    "    house_field = 2\n",
    "    house_type = fields[house_field][:-1] if len(fields)>house_field else 0\n",
    "    return int(house_type == \"residential\")"
   ]
  },
  {
   "cell_type": "markdown",
   "metadata": {},
   "source": [
    "With the functions new columns are created to contain the information about the house number, the consumption concept and whether is residential."
   ]
  },
  {
   "cell_type": "code",
   "execution_count": 11,
   "metadata": {},
   "outputs": [
    {
     "data": {
      "text/html": [
       "<div>\n",
       "<style scoped>\n",
       "    .dataframe tbody tr th:only-of-type {\n",
       "        vertical-align: middle;\n",
       "    }\n",
       "\n",
       "    .dataframe tbody tr th {\n",
       "        vertical-align: top;\n",
       "    }\n",
       "\n",
       "    .dataframe thead th {\n",
       "        text-align: right;\n",
       "    }\n",
       "</style>\n",
       "<table border=\"1\" class=\"dataframe\">\n",
       "  <thead>\n",
       "    <tr style=\"text-align: right;\">\n",
       "      <th></th>\n",
       "      <th>Col_name</th>\n",
       "      <th>House_num</th>\n",
       "      <th>Concept</th>\n",
       "      <th>Residential</th>\n",
       "    </tr>\n",
       "  </thead>\n",
       "  <tbody>\n",
       "    <tr>\n",
       "      <th>59</th>\n",
       "      <td>DE_KN_residential4_refrigerator</td>\n",
       "      <td>4</td>\n",
       "      <td>refrigerator</td>\n",
       "      <td>1</td>\n",
       "    </tr>\n",
       "    <tr>\n",
       "      <th>42</th>\n",
       "      <td>DE_KN_residential2_heating</td>\n",
       "      <td>2</td>\n",
       "      <td>heating</td>\n",
       "      <td>1</td>\n",
       "    </tr>\n",
       "    <tr>\n",
       "      <th>74</th>\n",
       "      <td>Year</td>\n",
       "      <td>0</td>\n",
       "      <td></td>\n",
       "      <td>0</td>\n",
       "    </tr>\n",
       "    <tr>\n",
       "      <th>21</th>\n",
       "      <td>DE_KN_industrial3_facility_diffusion_tecnofirmes</td>\n",
       "      <td>3</td>\n",
       "      <td>facilitydiffusiontecnofirmes</td>\n",
       "      <td>0</td>\n",
       "    </tr>\n",
       "    <tr>\n",
       "      <th>57</th>\n",
       "      <td>DE_KN_residential4_heat_pump</td>\n",
       "      <td>4</td>\n",
       "      <td>heatpump</td>\n",
       "      <td>1</td>\n",
       "    </tr>\n",
       "  </tbody>\n",
       "</table>\n",
       "</div>"
      ],
      "text/plain": [
       "                                            Col_name  House_num  \\\n",
       "59                   DE_KN_residential4_refrigerator          4   \n",
       "42                        DE_KN_residential2_heating          2   \n",
       "74                                              Year          0   \n",
       "21  DE_KN_industrial3_facility_diffusion_tecnofirmes          3   \n",
       "57                      DE_KN_residential4_heat_pump          4   \n",
       "\n",
       "                         Concept  Residential  \n",
       "59                  refrigerator            1  \n",
       "42                       heating            1  \n",
       "74                                          0  \n",
       "21  facilitydiffusiontecnofirmes            0  \n",
       "57                      heatpump            1  "
      ]
     },
     "execution_count": 11,
     "metadata": {},
     "output_type": "execute_result"
    }
   ],
   "source": [
    "col_names['House_num'] = col_names['Col_name'].apply(gethousenumber)\n",
    "col_names['Concept'] = col_names['Col_name'].apply(getconcept)\n",
    "col_names['Residential'] = col_names['Col_name'].apply(residential)\n",
    "col_names.sample(5)"
   ]
  },
  {
   "cell_type": "code",
   "execution_count": 12,
   "metadata": {},
   "outputs": [
    {
     "data": {
      "text/plain": [
       "Col_name       object\n",
       "House_num       int64\n",
       "Concept        object\n",
       "Residential     int64\n",
       "dtype: object"
      ]
     },
     "execution_count": 12,
     "metadata": {},
     "output_type": "execute_result"
    }
   ],
   "source": [
    "col_names.dtypes"
   ]
  },
  {
   "cell_type": "markdown",
   "metadata": {},
   "source": [
    "It is neccesary to define a function to obtain the list of columns depending on the number of the house. With that list the dataframe containing all the data can be cutted into smaller ones, one for each house under study. <br> <br>\n",
    "For the project only the residential households are going to be studied since the purpose of the project is to obtain recommendations for electrical household appliances. That's the reason residential is set True in the next function."
   ]
  },
  {
   "cell_type": "code",
   "execution_count": 13,
   "metadata": {},
   "outputs": [],
   "source": [
    "def df_byhouse(extraction_df, house_num):\n",
    "    residential = True\n",
    "    condition1 = col_names['Residential']== int(residential)\n",
    "    condition2 = col_names['House_num']== house_num\n",
    "    df_house = col_names[condition1 & condition2]\n",
    "    #lists with the columns name and the equivalent name with only the concept\n",
    "    col_list = list(df_house['Col_name'])\n",
    "    col_list_concepts = list(df_house['Concept'])\n",
    "    col_time = ['Datetime','Date','Year','Hour']\n",
    "    col_list = col_time + col_list\n",
    "    col_list_concepts = col_time + col_list_concepts\n",
    "    #dataframe with only the columns from the input house\n",
    "    df_byhouse = extraction_df[col_list]\n",
    "    df_byhouse.columns = col_list_concepts\n",
    "    return df_byhouse"
   ]
  },
  {
   "cell_type": "markdown",
   "metadata": {},
   "source": [
    "The function takes the number of the house and the dataframe from which the data wants to be extracted. It brings back a dataframe containing only the columns from the house which number is given as input. Also the columns are rename to show only the concept since now there is no ambiguity."
   ]
  },
  {
   "cell_type": "code",
   "execution_count": 14,
   "metadata": {
    "scrolled": true
   },
   "outputs": [
    {
     "data": {
      "text/html": [
       "<div>\n",
       "<style scoped>\n",
       "    .dataframe tbody tr th:only-of-type {\n",
       "        vertical-align: middle;\n",
       "    }\n",
       "\n",
       "    .dataframe tbody tr th {\n",
       "        vertical-align: top;\n",
       "    }\n",
       "\n",
       "    .dataframe thead th {\n",
       "        text-align: right;\n",
       "    }\n",
       "</style>\n",
       "<table border=\"1\" class=\"dataframe\">\n",
       "  <thead>\n",
       "    <tr style=\"text-align: right;\">\n",
       "      <th></th>\n",
       "      <th>Datetime</th>\n",
       "      <th>Date</th>\n",
       "      <th>Year</th>\n",
       "      <th>Hour</th>\n",
       "      <th>circulationpump</th>\n",
       "      <th>dishwasher</th>\n",
       "      <th>freezer</th>\n",
       "      <th>gridimport</th>\n",
       "      <th>heating</th>\n",
       "      <th>washingmachine</th>\n",
       "    </tr>\n",
       "  </thead>\n",
       "  <tbody>\n",
       "    <tr>\n",
       "      <th>6253</th>\n",
       "      <td>2016-01-01 00:00:00</td>\n",
       "      <td>2016-01-01</td>\n",
       "      <td>2016</td>\n",
       "      <td>0</td>\n",
       "      <td>236.750</td>\n",
       "      <td>NaN</td>\n",
       "      <td>NaN</td>\n",
       "      <td>1495.785</td>\n",
       "      <td>NaN</td>\n",
       "      <td>NaN</td>\n",
       "    </tr>\n",
       "    <tr>\n",
       "      <th>6254</th>\n",
       "      <td>2016-01-01 01:00:00</td>\n",
       "      <td>2016-01-01</td>\n",
       "      <td>2016</td>\n",
       "      <td>1</td>\n",
       "      <td>236.803</td>\n",
       "      <td>NaN</td>\n",
       "      <td>NaN</td>\n",
       "      <td>1495.945</td>\n",
       "      <td>NaN</td>\n",
       "      <td>NaN</td>\n",
       "    </tr>\n",
       "    <tr>\n",
       "      <th>6255</th>\n",
       "      <td>2016-01-01 02:00:00</td>\n",
       "      <td>2016-01-01</td>\n",
       "      <td>2016</td>\n",
       "      <td>2</td>\n",
       "      <td>236.855</td>\n",
       "      <td>NaN</td>\n",
       "      <td>NaN</td>\n",
       "      <td>1496.145</td>\n",
       "      <td>NaN</td>\n",
       "      <td>NaN</td>\n",
       "    </tr>\n",
       "    <tr>\n",
       "      <th>6256</th>\n",
       "      <td>2016-01-01 03:00:00</td>\n",
       "      <td>2016-01-01</td>\n",
       "      <td>2016</td>\n",
       "      <td>3</td>\n",
       "      <td>236.919</td>\n",
       "      <td>NaN</td>\n",
       "      <td>NaN</td>\n",
       "      <td>1496.260</td>\n",
       "      <td>NaN</td>\n",
       "      <td>NaN</td>\n",
       "    </tr>\n",
       "    <tr>\n",
       "      <th>6257</th>\n",
       "      <td>2016-01-01 04:00:00</td>\n",
       "      <td>2016-01-01</td>\n",
       "      <td>2016</td>\n",
       "      <td>4</td>\n",
       "      <td>236.998</td>\n",
       "      <td>NaN</td>\n",
       "      <td>NaN</td>\n",
       "      <td>1496.410</td>\n",
       "      <td>NaN</td>\n",
       "      <td>NaN</td>\n",
       "    </tr>\n",
       "  </tbody>\n",
       "</table>\n",
       "</div>"
      ],
      "text/plain": [
       "                Datetime       Date  Year  Hour  circulationpump  dishwasher  \\\n",
       "6253 2016-01-01 00:00:00 2016-01-01  2016     0          236.750         NaN   \n",
       "6254 2016-01-01 01:00:00 2016-01-01  2016     1          236.803         NaN   \n",
       "6255 2016-01-01 02:00:00 2016-01-01  2016     2          236.855         NaN   \n",
       "6256 2016-01-01 03:00:00 2016-01-01  2016     3          236.919         NaN   \n",
       "6257 2016-01-01 04:00:00 2016-01-01  2016     4          236.998         NaN   \n",
       "\n",
       "      freezer  gridimport  heating  washingmachine  \n",
       "6253      NaN    1495.785      NaN             NaN  \n",
       "6254      NaN    1495.945      NaN             NaN  \n",
       "6255      NaN    1496.145      NaN             NaN  \n",
       "6256      NaN    1496.260      NaN             NaN  \n",
       "6257      NaN    1496.410      NaN             NaN  "
      ]
     },
     "execution_count": 14,
     "metadata": {},
     "output_type": "execute_result"
    }
   ],
   "source": [
    "df_residential2 = df_byhouse(df_2016,2)\n",
    "df_residential2.head()"
   ]
  },
  {
   "cell_type": "markdown",
   "metadata": {},
   "source": [
    "This function will be use later on to treat and save the data but first the values need to be cleaned."
   ]
  },
  {
   "cell_type": "markdown",
   "metadata": {},
   "source": [
    "### Handle the missing values\n",
    "The first step is to assess how many missing values are in the dataframe\n"
   ]
  },
  {
   "cell_type": "code",
   "execution_count": 15,
   "metadata": {},
   "outputs": [],
   "source": [
    "def nan_in_df(df):\n",
    "    nan_count = len(df) - df.count()\n",
    "    return nan_count"
   ]
  },
  {
   "cell_type": "code",
   "execution_count": 16,
   "metadata": {},
   "outputs": [
    {
     "data": {
      "text/plain": [
       "utc_timestamp                          0\n",
       "Year                                   0\n",
       "Datetime                               0\n",
       "Date                                   0\n",
       "Hour                                   0\n",
       "cet_cest_timestamp                     0\n",
       "DE_KN_residential4_refrigerator       68\n",
       "DE_KN_residential4_dishwasher         71\n",
       "DE_KN_residential4_washing_machine    71\n",
       "DE_KN_residential4_heat_pump          71\n",
       "dtype: int64"
      ]
     },
     "execution_count": 16,
     "metadata": {},
     "output_type": "execute_result"
    }
   ],
   "source": [
    "nan_in_df(df_2016).sort_values()[:10]"
   ]
  },
  {
   "cell_type": "markdown",
   "metadata": {},
   "source": [
    "The house with the less NaN values is the number 4 so it is going to be inspect in detail. Also is important to remember that for the purpose of the project the data that needs to be taken special attention is the dishwasher and the washing machine values."
   ]
  },
  {
   "cell_type": "code",
   "execution_count": 17,
   "metadata": {},
   "outputs": [
    {
     "data": {
      "text/plain": [
       "[<matplotlib.lines.Line2D at 0x1a95cdc8080>]"
      ]
     },
     "execution_count": 17,
     "metadata": {},
     "output_type": "execute_result"
    },
    {
     "data": {
      "image/png": "[encoded data removed]",
      "text/plain": [
       "<matplotlib.figure.Figure at 0x1a95ccef160>"
      ]
     },
     "metadata": {},
     "output_type": "display_data"
    }
   ],
   "source": [
    "residential4= df_byhouse(df_2016,4)\n",
    "plt.plot(residential4['Date'],residential4['dishwasher'])"
   ]
  },
  {
   "cell_type": "code",
   "execution_count": 18,
   "metadata": {},
   "outputs": [],
   "source": [
    "#Function to filter to help explore specific date and concept\n",
    "def filter_greaterdate(df,input_date,concept):\n",
    "    filter_date = pd.to_datetime(input_date)\n",
    "    col_list = list(df.columns[:3]) + [concept]\n",
    "    return df[df['Date'] > filter_date][col_list]"
   ]
  },
  {
   "cell_type": "code",
   "execution_count": 19,
   "metadata": {},
   "outputs": [
    {
     "data": {
      "text/html": [
       "<div>\n",
       "<style scoped>\n",
       "    .dataframe tbody tr th:only-of-type {\n",
       "        vertical-align: middle;\n",
       "    }\n",
       "\n",
       "    .dataframe tbody tr th {\n",
       "        vertical-align: top;\n",
       "    }\n",
       "\n",
       "    .dataframe thead th {\n",
       "        text-align: right;\n",
       "    }\n",
       "</style>\n",
       "<table border=\"1\" class=\"dataframe\">\n",
       "  <thead>\n",
       "    <tr style=\"text-align: right;\">\n",
       "      <th></th>\n",
       "      <th>Datetime</th>\n",
       "      <th>Date</th>\n",
       "      <th>Year</th>\n",
       "      <th>dishwasher</th>\n",
       "    </tr>\n",
       "    <tr>\n",
       "      <th>Date</th>\n",
       "      <th></th>\n",
       "      <th></th>\n",
       "      <th></th>\n",
       "      <th></th>\n",
       "    </tr>\n",
       "  </thead>\n",
       "  <tbody>\n",
       "    <tr>\n",
       "      <th>2</th>\n",
       "      <td>2</td>\n",
       "      <td>2</td>\n",
       "      <td>2</td>\n",
       "      <td>0</td>\n",
       "    </tr>\n",
       "    <tr>\n",
       "      <th>4</th>\n",
       "      <td>54</td>\n",
       "      <td>54</td>\n",
       "      <td>54</td>\n",
       "      <td>0</td>\n",
       "    </tr>\n",
       "    <tr>\n",
       "      <th>10</th>\n",
       "      <td>12</td>\n",
       "      <td>12</td>\n",
       "      <td>12</td>\n",
       "      <td>0</td>\n",
       "    </tr>\n",
       "    <tr>\n",
       "      <th>12</th>\n",
       "      <td>3</td>\n",
       "      <td>3</td>\n",
       "      <td>3</td>\n",
       "      <td>0</td>\n",
       "    </tr>\n",
       "  </tbody>\n",
       "</table>\n",
       "</div>"
      ],
      "text/plain": [
       "      Datetime  Date  Year  dishwasher\n",
       "Date                                  \n",
       "2            2     2     2           0\n",
       "4           54    54    54           0\n",
       "10          12    12    12           0\n",
       "12           3     3     3           0"
      ]
     },
     "execution_count": 19,
     "metadata": {},
     "output_type": "execute_result"
    }
   ],
   "source": [
    "filtered_r4 = filter_greaterdate(residential4, '31-12-2015', 'dishwasher')\n",
    "gaps_r4 = filtered_r4[filtered_r4['dishwasher'].isnull()]\n",
    "\n",
    "#Check which months have NaN values\n",
    "months = gaps_r4['Date'].map(lambda x: x.month)\n",
    "gaps_r4.groupby(months).count()"
   ]
  },
  {
   "cell_type": "markdown",
   "metadata": {},
   "source": [
    "There are 4 months with gaps and the greater is in April so that period is going to be study as example to check which method is better to use with the NaN values"
   ]
  },
  {
   "cell_type": "code",
   "execution_count": 20,
   "metadata": {},
   "outputs": [
    {
     "data": {
      "text/plain": [
       "[<matplotlib.lines.Line2D at 0x1a95cf134a8>]"
      ]
     },
     "execution_count": 20,
     "metadata": {},
     "output_type": "execute_result"
    },
    {
     "data": {
      "image/png": "[encoded data removed]",
      "text/plain": [
       "<matplotlib.figure.Figure at 0x1a95cee7320>"
      ]
     },
     "metadata": {},
     "output_type": "display_data"
    }
   ],
   "source": [
    "#Select x previous and x subsequent values to study the shape of the data\n",
    "gaps_index = gaps_r4[months==4].index\n",
    "num_values = 80\n",
    "init_val = gaps_index[0]-num_values\n",
    "end_val = gaps_index[len(gaps_index)-1]+num_values\n",
    "april_gaps = filtered_r4.loc[init_val:end_val]\n",
    "\n",
    "#Plot the data to visualize\n",
    "plt.figure(figsize=(30,8))\n",
    "plt.plot(april_gaps['Date'],april_gaps['dishwasher'])"
   ]
  },
  {
   "cell_type": "markdown",
   "metadata": {},
   "source": [
    "Because there is no data in that periods it is assumed there is no consumption, therefore the cumulative is constant. The NaN are going to be substitute by the previous value, using the method *ffill* from the *fillna* function."
   ]
  },
  {
   "cell_type": "code",
   "execution_count": 21,
   "metadata": {},
   "outputs": [
    {
     "data": {
      "text/html": [
       "<div>\n",
       "<style scoped>\n",
       "    .dataframe tbody tr th:only-of-type {\n",
       "        vertical-align: middle;\n",
       "    }\n",
       "\n",
       "    .dataframe tbody tr th {\n",
       "        vertical-align: top;\n",
       "    }\n",
       "\n",
       "    .dataframe thead th {\n",
       "        text-align: right;\n",
       "    }\n",
       "</style>\n",
       "<table border=\"1\" class=\"dataframe\">\n",
       "  <thead>\n",
       "    <tr style=\"text-align: right;\">\n",
       "      <th></th>\n",
       "      <th>Datetime</th>\n",
       "      <th>Date</th>\n",
       "      <th>Year</th>\n",
       "      <th>dishwasher</th>\n",
       "      <th>dishwasher_clean</th>\n",
       "    </tr>\n",
       "  </thead>\n",
       "  <tbody>\n",
       "    <tr>\n",
       "      <th>8954</th>\n",
       "      <td>2016-04-22 13:00:00</td>\n",
       "      <td>2016-04-22</td>\n",
       "      <td>2016</td>\n",
       "      <td>59.757</td>\n",
       "      <td>59.757</td>\n",
       "    </tr>\n",
       "    <tr>\n",
       "      <th>8955</th>\n",
       "      <td>2016-04-22 14:00:00</td>\n",
       "      <td>2016-04-22</td>\n",
       "      <td>2016</td>\n",
       "      <td>59.757</td>\n",
       "      <td>59.757</td>\n",
       "    </tr>\n",
       "    <tr>\n",
       "      <th>8956</th>\n",
       "      <td>2016-04-22 15:00:00</td>\n",
       "      <td>2016-04-22</td>\n",
       "      <td>2016</td>\n",
       "      <td>NaN</td>\n",
       "      <td>59.757</td>\n",
       "    </tr>\n",
       "    <tr>\n",
       "      <th>8957</th>\n",
       "      <td>2016-04-22 16:00:00</td>\n",
       "      <td>2016-04-22</td>\n",
       "      <td>2016</td>\n",
       "      <td>NaN</td>\n",
       "      <td>59.757</td>\n",
       "    </tr>\n",
       "  </tbody>\n",
       "</table>\n",
       "</div>"
      ],
      "text/plain": [
       "                Datetime       Date  Year  dishwasher  dishwasher_clean\n",
       "8954 2016-04-22 13:00:00 2016-04-22  2016      59.757            59.757\n",
       "8955 2016-04-22 14:00:00 2016-04-22  2016      59.757            59.757\n",
       "8956 2016-04-22 15:00:00 2016-04-22  2016         NaN            59.757\n",
       "8957 2016-04-22 16:00:00 2016-04-22  2016         NaN            59.757"
      ]
     },
     "execution_count": 21,
     "metadata": {},
     "output_type": "execute_result"
    }
   ],
   "source": [
    "filtered_r4['dishwasher_clean'] = filtered_r4['dishwasher'].fillna(method='ffill')\n",
    "filtered_r4.iloc[2701:2705]"
   ]
  },
  {
   "cell_type": "code",
   "execution_count": 22,
   "metadata": {},
   "outputs": [
    {
     "data": {
      "text/plain": [
       "[<matplotlib.lines.Line2D at 0x1a95d675eb8>]"
      ]
     },
     "execution_count": 22,
     "metadata": {},
     "output_type": "execute_result"
    },
    {
     "data": {
      "image/png": "[encoded data removed]",
      "text/plain": [
       "<matplotlib.figure.Figure at 0x1a95cea1c88>"
      ]
     },
     "metadata": {},
     "output_type": "display_data"
    }
   ],
   "source": [
    "#Visualize the data after fillna\n",
    "plt.figure(figsize=(30,8))\n",
    "plt.plot(april_gaps['Datetime'],april_gaps['dishwasher'])\n",
    "dates_nan = april_gaps[april_gaps['dishwasher'].isnull()]['Datetime'].values\n",
    "y = filtered_r4[filtered_r4['Datetime'].isin(dates_nan)]['dishwasher_clean']\n",
    "plt.plot(dates_nan,y, color='r')"
   ]
  },
  {
   "cell_type": "markdown",
   "metadata": {},
   "source": [
    "Once the method makes sense for the data under study, it is going to be applied for the whole dataframe"
   ]
  },
  {
   "cell_type": "code",
   "execution_count": 23,
   "metadata": {},
   "outputs": [
    {
     "data": {
      "text/html": [
       "<div>\n",
       "<style scoped>\n",
       "    .dataframe tbody tr th:only-of-type {\n",
       "        vertical-align: middle;\n",
       "    }\n",
       "\n",
       "    .dataframe tbody tr th {\n",
       "        vertical-align: top;\n",
       "    }\n",
       "\n",
       "    .dataframe thead th {\n",
       "        text-align: right;\n",
       "    }\n",
       "</style>\n",
       "<table border=\"1\" class=\"dataframe\">\n",
       "  <thead>\n",
       "    <tr style=\"text-align: right;\">\n",
       "      <th></th>\n",
       "      <th>utc_timestamp</th>\n",
       "      <th>cet_cest_timestamp</th>\n",
       "      <th>DE_KN_industrial1_grid_import</th>\n",
       "      <th>DE_KN_industrial1_pv_1</th>\n",
       "      <th>DE_KN_industrial1_pv_2</th>\n",
       "      <th>DE_KN_industrial2_grid_import</th>\n",
       "      <th>DE_KN_industrial2_pv_1</th>\n",
       "      <th>DE_KN_industrial2_storage_charge</th>\n",
       "      <th>DE_KN_industrial2_storage_decharge</th>\n",
       "      <th>DE_KN_industrial3_area_offices</th>\n",
       "      <th>...</th>\n",
       "      <th>DE_KN_residential6_freezer</th>\n",
       "      <th>DE_KN_residential6_grid_export</th>\n",
       "      <th>DE_KN_residential6_grid_import</th>\n",
       "      <th>DE_KN_residential6_pv</th>\n",
       "      <th>DE_KN_residential6_washing_machine</th>\n",
       "      <th>interpolated_values</th>\n",
       "      <th>Datetime</th>\n",
       "      <th>Year</th>\n",
       "      <th>Date</th>\n",
       "      <th>Hour</th>\n",
       "    </tr>\n",
       "  </thead>\n",
       "  <tbody>\n",
       "    <tr>\n",
       "      <th>6253</th>\n",
       "      <td>2016-01-01T00:00:00Z</td>\n",
       "      <td>2016-01-01T01:00:00+0100</td>\n",
       "      <td>24436.75</td>\n",
       "      <td>NaN</td>\n",
       "      <td>NaN</td>\n",
       "      <td>NaN</td>\n",
       "      <td>NaN</td>\n",
       "      <td>NaN</td>\n",
       "      <td>NaN</td>\n",
       "      <td>NaN</td>\n",
       "      <td>...</td>\n",
       "      <td>-240.999</td>\n",
       "      <td>NaN</td>\n",
       "      <td>NaN</td>\n",
       "      <td>NaN</td>\n",
       "      <td>6.932</td>\n",
       "      <td>DE_KN_residential5_dishwasher</td>\n",
       "      <td>2016-01-01</td>\n",
       "      <td>2016</td>\n",
       "      <td>2016-01-01</td>\n",
       "      <td>0</td>\n",
       "    </tr>\n",
       "  </tbody>\n",
       "</table>\n",
       "<p>1 rows × 77 columns</p>\n",
       "</div>"
      ],
      "text/plain": [
       "             utc_timestamp        cet_cest_timestamp  \\\n",
       "6253  2016-01-01T00:00:00Z  2016-01-01T01:00:00+0100   \n",
       "\n",
       "      DE_KN_industrial1_grid_import  DE_KN_industrial1_pv_1  \\\n",
       "6253                       24436.75                     NaN   \n",
       "\n",
       "      DE_KN_industrial1_pv_2  DE_KN_industrial2_grid_import  \\\n",
       "6253                     NaN                            NaN   \n",
       "\n",
       "      DE_KN_industrial2_pv_1  DE_KN_industrial2_storage_charge  \\\n",
       "6253                     NaN                               NaN   \n",
       "\n",
       "      DE_KN_industrial2_storage_decharge  DE_KN_industrial3_area_offices  \\\n",
       "6253                                 NaN                             NaN   \n",
       "\n",
       "      ...   DE_KN_residential6_freezer  DE_KN_residential6_grid_export  \\\n",
       "6253  ...                     -240.999                             NaN   \n",
       "\n",
       "      DE_KN_residential6_grid_import  DE_KN_residential6_pv  \\\n",
       "6253                             NaN                    NaN   \n",
       "\n",
       "      DE_KN_residential6_washing_machine            interpolated_values  \\\n",
       "6253                               6.932  DE_KN_residential5_dishwasher   \n",
       "\n",
       "       Datetime  Year       Date  Hour  \n",
       "6253 2016-01-01  2016 2016-01-01     0  \n",
       "\n",
       "[1 rows x 77 columns]"
      ]
     },
     "execution_count": 23,
     "metadata": {},
     "output_type": "execute_result"
    }
   ],
   "source": [
    "df_2016 = df_2016.fillna(method='ffill')\n",
    "df_2016.head(1)"
   ]
  },
  {
   "cell_type": "markdown",
   "metadata": {},
   "source": [
    "This method is not valid for the columns that have no values at the begginning of the year. In that case we are going to assume that the first value of data is the valid one, so we apply the bfill method of the function.  "
   ]
  },
  {
   "cell_type": "code",
   "execution_count": 36,
   "metadata": {},
   "outputs": [
    {
     "data": {
      "text/html": [
       "<div>\n",
       "<style scoped>\n",
       "    .dataframe tbody tr th:only-of-type {\n",
       "        vertical-align: middle;\n",
       "    }\n",
       "\n",
       "    .dataframe tbody tr th {\n",
       "        vertical-align: top;\n",
       "    }\n",
       "\n",
       "    .dataframe thead th {\n",
       "        text-align: right;\n",
       "    }\n",
       "</style>\n",
       "<table border=\"1\" class=\"dataframe\">\n",
       "  <thead>\n",
       "    <tr style=\"text-align: right;\">\n",
       "      <th></th>\n",
       "      <th>utc_timestamp</th>\n",
       "      <th>cet_cest_timestamp</th>\n",
       "      <th>DE_KN_industrial1_grid_import</th>\n",
       "      <th>DE_KN_industrial1_pv_1</th>\n",
       "      <th>DE_KN_industrial1_pv_2</th>\n",
       "      <th>DE_KN_industrial2_grid_import</th>\n",
       "      <th>DE_KN_industrial2_pv_1</th>\n",
       "      <th>DE_KN_industrial2_storage_charge</th>\n",
       "      <th>DE_KN_industrial2_storage_decharge</th>\n",
       "      <th>DE_KN_industrial3_area_offices</th>\n",
       "      <th>...</th>\n",
       "      <th>DE_KN_residential6_freezer</th>\n",
       "      <th>DE_KN_residential6_grid_export</th>\n",
       "      <th>DE_KN_residential6_grid_import</th>\n",
       "      <th>DE_KN_residential6_pv</th>\n",
       "      <th>DE_KN_residential6_washing_machine</th>\n",
       "      <th>interpolated_values</th>\n",
       "      <th>Datetime</th>\n",
       "      <th>Year</th>\n",
       "      <th>Date</th>\n",
       "      <th>Hour</th>\n",
       "    </tr>\n",
       "  </thead>\n",
       "  <tbody>\n",
       "    <tr>\n",
       "      <th>6253</th>\n",
       "      <td>2016-01-01T00:00:00Z</td>\n",
       "      <td>2016-01-01T01:00:00+0100</td>\n",
       "      <td>24436.75</td>\n",
       "      <td>412.9</td>\n",
       "      <td>3284.23</td>\n",
       "      <td>2.435</td>\n",
       "      <td>2269.545</td>\n",
       "      <td>0.0</td>\n",
       "      <td>0.0</td>\n",
       "      <td>3761.016</td>\n",
       "      <td>...</td>\n",
       "      <td>-240.999</td>\n",
       "      <td>0.4</td>\n",
       "      <td>1929.07</td>\n",
       "      <td>1361.605</td>\n",
       "      <td>6.932</td>\n",
       "      <td>DE_KN_residential5_dishwasher</td>\n",
       "      <td>2016-01-01</td>\n",
       "      <td>2016</td>\n",
       "      <td>2016-01-01</td>\n",
       "      <td>0</td>\n",
       "    </tr>\n",
       "  </tbody>\n",
       "</table>\n",
       "<p>1 rows × 77 columns</p>\n",
       "</div>"
      ],
      "text/plain": [
       "             utc_timestamp        cet_cest_timestamp  \\\n",
       "6253  2016-01-01T00:00:00Z  2016-01-01T01:00:00+0100   \n",
       "\n",
       "      DE_KN_industrial1_grid_import  DE_KN_industrial1_pv_1  \\\n",
       "6253                       24436.75                   412.9   \n",
       "\n",
       "      DE_KN_industrial1_pv_2  DE_KN_industrial2_grid_import  \\\n",
       "6253                 3284.23                          2.435   \n",
       "\n",
       "      DE_KN_industrial2_pv_1  DE_KN_industrial2_storage_charge  \\\n",
       "6253                2269.545                               0.0   \n",
       "\n",
       "      DE_KN_industrial2_storage_decharge  DE_KN_industrial3_area_offices  \\\n",
       "6253                                 0.0                        3761.016   \n",
       "\n",
       "      ...   DE_KN_residential6_freezer  DE_KN_residential6_grid_export  \\\n",
       "6253  ...                     -240.999                             0.4   \n",
       "\n",
       "      DE_KN_residential6_grid_import  DE_KN_residential6_pv  \\\n",
       "6253                         1929.07               1361.605   \n",
       "\n",
       "      DE_KN_residential6_washing_machine            interpolated_values  \\\n",
       "6253                               6.932  DE_KN_residential5_dishwasher   \n",
       "\n",
       "       Datetime  Year       Date  Hour  \n",
       "6253 2016-01-01  2016 2016-01-01     0  \n",
       "\n",
       "[1 rows x 77 columns]"
      ]
     },
     "execution_count": 36,
     "metadata": {},
     "output_type": "execute_result"
    }
   ],
   "source": [
    "df_2016 = df_2016.fillna(method='bfill')\n",
    "df_2016.head(1)"
   ]
  },
  {
   "cell_type": "markdown",
   "metadata": {},
   "source": [
    "## 2. Energy Prices"
   ]
  },
  {
   "cell_type": "markdown",
   "metadata": {},
   "source": [
    "To calculate the cost for the hourly energy consumption the prices information is neccesary. It is obtain from a csv generated from the jupyter notebook Prices_data. "
   ]
  },
  {
   "cell_type": "code",
   "execution_count": 25,
   "metadata": {},
   "outputs": [
    {
     "data": {
      "text/plain": [
       "Datetime    datetime64[ns]\n",
       "Price              float64\n",
       "dtype: object"
      ]
     },
     "execution_count": 25,
     "metadata": {},
     "output_type": "execute_result"
    }
   ],
   "source": [
    "#Join with prices and calculate cost\n",
    "df_prices = pd.read_csv('Prices.csv', sep=\",\")\n",
    "df_prices = df_prices[['Datetime','Price']]\n",
    "df_prices['Datetime'] = pd.to_datetime(df_prices['Datetime'], format='%Y.%m.%d %H:%M')\n",
    "df_prices.dtypes"
   ]
  },
  {
   "cell_type": "markdown",
   "metadata": {},
   "source": [
    "That hourly prices are not the final prices paid by the consumers at household level because taxes have to be taken into account. An assumption is going to be made to try to adjust the prices based in information from different sources (for detailed information see the readme file): the price will be increased by a 1.8 factor.\n",
    "\n"
   ]
  },
  {
   "cell_type": "code",
   "execution_count": 26,
   "metadata": {
    "scrolled": true
   },
   "outputs": [
    {
     "data": {
      "text/html": [
       "<div>\n",
       "<style scoped>\n",
       "    .dataframe tbody tr th:only-of-type {\n",
       "        vertical-align: middle;\n",
       "    }\n",
       "\n",
       "    .dataframe tbody tr th {\n",
       "        vertical-align: top;\n",
       "    }\n",
       "\n",
       "    .dataframe thead th {\n",
       "        text-align: right;\n",
       "    }\n",
       "</style>\n",
       "<table border=\"1\" class=\"dataframe\">\n",
       "  <thead>\n",
       "    <tr style=\"text-align: right;\">\n",
       "      <th></th>\n",
       "      <th>Datetime</th>\n",
       "      <th>Price</th>\n",
       "    </tr>\n",
       "  </thead>\n",
       "  <tbody>\n",
       "    <tr>\n",
       "      <th>0</th>\n",
       "      <td>2016-01-01 00:00:00</td>\n",
       "      <td>40.302</td>\n",
       "    </tr>\n",
       "    <tr>\n",
       "      <th>1</th>\n",
       "      <td>2016-01-01 01:00:00</td>\n",
       "      <td>37.062</td>\n",
       "    </tr>\n",
       "    <tr>\n",
       "      <th>2</th>\n",
       "      <td>2016-01-01 02:00:00</td>\n",
       "      <td>30.258</td>\n",
       "    </tr>\n",
       "    <tr>\n",
       "      <th>3</th>\n",
       "      <td>2016-01-01 03:00:00</td>\n",
       "      <td>31.338</td>\n",
       "    </tr>\n",
       "    <tr>\n",
       "      <th>4</th>\n",
       "      <td>2016-01-01 04:00:00</td>\n",
       "      <td>30.636</td>\n",
       "    </tr>\n",
       "  </tbody>\n",
       "</table>\n",
       "</div>"
      ],
      "text/plain": [
       "             Datetime   Price\n",
       "0 2016-01-01 00:00:00  40.302\n",
       "1 2016-01-01 01:00:00  37.062\n",
       "2 2016-01-01 02:00:00  30.258\n",
       "3 2016-01-01 03:00:00  31.338\n",
       "4 2016-01-01 04:00:00  30.636"
      ]
     },
     "execution_count": 26,
     "metadata": {},
     "output_type": "execute_result"
    }
   ],
   "source": [
    "df_prices['Price']=df_prices['Price']*1.8\n",
    "df_prices.head()"
   ]
  },
  {
   "cell_type": "code",
   "execution_count": 27,
   "metadata": {},
   "outputs": [],
   "source": [
    "df_2016_prices = df_2016.merge(df_prices)"
   ]
  },
  {
   "cell_type": "markdown",
   "metadata": {},
   "source": [
    "### Costs per appliance\n",
    "The consumption is aggregated so to know the cost of each hour that the appliance had been working a new column is added with the difference. <br>\n",
    "To have the data by house, the function df_byhouse is going to be used, but it is neccesary to add the price column."
   ]
  },
  {
   "cell_type": "code",
   "execution_count": 28,
   "metadata": {},
   "outputs": [],
   "source": [
    "def df_byhouse(extraction_df, house_num):\n",
    "    residential = True\n",
    "    condition1 = col_names['Residential']== int(residential)\n",
    "    condition2 = col_names['House_num']== house_num\n",
    "    df_house = col_names[condition1 & condition2]\n",
    "    #lists with the columns name and the equivalent name with only the concept\n",
    "    col_list = list(df_house['Col_name'])\n",
    "    col_list_concepts = list(df_house['Concept'])\n",
    "    col_common = ['Datetime','Date','Year','Hour','Price']\n",
    "    col_list = col_common + col_list\n",
    "    col_list_concepts = col_common + col_list_concepts\n",
    "    #dataframe with only the columns from the input house\n",
    "    df_byhouse = extraction_df[col_list]\n",
    "    df_byhouse.columns = col_list_concepts\n",
    "    return df_byhouse"
   ]
  },
  {
   "cell_type": "code",
   "execution_count": 29,
   "metadata": {},
   "outputs": [],
   "source": [
    "#Obtain a list containing all the dataframes\n",
    "list_df=list()\n",
    "for i in list(range(1,7)):\n",
    "    df=df_byhouse(df_2016_prices,i)\n",
    "    list_df.append(df)"
   ]
  },
  {
   "cell_type": "code",
   "execution_count": 30,
   "metadata": {},
   "outputs": [],
   "source": [
    "#Names for the dataframes generated for each house\n",
    "residential=list(['residential']*6)\n",
    "numbers =list(map(str,list(range(1,7))))\n",
    "list_dfnames = list(map(str.__add__,residential,numbers))"
   ]
  },
  {
   "cell_type": "code",
   "execution_count": 31,
   "metadata": {},
   "outputs": [
    {
     "name": "stderr",
     "output_type": "stream",
     "text": [
      "C:\\Users\\AROA\\Anaconda3\\lib\\site-packages\\ipykernel_launcher.py:9: SettingWithCopyWarning: \n",
      "A value is trying to be set on a copy of a slice from a DataFrame.\n",
      "Try using .loc[row_indexer,col_indexer] = value instead\n",
      "\n",
      "See the caveats in the documentation: http://pandas.pydata.org/pandas-docs/stable/indexing.html#indexing-view-versus-copy\n",
      "  if __name__ == '__main__':\n",
      "C:\\Users\\AROA\\Anaconda3\\lib\\site-packages\\ipykernel_launcher.py:10: SettingWithCopyWarning: \n",
      "A value is trying to be set on a copy of a slice from a DataFrame.\n",
      "Try using .loc[row_indexer,col_indexer] = value instead\n",
      "\n",
      "See the caveats in the documentation: http://pandas.pydata.org/pandas-docs/stable/indexing.html#indexing-view-versus-copy\n",
      "  # Remove the CWD from sys.path while we load stuff.\n"
     ]
    }
   ],
   "source": [
    "list_dfclean = list()\n",
    "conversionf = 1/1000  #the prices are in €/MWh and the consumption of the appliance in kWh\n",
    "appliances = ['dishwasher','washingmachine']\n",
    "\n",
    "for elem in list_df:\n",
    "    for app in appliances:\n",
    "        appliance_dif = app + '_dif'\n",
    "        appliance_cost = app + '_cost'\n",
    "        elem[appliance_dif]= abs(elem[app].diff(periods=-1))\n",
    "        elem[appliance_cost] = elem['Price'] * elem[appliance_dif]* conversionf\n",
    "    list_dfclean.append(elem)"
   ]
  },
  {
   "cell_type": "code",
   "execution_count": 32,
   "metadata": {},
   "outputs": [
    {
     "data": {
      "text/plain": [
       "8779    232.665\n",
       "8780    232.666\n",
       "8781    232.666\n",
       "8782    232.666\n",
       "8783    232.666\n",
       "Name: dishwasher, dtype: float64"
      ]
     },
     "execution_count": 32,
     "metadata": {},
     "output_type": "execute_result"
    }
   ],
   "source": [
    "list_dfclean[0]['dishwasher'].tail()"
   ]
  },
  {
   "cell_type": "markdown",
   "metadata": {},
   "source": [
    "Once the dataframes are generated they will be saved into csv files to be used for the Shiny App"
   ]
  },
  {
   "cell_type": "code",
   "execution_count": 33,
   "metadata": {},
   "outputs": [],
   "source": [
    "#Save the files in the correct directory for shiny\n",
    "from pathlib import Path\n",
    "\n",
    "path = Path(\"~/Documents/MASTER/TFM/data/\")\n",
    "for i in list(range(0, len(list_dfclean))):\n",
    "    name=list_dfnames[i] + '.csv'\n",
    "    list_dfclean[i].to_csv(path / name)"
   ]
  },
  {
   "cell_type": "code",
   "execution_count": 39,
   "metadata": {},
   "outputs": [
    {
     "data": {
      "text/html": [
       "<div>\n",
       "<style scoped>\n",
       "    .dataframe tbody tr th:only-of-type {\n",
       "        vertical-align: middle;\n",
       "    }\n",
       "\n",
       "    .dataframe tbody tr th {\n",
       "        vertical-align: top;\n",
       "    }\n",
       "\n",
       "    .dataframe thead th {\n",
       "        text-align: right;\n",
       "    }\n",
       "</style>\n",
       "<table border=\"1\" class=\"dataframe\">\n",
       "  <thead>\n",
       "    <tr style=\"text-align: right;\">\n",
       "      <th></th>\n",
       "      <th>Datetime</th>\n",
       "      <th>Date</th>\n",
       "      <th>Year</th>\n",
       "      <th>Hour</th>\n",
       "      <th>Price</th>\n",
       "      <th>circulationpump</th>\n",
       "      <th>dishwasher</th>\n",
       "      <th>freezer</th>\n",
       "      <th>gridimport</th>\n",
       "      <th>heating</th>\n",
       "      <th>washingmachine</th>\n",
       "      <th>dishwasher_dif</th>\n",
       "      <th>dishwasher_cost</th>\n",
       "      <th>washingmachine_dif</th>\n",
       "      <th>washingmachine_cost</th>\n",
       "    </tr>\n",
       "  </thead>\n",
       "  <tbody>\n",
       "    <tr>\n",
       "      <th>0</th>\n",
       "      <td>2016-01-01 00:00:00</td>\n",
       "      <td>2016-01-01</td>\n",
       "      <td>2016</td>\n",
       "      <td>0</td>\n",
       "      <td>40.302</td>\n",
       "      <td>236.750</td>\n",
       "      <td>153.004</td>\n",
       "      <td>93.259</td>\n",
       "      <td>1495.785</td>\n",
       "      <td>0.084</td>\n",
       "      <td>95.276</td>\n",
       "      <td>0.0</td>\n",
       "      <td>0.0</td>\n",
       "      <td>0.0</td>\n",
       "      <td>0.0</td>\n",
       "    </tr>\n",
       "    <tr>\n",
       "      <th>1</th>\n",
       "      <td>2016-01-01 01:00:00</td>\n",
       "      <td>2016-01-01</td>\n",
       "      <td>2016</td>\n",
       "      <td>1</td>\n",
       "      <td>37.062</td>\n",
       "      <td>236.803</td>\n",
       "      <td>153.004</td>\n",
       "      <td>93.259</td>\n",
       "      <td>1495.945</td>\n",
       "      <td>0.084</td>\n",
       "      <td>95.276</td>\n",
       "      <td>0.0</td>\n",
       "      <td>0.0</td>\n",
       "      <td>0.0</td>\n",
       "      <td>0.0</td>\n",
       "    </tr>\n",
       "    <tr>\n",
       "      <th>2</th>\n",
       "      <td>2016-01-01 02:00:00</td>\n",
       "      <td>2016-01-01</td>\n",
       "      <td>2016</td>\n",
       "      <td>2</td>\n",
       "      <td>30.258</td>\n",
       "      <td>236.855</td>\n",
       "      <td>153.004</td>\n",
       "      <td>93.259</td>\n",
       "      <td>1496.145</td>\n",
       "      <td>0.084</td>\n",
       "      <td>95.276</td>\n",
       "      <td>0.0</td>\n",
       "      <td>0.0</td>\n",
       "      <td>0.0</td>\n",
       "      <td>0.0</td>\n",
       "    </tr>\n",
       "    <tr>\n",
       "      <th>3</th>\n",
       "      <td>2016-01-01 03:00:00</td>\n",
       "      <td>2016-01-01</td>\n",
       "      <td>2016</td>\n",
       "      <td>3</td>\n",
       "      <td>31.338</td>\n",
       "      <td>236.919</td>\n",
       "      <td>153.004</td>\n",
       "      <td>93.259</td>\n",
       "      <td>1496.260</td>\n",
       "      <td>0.084</td>\n",
       "      <td>95.276</td>\n",
       "      <td>0.0</td>\n",
       "      <td>0.0</td>\n",
       "      <td>0.0</td>\n",
       "      <td>0.0</td>\n",
       "    </tr>\n",
       "    <tr>\n",
       "      <th>4</th>\n",
       "      <td>2016-01-01 04:00:00</td>\n",
       "      <td>2016-01-01</td>\n",
       "      <td>2016</td>\n",
       "      <td>4</td>\n",
       "      <td>30.636</td>\n",
       "      <td>236.998</td>\n",
       "      <td>153.004</td>\n",
       "      <td>93.259</td>\n",
       "      <td>1496.410</td>\n",
       "      <td>0.084</td>\n",
       "      <td>95.276</td>\n",
       "      <td>0.0</td>\n",
       "      <td>0.0</td>\n",
       "      <td>0.0</td>\n",
       "      <td>0.0</td>\n",
       "    </tr>\n",
       "  </tbody>\n",
       "</table>\n",
       "</div>"
      ],
      "text/plain": [
       "             Datetime       Date  Year  Hour   Price  circulationpump  \\\n",
       "0 2016-01-01 00:00:00 2016-01-01  2016     0  40.302          236.750   \n",
       "1 2016-01-01 01:00:00 2016-01-01  2016     1  37.062          236.803   \n",
       "2 2016-01-01 02:00:00 2016-01-01  2016     2  30.258          236.855   \n",
       "3 2016-01-01 03:00:00 2016-01-01  2016     3  31.338          236.919   \n",
       "4 2016-01-01 04:00:00 2016-01-01  2016     4  30.636          236.998   \n",
       "\n",
       "   dishwasher  freezer  gridimport  heating  washingmachine  dishwasher_dif  \\\n",
       "0     153.004   93.259    1495.785    0.084          95.276             0.0   \n",
       "1     153.004   93.259    1495.945    0.084          95.276             0.0   \n",
       "2     153.004   93.259    1496.145    0.084          95.276             0.0   \n",
       "3     153.004   93.259    1496.260    0.084          95.276             0.0   \n",
       "4     153.004   93.259    1496.410    0.084          95.276             0.0   \n",
       "\n",
       "   dishwasher_cost  washingmachine_dif  washingmachine_cost  \n",
       "0              0.0                 0.0                  0.0  \n",
       "1              0.0                 0.0                  0.0  \n",
       "2              0.0                 0.0                  0.0  \n",
       "3              0.0                 0.0                  0.0  \n",
       "4              0.0                 0.0                  0.0  "
      ]
     },
     "execution_count": 39,
     "metadata": {},
     "output_type": "execute_result"
    }
   ],
   "source": [
    "list_dfclean[1].head()"
   ]
  }
 ],
 "metadata": {
  "kernelspec": {
   "display_name": "Python 3",
   "language": "python",
   "name": "python3"
  },
  "language_info": {
   "codemirror_mode": {
    "name": "ipython",
    "version": 3
   },
   "file_extension": ".py",
   "mimetype": "text/x-python",
   "name": "python",
   "nbconvert_exporter": "python",
   "pygments_lexer": "ipython3",
   "version": "3.6.4"
  }
 },
 "nbformat": 4,
 "nbformat_minor": 2
}
