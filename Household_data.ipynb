{
 "cells": [
  {
   "cell_type": "markdown",
   "metadata": {},
   "source": [
    "# HOUSEHOLD CONSUMPTIONS\n",
    "\n",
    "This notebook contains <br>\n",
    "[0. Import libraries and data](#0.-Import-libraries-and-data) <br>\n",
    "[1. Building the DataFrame](#1.-Building-the-DataFrame) <br>\n",
    "[2. Energy prices](#2.-Energy-Prices)<br>\n",
    "[3. Recommendations](#3.-Recommendations)\n",
    "\n",
    "## 0. Import libraries and data"
   ]
  },
  {
   "cell_type": "code",
   "execution_count": 1,
   "metadata": {},
   "outputs": [],
   "source": [
    "import pandas as pd\n",
    "import numpy as np\n",
    "\n",
    "import matplotlib.pyplot as plt\n",
    "%matplotlib inline"
   ]
  },
  {
   "cell_type": "code",
   "execution_count": 2,
   "metadata": {},
   "outputs": [],
   "source": [
    "# CSV file containing the household data\n",
    "#url = \"https://data.open-power-system-data.org/household_data/latest/household_data_60min_singleindex.csv\"\n",
    "url= \"household_data_60min_singleindex.csv\"\n",
    "df = pd.read_csv(url, sep=\",\")"
   ]
  },
  {
   "cell_type": "markdown",
   "metadata": {},
   "source": [
    "As the source of the data stated, the numbers are cumulative power / generation over time."
   ]
  },
  {
   "cell_type": "markdown",
   "metadata": {},
   "source": [
    "## 1. Building the DataFrame "
   ]
  },
  {
   "cell_type": "markdown",
   "metadata": {},
   "source": [
    "### Datetime information and types\n",
    "First the date type is going to be convert and some information extracted in new columns to work with it"
   ]
  },
  {
   "cell_type": "code",
   "execution_count": 3,
   "metadata": {},
   "outputs": [
    {
     "data": {
      "text/plain": [
       "Datetime    datetime64[ns]\n",
       "Year                 int64\n",
       "Date                object\n",
       "dtype: object"
      ]
     },
     "execution_count": 3,
     "metadata": {},
     "output_type": "execute_result"
    }
   ],
   "source": [
    "df['Datetime'] = df[df.columns[0]].apply(pd.to_datetime)\n",
    "df['Year'] = pd.DatetimeIndex(df['Datetime']).year\n",
    "df['Date'] = pd.DatetimeIndex(df['Datetime']).date\n",
    "df['Hour'] = pd.DatetimeIndex(df['Datetime']).hour\n",
    "df.dtypes[len(df.dtypes)-4:len(df.dtypes)-1]"
   ]
  },
  {
   "cell_type": "code",
   "execution_count": 4,
   "metadata": {},
   "outputs": [
    {
     "data": {
      "text/plain": [
       "float64           70\n",
       "object             4\n",
       "int64              2\n",
       "datetime64[ns]     1\n",
       "dtype: int64"
      ]
     },
     "execution_count": 4,
     "metadata": {},
     "output_type": "execute_result"
    }
   ],
   "source": [
    "#Check all the types\n",
    "df.dtypes.value_counts()"
   ]
  },
  {
   "cell_type": "code",
   "execution_count": 5,
   "metadata": {},
   "outputs": [
    {
     "data": {
      "text/plain": [
       "utc_timestamp          object\n",
       "cet_cest_timestamp     object\n",
       "interpolated_values    object\n",
       "Date                   object\n",
       "dtype: object"
      ]
     },
     "execution_count": 5,
     "metadata": {},
     "output_type": "execute_result"
    }
   ],
   "source": [
    "df.dtypes[df.dtypes.values == object]"
   ]
  },
  {
   "cell_type": "code",
   "execution_count": 6,
   "metadata": {},
   "outputs": [
    {
     "data": {
      "text/plain": [
       "float64           70\n",
       "object             3\n",
       "int64              2\n",
       "datetime64[ns]     2\n",
       "dtype: int64"
      ]
     },
     "execution_count": 6,
     "metadata": {},
     "output_type": "execute_result"
    }
   ],
   "source": [
    "df['Date'] = df['Date'].apply(pd.to_datetime)\n",
    "df.dtypes.value_counts()"
   ]
  },
  {
   "cell_type": "markdown",
   "metadata": {},
   "source": [
    "All the information that is going to be use have the proper time since the object columns are not neccesary anymore"
   ]
  },
  {
   "cell_type": "markdown",
   "metadata": {},
   "source": [
    "### Selecting specific data\n",
    "#### Time period\n"
   ]
  },
  {
   "cell_type": "code",
   "execution_count": 7,
   "metadata": {},
   "outputs": [
    {
     "name": "stdout",
     "output_type": "stream",
     "text": [
      "The dataframe contains information from 2015-04-15 00:00:00 to 2017-02-09 00:00:00\n"
     ]
    }
   ],
   "source": [
    "first_day = df['Date'].iloc[0]\n",
    "last_day = df['Date'].iloc[-1]\n",
    "print(\"The dataframe contains information from\", first_day, \"to\", last_day)"
   ]
  },
  {
   "cell_type": "markdown",
   "metadata": {},
   "source": [
    "To be able to study a whole natural year only the data from year 2016 is going to be studied"
   ]
  },
  {
   "cell_type": "code",
   "execution_count": 8,
   "metadata": {},
   "outputs": [
    {
     "data": {
      "text/html": [
       "<div>\n",
       "<style scoped>\n",
       "    .dataframe tbody tr th:only-of-type {\n",
       "        vertical-align: middle;\n",
       "    }\n",
       "\n",
       "    .dataframe tbody tr th {\n",
       "        vertical-align: top;\n",
       "    }\n",
       "\n",
       "    .dataframe thead th {\n",
       "        text-align: right;\n",
       "    }\n",
       "</style>\n",
       "<table border=\"1\" class=\"dataframe\">\n",
       "  <thead>\n",
       "    <tr style=\"text-align: right;\">\n",
       "      <th></th>\n",
       "      <th>utc_timestamp</th>\n",
       "      <th>cet_cest_timestamp</th>\n",
       "      <th>DE_KN_industrial1_grid_import</th>\n",
       "      <th>DE_KN_industrial1_pv_1</th>\n",
       "      <th>DE_KN_industrial1_pv_2</th>\n",
       "      <th>DE_KN_industrial2_grid_import</th>\n",
       "      <th>DE_KN_industrial2_pv_1</th>\n",
       "      <th>DE_KN_industrial2_storage_charge</th>\n",
       "      <th>DE_KN_industrial2_storage_decharge</th>\n",
       "      <th>DE_KN_industrial3_area_offices</th>\n",
       "      <th>...</th>\n",
       "      <th>DE_KN_residential6_freezer</th>\n",
       "      <th>DE_KN_residential6_grid_export</th>\n",
       "      <th>DE_KN_residential6_grid_import</th>\n",
       "      <th>DE_KN_residential6_pv</th>\n",
       "      <th>DE_KN_residential6_washing_machine</th>\n",
       "      <th>interpolated_values</th>\n",
       "      <th>Datetime</th>\n",
       "      <th>Year</th>\n",
       "      <th>Date</th>\n",
       "      <th>Hour</th>\n",
       "    </tr>\n",
       "  </thead>\n",
       "  <tbody>\n",
       "    <tr>\n",
       "      <th>6253</th>\n",
       "      <td>2016-01-01T00:00:00Z</td>\n",
       "      <td>2016-01-01T01:00:00+0100</td>\n",
       "      <td>24436.750</td>\n",
       "      <td>NaN</td>\n",
       "      <td>NaN</td>\n",
       "      <td>NaN</td>\n",
       "      <td>NaN</td>\n",
       "      <td>NaN</td>\n",
       "      <td>NaN</td>\n",
       "      <td>NaN</td>\n",
       "      <td>...</td>\n",
       "      <td>-240.999</td>\n",
       "      <td>NaN</td>\n",
       "      <td>NaN</td>\n",
       "      <td>NaN</td>\n",
       "      <td>6.932</td>\n",
       "      <td>DE_KN_residential5_dishwasher</td>\n",
       "      <td>2016-01-01 00:00:00</td>\n",
       "      <td>2016</td>\n",
       "      <td>2016-01-01</td>\n",
       "      <td>0</td>\n",
       "    </tr>\n",
       "    <tr>\n",
       "      <th>6254</th>\n",
       "      <td>2016-01-01T01:00:00Z</td>\n",
       "      <td>2016-01-01T02:00:00+0100</td>\n",
       "      <td>24448.254</td>\n",
       "      <td>NaN</td>\n",
       "      <td>NaN</td>\n",
       "      <td>NaN</td>\n",
       "      <td>NaN</td>\n",
       "      <td>NaN</td>\n",
       "      <td>NaN</td>\n",
       "      <td>NaN</td>\n",
       "      <td>...</td>\n",
       "      <td>-240.985</td>\n",
       "      <td>NaN</td>\n",
       "      <td>NaN</td>\n",
       "      <td>NaN</td>\n",
       "      <td>6.932</td>\n",
       "      <td>DE_KN_residential5_dishwasher</td>\n",
       "      <td>2016-01-01 01:00:00</td>\n",
       "      <td>2016</td>\n",
       "      <td>2016-01-01</td>\n",
       "      <td>1</td>\n",
       "    </tr>\n",
       "  </tbody>\n",
       "</table>\n",
       "<p>2 rows × 77 columns</p>\n",
       "</div>"
      ],
      "text/plain": [
       "             utc_timestamp        cet_cest_timestamp  \\\n",
       "6253  2016-01-01T00:00:00Z  2016-01-01T01:00:00+0100   \n",
       "6254  2016-01-01T01:00:00Z  2016-01-01T02:00:00+0100   \n",
       "\n",
       "      DE_KN_industrial1_grid_import  DE_KN_industrial1_pv_1  \\\n",
       "6253                      24436.750                     NaN   \n",
       "6254                      24448.254                     NaN   \n",
       "\n",
       "      DE_KN_industrial1_pv_2  DE_KN_industrial2_grid_import  \\\n",
       "6253                     NaN                            NaN   \n",
       "6254                     NaN                            NaN   \n",
       "\n",
       "      DE_KN_industrial2_pv_1  DE_KN_industrial2_storage_charge  \\\n",
       "6253                     NaN                               NaN   \n",
       "6254                     NaN                               NaN   \n",
       "\n",
       "      DE_KN_industrial2_storage_decharge  DE_KN_industrial3_area_offices  \\\n",
       "6253                                 NaN                             NaN   \n",
       "6254                                 NaN                             NaN   \n",
       "\n",
       "      ...   DE_KN_residential6_freezer  DE_KN_residential6_grid_export  \\\n",
       "6253  ...                     -240.999                             NaN   \n",
       "6254  ...                     -240.985                             NaN   \n",
       "\n",
       "      DE_KN_residential6_grid_import  DE_KN_residential6_pv  \\\n",
       "6253                             NaN                    NaN   \n",
       "6254                             NaN                    NaN   \n",
       "\n",
       "      DE_KN_residential6_washing_machine            interpolated_values  \\\n",
       "6253                               6.932  DE_KN_residential5_dishwasher   \n",
       "6254                               6.932  DE_KN_residential5_dishwasher   \n",
       "\n",
       "                Datetime  Year       Date  Hour  \n",
       "6253 2016-01-01 00:00:00  2016 2016-01-01     0  \n",
       "6254 2016-01-01 01:00:00  2016 2016-01-01     1  \n",
       "\n",
       "[2 rows x 77 columns]"
      ]
     },
     "execution_count": 8,
     "metadata": {},
     "output_type": "execute_result"
    }
   ],
   "source": [
    "df_2016 = df[df['Year']==2016]\n",
    "df_2016.head(2)"
   ]
  },
  {
   "cell_type": "markdown",
   "metadata": {},
   "source": [
    "#### Dataframe by houses\n",
    "As the dataframe contains the data for 11 households in southern Germany it is neccesary to divide it to have individual dataframes with the same structure for each house.\n",
    "To do it a new dataframe with columns names is built"
   ]
  },
  {
   "cell_type": "code",
   "execution_count": 9,
   "metadata": {},
   "outputs": [
    {
     "data": {
      "text/html": [
       "<div>\n",
       "<style scoped>\n",
       "    .dataframe tbody tr th:only-of-type {\n",
       "        vertical-align: middle;\n",
       "    }\n",
       "\n",
       "    .dataframe tbody tr th {\n",
       "        vertical-align: top;\n",
       "    }\n",
       "\n",
       "    .dataframe thead th {\n",
       "        text-align: right;\n",
       "    }\n",
       "</style>\n",
       "<table border=\"1\" class=\"dataframe\">\n",
       "  <thead>\n",
       "    <tr style=\"text-align: right;\">\n",
       "      <th></th>\n",
       "      <th>Col_name</th>\n",
       "    </tr>\n",
       "  </thead>\n",
       "  <tbody>\n",
       "    <tr>\n",
       "      <th>0</th>\n",
       "      <td>utc_timestamp</td>\n",
       "    </tr>\n",
       "    <tr>\n",
       "      <th>1</th>\n",
       "      <td>cet_cest_timestamp</td>\n",
       "    </tr>\n",
       "    <tr>\n",
       "      <th>2</th>\n",
       "      <td>DE_KN_industrial1_grid_import</td>\n",
       "    </tr>\n",
       "    <tr>\n",
       "      <th>3</th>\n",
       "      <td>DE_KN_industrial1_pv_1</td>\n",
       "    </tr>\n",
       "    <tr>\n",
       "      <th>4</th>\n",
       "      <td>DE_KN_industrial1_pv_2</td>\n",
       "    </tr>\n",
       "  </tbody>\n",
       "</table>\n",
       "</div>"
      ],
      "text/plain": [
       "                        Col_name\n",
       "0                  utc_timestamp\n",
       "1             cet_cest_timestamp\n",
       "2  DE_KN_industrial1_grid_import\n",
       "3         DE_KN_industrial1_pv_1\n",
       "4         DE_KN_industrial1_pv_2"
      ]
     },
     "execution_count": 9,
     "metadata": {},
     "output_type": "execute_result"
    }
   ],
   "source": [
    "col_names= pd.DataFrame(list(df),columns=['Col_name'])\n",
    "col_names.head()"
   ]
  },
  {
   "cell_type": "markdown",
   "metadata": {},
   "source": [
    "The structure of the names of the columns is several concepts separated by _ symbol. The house type and number are in the 3rd field and the following concepts describe the type of comsuption, appliances or charges.<br><br>\n",
    "The next block contains the definition of functions to divide the column names and extract the necessary information."
   ]
  },
  {
   "cell_type": "code",
   "execution_count": 10,
   "metadata": {},
   "outputs": [],
   "source": [
    "def gethousenumber(col_name):\n",
    "    fields = str(col_name).split(\"_\")\n",
    "    house_field = 2\n",
    "    house_num = fields[house_field][-1] if len(fields)>house_field else 0\n",
    "    return int(house_num) if str(house_num).isdigit() else 0\n",
    "\n",
    "def getconcept(col_name):\n",
    "    fields = str(col_name).split(\"_\")\n",
    "    fields_num = len(fields)\n",
    "    fixed_fields = 3\n",
    "    field = list(range(fixed_fields,fields_num))\n",
    "    return str(''.join([fields[num] for num in field]))\n",
    "\n",
    "def residential(col_name):\n",
    "    fields = str(col_name).split(\"_\")\n",
    "    house_field = 2\n",
    "    house_type = fields[house_field][:-1] if len(fields)>house_field else 0\n",
    "    return int(house_type == \"residential\")"
   ]
  },
  {
   "cell_type": "markdown",
   "metadata": {},
   "source": [
    "With the functions new columns are created to contain the information about the house number, the consumption concept and whether is residential."
   ]
  },
  {
   "cell_type": "code",
   "execution_count": 11,
   "metadata": {},
   "outputs": [
    {
     "data": {
      "text/html": [
       "<div>\n",
       "<style scoped>\n",
       "    .dataframe tbody tr th:only-of-type {\n",
       "        vertical-align: middle;\n",
       "    }\n",
       "\n",
       "    .dataframe tbody tr th {\n",
       "        vertical-align: top;\n",
       "    }\n",
       "\n",
       "    .dataframe thead th {\n",
       "        text-align: right;\n",
       "    }\n",
       "</style>\n",
       "<table border=\"1\" class=\"dataframe\">\n",
       "  <thead>\n",
       "    <tr style=\"text-align: right;\">\n",
       "      <th></th>\n",
       "      <th>Col_name</th>\n",
       "      <th>House_num</th>\n",
       "      <th>Concept</th>\n",
       "      <th>Residential</th>\n",
       "    </tr>\n",
       "  </thead>\n",
       "  <tbody>\n",
       "    <tr>\n",
       "      <th>67</th>\n",
       "      <td>DE_KN_residential6_freezer</td>\n",
       "      <td>6</td>\n",
       "      <td>freezer</td>\n",
       "      <td>1</td>\n",
       "    </tr>\n",
       "    <tr>\n",
       "      <th>36</th>\n",
       "      <td>DE_KN_residential1_pv</td>\n",
       "      <td>1</td>\n",
       "      <td>pv</td>\n",
       "      <td>1</td>\n",
       "    </tr>\n",
       "    <tr>\n",
       "      <th>50</th>\n",
       "      <td>DE_KN_residential3_refrigerator</td>\n",
       "      <td>3</td>\n",
       "      <td>refrigerator</td>\n",
       "      <td>1</td>\n",
       "    </tr>\n",
       "    <tr>\n",
       "      <th>52</th>\n",
       "      <td>DE_KN_residential4_dishwasher</td>\n",
       "      <td>4</td>\n",
       "      <td>dishwasher</td>\n",
       "      <td>1</td>\n",
       "    </tr>\n",
       "    <tr>\n",
       "      <th>64</th>\n",
       "      <td>DE_KN_residential5_washing_machine</td>\n",
       "      <td>5</td>\n",
       "      <td>washingmachine</td>\n",
       "      <td>1</td>\n",
       "    </tr>\n",
       "  </tbody>\n",
       "</table>\n",
       "</div>"
      ],
      "text/plain": [
       "                              Col_name  House_num         Concept  Residential\n",
       "67          DE_KN_residential6_freezer          6         freezer            1\n",
       "36               DE_KN_residential1_pv          1              pv            1\n",
       "50     DE_KN_residential3_refrigerator          3    refrigerator            1\n",
       "52       DE_KN_residential4_dishwasher          4      dishwasher            1\n",
       "64  DE_KN_residential5_washing_machine          5  washingmachine            1"
      ]
     },
     "execution_count": 11,
     "metadata": {},
     "output_type": "execute_result"
    }
   ],
   "source": [
    "col_names['House_num'] = col_names['Col_name'].apply(gethousenumber)\n",
    "col_names['Concept'] = col_names['Col_name'].apply(getconcept)\n",
    "col_names['Residential'] = col_names['Col_name'].apply(residential)\n",
    "col_names.sample(5)"
   ]
  },
  {
   "cell_type": "code",
   "execution_count": 12,
   "metadata": {},
   "outputs": [
    {
     "data": {
      "text/plain": [
       "Col_name       object\n",
       "House_num       int64\n",
       "Concept        object\n",
       "Residential     int64\n",
       "dtype: object"
      ]
     },
     "execution_count": 12,
     "metadata": {},
     "output_type": "execute_result"
    }
   ],
   "source": [
    "col_names.dtypes"
   ]
  },
  {
   "cell_type": "markdown",
   "metadata": {},
   "source": [
    "It is neccesary to define a function to obtain the list of columns depending on the number of the house. With that list the dataframe containing all the data can be cutted into smaller ones, one for each house under study. <br> <br>\n",
    "For the project only the residential households are going to be studied since the purpose of the project is to obtain recommendations for electrical household appliances. That's the reason residential is set True in the next function."
   ]
  },
  {
   "cell_type": "code",
   "execution_count": 13,
   "metadata": {},
   "outputs": [],
   "source": [
    "def df_byhouse(extraction_df, house_num):\n",
    "    residential = True\n",
    "    condition1 = col_names['Residential']== int(residential)\n",
    "    condition2 = col_names['House_num']== house_num\n",
    "    df_house = col_names[condition1 & condition2]\n",
    "    #lists with the columns name and the equivalent name with only the concept\n",
    "    col_list = list(df_house['Col_name'])\n",
    "    col_list_concepts = list(df_house['Concept'])\n",
    "    col_time = ['Datetime','Date','Year','Hour']\n",
    "    col_list = col_time + col_list\n",
    "    col_list_concepts = col_time + col_list_concepts\n",
    "    #dataframe with only the columns from the input house\n",
    "    df_byhouse = extraction_df[col_list]\n",
    "    df_byhouse.columns = col_list_concepts\n",
    "    return df_byhouse"
   ]
  },
  {
   "cell_type": "markdown",
   "metadata": {},
   "source": [
    "The function takes the number of the house and the dataframe from which the data wants to be extracted. It brings back a dataframe containing only the columns from the house which number is given as input. Also the columns are rename to show only the concept since now there is no ambiguity."
   ]
  },
  {
   "cell_type": "code",
   "execution_count": 14,
   "metadata": {
    "scrolled": true
   },
   "outputs": [
    {
     "data": {
      "text/html": [
       "<div>\n",
       "<style scoped>\n",
       "    .dataframe tbody tr th:only-of-type {\n",
       "        vertical-align: middle;\n",
       "    }\n",
       "\n",
       "    .dataframe tbody tr th {\n",
       "        vertical-align: top;\n",
       "    }\n",
       "\n",
       "    .dataframe thead th {\n",
       "        text-align: right;\n",
       "    }\n",
       "</style>\n",
       "<table border=\"1\" class=\"dataframe\">\n",
       "  <thead>\n",
       "    <tr style=\"text-align: right;\">\n",
       "      <th></th>\n",
       "      <th>Datetime</th>\n",
       "      <th>Date</th>\n",
       "      <th>Year</th>\n",
       "      <th>Hour</th>\n",
       "      <th>circulationpump</th>\n",
       "      <th>dishwasher</th>\n",
       "      <th>freezer</th>\n",
       "      <th>gridimport</th>\n",
       "      <th>heating</th>\n",
       "      <th>washingmachine</th>\n",
       "    </tr>\n",
       "  </thead>\n",
       "  <tbody>\n",
       "    <tr>\n",
       "      <th>6253</th>\n",
       "      <td>2016-01-01 00:00:00</td>\n",
       "      <td>2016-01-01</td>\n",
       "      <td>2016</td>\n",
       "      <td>0</td>\n",
       "      <td>236.750</td>\n",
       "      <td>NaN</td>\n",
       "      <td>NaN</td>\n",
       "      <td>1495.785</td>\n",
       "      <td>NaN</td>\n",
       "      <td>NaN</td>\n",
       "    </tr>\n",
       "    <tr>\n",
       "      <th>6254</th>\n",
       "      <td>2016-01-01 01:00:00</td>\n",
       "      <td>2016-01-01</td>\n",
       "      <td>2016</td>\n",
       "      <td>1</td>\n",
       "      <td>236.803</td>\n",
       "      <td>NaN</td>\n",
       "      <td>NaN</td>\n",
       "      <td>1495.945</td>\n",
       "      <td>NaN</td>\n",
       "      <td>NaN</td>\n",
       "    </tr>\n",
       "    <tr>\n",
       "      <th>6255</th>\n",
       "      <td>2016-01-01 02:00:00</td>\n",
       "      <td>2016-01-01</td>\n",
       "      <td>2016</td>\n",
       "      <td>2</td>\n",
       "      <td>236.855</td>\n",
       "      <td>NaN</td>\n",
       "      <td>NaN</td>\n",
       "      <td>1496.145</td>\n",
       "      <td>NaN</td>\n",
       "      <td>NaN</td>\n",
       "    </tr>\n",
       "    <tr>\n",
       "      <th>6256</th>\n",
       "      <td>2016-01-01 03:00:00</td>\n",
       "      <td>2016-01-01</td>\n",
       "      <td>2016</td>\n",
       "      <td>3</td>\n",
       "      <td>236.919</td>\n",
       "      <td>NaN</td>\n",
       "      <td>NaN</td>\n",
       "      <td>1496.260</td>\n",
       "      <td>NaN</td>\n",
       "      <td>NaN</td>\n",
       "    </tr>\n",
       "    <tr>\n",
       "      <th>6257</th>\n",
       "      <td>2016-01-01 04:00:00</td>\n",
       "      <td>2016-01-01</td>\n",
       "      <td>2016</td>\n",
       "      <td>4</td>\n",
       "      <td>236.998</td>\n",
       "      <td>NaN</td>\n",
       "      <td>NaN</td>\n",
       "      <td>1496.410</td>\n",
       "      <td>NaN</td>\n",
       "      <td>NaN</td>\n",
       "    </tr>\n",
       "  </tbody>\n",
       "</table>\n",
       "</div>"
      ],
      "text/plain": [
       "                Datetime       Date  Year  Hour  circulationpump  dishwasher  \\\n",
       "6253 2016-01-01 00:00:00 2016-01-01  2016     0          236.750         NaN   \n",
       "6254 2016-01-01 01:00:00 2016-01-01  2016     1          236.803         NaN   \n",
       "6255 2016-01-01 02:00:00 2016-01-01  2016     2          236.855         NaN   \n",
       "6256 2016-01-01 03:00:00 2016-01-01  2016     3          236.919         NaN   \n",
       "6257 2016-01-01 04:00:00 2016-01-01  2016     4          236.998         NaN   \n",
       "\n",
       "      freezer  gridimport  heating  washingmachine  \n",
       "6253      NaN    1495.785      NaN             NaN  \n",
       "6254      NaN    1495.945      NaN             NaN  \n",
       "6255      NaN    1496.145      NaN             NaN  \n",
       "6256      NaN    1496.260      NaN             NaN  \n",
       "6257      NaN    1496.410      NaN             NaN  "
      ]
     },
     "execution_count": 14,
     "metadata": {},
     "output_type": "execute_result"
    }
   ],
   "source": [
    "df_residential2 = df_byhouse(df_2016,2)\n",
    "df_residential2.head()"
   ]
  },
  {
   "cell_type": "markdown",
   "metadata": {},
   "source": [
    "This function will be use later on to treat and save the data but first the values need to be cleaned."
   ]
  },
  {
   "cell_type": "markdown",
   "metadata": {},
   "source": [
    "### Handle the missing values\n",
    "The first step is to assess how many missing values are in the dataframe\n"
   ]
  },
  {
   "cell_type": "code",
   "execution_count": 15,
   "metadata": {},
   "outputs": [],
   "source": [
    "def nan_in_df(df):\n",
    "    nan_count = len(df) - df.count()\n",
    "    return nan_count"
   ]
  },
  {
   "cell_type": "code",
   "execution_count": 16,
   "metadata": {},
   "outputs": [
    {
     "data": {
      "text/plain": [
       "utc_timestamp                          0\n",
       "Year                                   0\n",
       "Datetime                               0\n",
       "Date                                   0\n",
       "Hour                                   0\n",
       "cet_cest_timestamp                     0\n",
       "DE_KN_residential4_refrigerator       68\n",
       "DE_KN_residential4_dishwasher         71\n",
       "DE_KN_residential4_washing_machine    71\n",
       "DE_KN_residential4_heat_pump          71\n",
       "dtype: int64"
      ]
     },
     "execution_count": 16,
     "metadata": {},
     "output_type": "execute_result"
    }
   ],
   "source": [
    "nan_in_df(df_2016).sort_values()[:10]"
   ]
  },
  {
   "cell_type": "markdown",
   "metadata": {},
   "source": [
    "The house with the less NaN values is the number 4 so it is going to be inspect in detail. Also is important to remember that for the purpose of the project the data that needs to be taken special attention is the dishwasher and the washing machine values."
   ]
  },
  {
   "cell_type": "code",
   "execution_count": 17,
   "metadata": {},
   "outputs": [
    {
     "data": {
      "text/plain": [
       "[<matplotlib.lines.Line2D at 0x1a020151198>]"
      ]
     },
     "execution_count": 17,
     "metadata": {},
     "output_type": "execute_result"
    },
    {
     "data": {
      "image/png": "[encoded data removed]",
      "text/plain": [
       "<matplotlib.figure.Figure at 0x1a0200b2438>"
      ]
     },
     "metadata": {},
     "output_type": "display_data"
    }
   ],
   "source": [
    "residential4= df_byhouse(df_2016,4)\n",
    "plt.xlabel ('Date')\n",
    "plt.ylabel (\"Energy(kWh)\")\n",
    "plt.plot(residential4['Date'],residential4['dishwasher'])"
   ]
  },
  {
   "cell_type": "code",
   "execution_count": 18,
   "metadata": {},
   "outputs": [],
   "source": [
    "#Function to filter to help explore specific date and concept\n",
    "def filter_greaterdate(df,input_date,concept):\n",
    "    filter_date = pd.to_datetime(input_date)\n",
    "    col_list = list(df.columns[:3]) + [concept]\n",
    "    return df[df['Date'] > filter_date][col_list]"
   ]
  },
  {
   "cell_type": "code",
   "execution_count": 19,
   "metadata": {},
   "outputs": [
    {
     "data": {
      "text/html": [
       "<div>\n",
       "<style scoped>\n",
       "    .dataframe tbody tr th:only-of-type {\n",
       "        vertical-align: middle;\n",
       "    }\n",
       "\n",
       "    .dataframe tbody tr th {\n",
       "        vertical-align: top;\n",
       "    }\n",
       "\n",
       "    .dataframe thead th {\n",
       "        text-align: right;\n",
       "    }\n",
       "</style>\n",
       "<table border=\"1\" class=\"dataframe\">\n",
       "  <thead>\n",
       "    <tr style=\"text-align: right;\">\n",
       "      <th></th>\n",
       "      <th>Datetime</th>\n",
       "      <th>Date</th>\n",
       "      <th>Year</th>\n",
       "      <th>dishwasher</th>\n",
       "    </tr>\n",
       "    <tr>\n",
       "      <th>Date</th>\n",
       "      <th></th>\n",
       "      <th></th>\n",
       "      <th></th>\n",
       "      <th></th>\n",
       "    </tr>\n",
       "  </thead>\n",
       "  <tbody>\n",
       "    <tr>\n",
       "      <th>2</th>\n",
       "      <td>2</td>\n",
       "      <td>2</td>\n",
       "      <td>2</td>\n",
       "      <td>0</td>\n",
       "    </tr>\n",
       "    <tr>\n",
       "      <th>4</th>\n",
       "      <td>54</td>\n",
       "      <td>54</td>\n",
       "      <td>54</td>\n",
       "      <td>0</td>\n",
       "    </tr>\n",
       "    <tr>\n",
       "      <th>10</th>\n",
       "      <td>12</td>\n",
       "      <td>12</td>\n",
       "      <td>12</td>\n",
       "      <td>0</td>\n",
       "    </tr>\n",
       "    <tr>\n",
       "      <th>12</th>\n",
       "      <td>3</td>\n",
       "      <td>3</td>\n",
       "      <td>3</td>\n",
       "      <td>0</td>\n",
       "    </tr>\n",
       "  </tbody>\n",
       "</table>\n",
       "</div>"
      ],
      "text/plain": [
       "      Datetime  Date  Year  dishwasher\n",
       "Date                                  \n",
       "2            2     2     2           0\n",
       "4           54    54    54           0\n",
       "10          12    12    12           0\n",
       "12           3     3     3           0"
      ]
     },
     "execution_count": 19,
     "metadata": {},
     "output_type": "execute_result"
    }
   ],
   "source": [
    "filtered_r4 = filter_greaterdate(residential4, '31-12-2015', 'dishwasher')\n",
    "gaps_r4 = filtered_r4[filtered_r4['dishwasher'].isnull()]\n",
    "\n",
    "#Check which months have NaN values\n",
    "months = gaps_r4['Date'].map(lambda x: x.month)\n",
    "gaps_r4.groupby(months).count()"
   ]
  },
  {
   "cell_type": "markdown",
   "metadata": {},
   "source": [
    "There are 4 months with gaps and the greater is in April so that period is going to be study as example to check which method is better to use with the NaN values"
   ]
  },
  {
   "cell_type": "code",
   "execution_count": 20,
   "metadata": {},
   "outputs": [
    {
     "data": {
      "text/plain": [
       "[<matplotlib.lines.Line2D at 0x1a0202644e0>]"
      ]
     },
     "execution_count": 20,
     "metadata": {},
     "output_type": "execute_result"
    },
    {
     "data": {
      "image/png": "[encoded data removed]",
      "text/plain": [
       "<matplotlib.figure.Figure at 0x1a020237358>"
      ]
     },
     "metadata": {},
     "output_type": "display_data"
    }
   ],
   "source": [
    "#Select x previous and x subsequent values to study the shape of the data\n",
    "gaps_index = gaps_r4[months==4].index\n",
    "num_values = 80\n",
    "init_val = gaps_index[0]-num_values\n",
    "end_val = gaps_index[len(gaps_index)-1]+num_values\n",
    "april_gaps = filtered_r4.loc[init_val:end_val]\n",
    "\n",
    "#Plot the data to visualize\n",
    "plt.figure(figsize=(30,8))\n",
    "plt.plot(april_gaps['Date'],april_gaps['dishwasher'])"
   ]
  },
  {
   "cell_type": "markdown",
   "metadata": {},
   "source": [
    "Because there is no data in that periods it is assumed there is no consumption, therefore the cumulative is constant. The NaN are going to be substitute by the previous value, using the method *ffill* from the *fillna* function."
   ]
  },
  {
   "cell_type": "code",
   "execution_count": 21,
   "metadata": {},
   "outputs": [
    {
     "data": {
      "text/html": [
       "<div>\n",
       "<style scoped>\n",
       "    .dataframe tbody tr th:only-of-type {\n",
       "        vertical-align: middle;\n",
       "    }\n",
       "\n",
       "    .dataframe tbody tr th {\n",
       "        vertical-align: top;\n",
       "    }\n",
       "\n",
       "    .dataframe thead th {\n",
       "        text-align: right;\n",
       "    }\n",
       "</style>\n",
       "<table border=\"1\" class=\"dataframe\">\n",
       "  <thead>\n",
       "    <tr style=\"text-align: right;\">\n",
       "      <th></th>\n",
       "      <th>Datetime</th>\n",
       "      <th>Date</th>\n",
       "      <th>Year</th>\n",
       "      <th>dishwasher</th>\n",
       "      <th>dishwasher_clean</th>\n",
       "    </tr>\n",
       "  </thead>\n",
       "  <tbody>\n",
       "    <tr>\n",
       "      <th>8954</th>\n",
       "      <td>2016-04-22 13:00:00</td>\n",
       "      <td>2016-04-22</td>\n",
       "      <td>2016</td>\n",
       "      <td>59.757</td>\n",
       "      <td>59.757</td>\n",
       "    </tr>\n",
       "    <tr>\n",
       "      <th>8955</th>\n",
       "      <td>2016-04-22 14:00:00</td>\n",
       "      <td>2016-04-22</td>\n",
       "      <td>2016</td>\n",
       "      <td>59.757</td>\n",
       "      <td>59.757</td>\n",
       "    </tr>\n",
       "    <tr>\n",
       "      <th>8956</th>\n",
       "      <td>2016-04-22 15:00:00</td>\n",
       "      <td>2016-04-22</td>\n",
       "      <td>2016</td>\n",
       "      <td>NaN</td>\n",
       "      <td>59.757</td>\n",
       "    </tr>\n",
       "    <tr>\n",
       "      <th>8957</th>\n",
       "      <td>2016-04-22 16:00:00</td>\n",
       "      <td>2016-04-22</td>\n",
       "      <td>2016</td>\n",
       "      <td>NaN</td>\n",
       "      <td>59.757</td>\n",
       "    </tr>\n",
       "  </tbody>\n",
       "</table>\n",
       "</div>"
      ],
      "text/plain": [
       "                Datetime       Date  Year  dishwasher  dishwasher_clean\n",
       "8954 2016-04-22 13:00:00 2016-04-22  2016      59.757            59.757\n",
       "8955 2016-04-22 14:00:00 2016-04-22  2016      59.757            59.757\n",
       "8956 2016-04-22 15:00:00 2016-04-22  2016         NaN            59.757\n",
       "8957 2016-04-22 16:00:00 2016-04-22  2016         NaN            59.757"
      ]
     },
     "execution_count": 21,
     "metadata": {},
     "output_type": "execute_result"
    }
   ],
   "source": [
    "filtered_r4['dishwasher_clean'] = filtered_r4['dishwasher'].fillna(method='ffill')\n",
    "filtered_r4.iloc[2701:2705]"
   ]
  },
  {
   "cell_type": "code",
   "execution_count": 22,
   "metadata": {},
   "outputs": [
    {
     "data": {
      "text/plain": [
       "[<matplotlib.lines.Line2D at 0x1a0204fed68>]"
      ]
     },
     "execution_count": 22,
     "metadata": {},
     "output_type": "execute_result"
    },
    {
     "data": {
      "image/png": "[encoded data removed]",
      "text/plain": [
       "<matplotlib.figure.Figure at 0x1a020241cc0>"
      ]
     },
     "metadata": {},
     "output_type": "display_data"
    }
   ],
   "source": [
    "#Visualize the data after fillna\n",
    "plt.figure(figsize=(30,8))\n",
    "plt.plot(april_gaps['Datetime'],april_gaps['dishwasher'])\n",
    "dates_nan = april_gaps[april_gaps['dishwasher'].isnull()]['Datetime'].values\n",
    "y = filtered_r4[filtered_r4['Datetime'].isin(dates_nan)]['dishwasher_clean']\n",
    "plt.plot(dates_nan,y, color='r')"
   ]
  },
  {
   "cell_type": "markdown",
   "metadata": {},
   "source": [
    "Once the method makes sense for the data under study, it is going to be applied for the whole dataframe"
   ]
  },
  {
   "cell_type": "code",
   "execution_count": 23,
   "metadata": {},
   "outputs": [
    {
     "data": {
      "text/html": [
       "<div>\n",
       "<style scoped>\n",
       "    .dataframe tbody tr th:only-of-type {\n",
       "        vertical-align: middle;\n",
       "    }\n",
       "\n",
       "    .dataframe tbody tr th {\n",
       "        vertical-align: top;\n",
       "    }\n",
       "\n",
       "    .dataframe thead th {\n",
       "        text-align: right;\n",
       "    }\n",
       "</style>\n",
       "<table border=\"1\" class=\"dataframe\">\n",
       "  <thead>\n",
       "    <tr style=\"text-align: right;\">\n",
       "      <th></th>\n",
       "      <th>utc_timestamp</th>\n",
       "      <th>cet_cest_timestamp</th>\n",
       "      <th>DE_KN_industrial1_grid_import</th>\n",
       "      <th>DE_KN_industrial1_pv_1</th>\n",
       "      <th>DE_KN_industrial1_pv_2</th>\n",
       "      <th>DE_KN_industrial2_grid_import</th>\n",
       "      <th>DE_KN_industrial2_pv_1</th>\n",
       "      <th>DE_KN_industrial2_storage_charge</th>\n",
       "      <th>DE_KN_industrial2_storage_decharge</th>\n",
       "      <th>DE_KN_industrial3_area_offices</th>\n",
       "      <th>...</th>\n",
       "      <th>DE_KN_residential6_freezer</th>\n",
       "      <th>DE_KN_residential6_grid_export</th>\n",
       "      <th>DE_KN_residential6_grid_import</th>\n",
       "      <th>DE_KN_residential6_pv</th>\n",
       "      <th>DE_KN_residential6_washing_machine</th>\n",
       "      <th>interpolated_values</th>\n",
       "      <th>Datetime</th>\n",
       "      <th>Year</th>\n",
       "      <th>Date</th>\n",
       "      <th>Hour</th>\n",
       "    </tr>\n",
       "  </thead>\n",
       "  <tbody>\n",
       "    <tr>\n",
       "      <th>6253</th>\n",
       "      <td>2016-01-01T00:00:00Z</td>\n",
       "      <td>2016-01-01T01:00:00+0100</td>\n",
       "      <td>24436.75</td>\n",
       "      <td>NaN</td>\n",
       "      <td>NaN</td>\n",
       "      <td>NaN</td>\n",
       "      <td>NaN</td>\n",
       "      <td>NaN</td>\n",
       "      <td>NaN</td>\n",
       "      <td>NaN</td>\n",
       "      <td>...</td>\n",
       "      <td>-240.999</td>\n",
       "      <td>NaN</td>\n",
       "      <td>NaN</td>\n",
       "      <td>NaN</td>\n",
       "      <td>6.932</td>\n",
       "      <td>DE_KN_residential5_dishwasher</td>\n",
       "      <td>2016-01-01</td>\n",
       "      <td>2016</td>\n",
       "      <td>2016-01-01</td>\n",
       "      <td>0</td>\n",
       "    </tr>\n",
       "  </tbody>\n",
       "</table>\n",
       "<p>1 rows × 77 columns</p>\n",
       "</div>"
      ],
      "text/plain": [
       "             utc_timestamp        cet_cest_timestamp  \\\n",
       "6253  2016-01-01T00:00:00Z  2016-01-01T01:00:00+0100   \n",
       "\n",
       "      DE_KN_industrial1_grid_import  DE_KN_industrial1_pv_1  \\\n",
       "6253                       24436.75                     NaN   \n",
       "\n",
       "      DE_KN_industrial1_pv_2  DE_KN_industrial2_grid_import  \\\n",
       "6253                     NaN                            NaN   \n",
       "\n",
       "      DE_KN_industrial2_pv_1  DE_KN_industrial2_storage_charge  \\\n",
       "6253                     NaN                               NaN   \n",
       "\n",
       "      DE_KN_industrial2_storage_decharge  DE_KN_industrial3_area_offices  \\\n",
       "6253                                 NaN                             NaN   \n",
       "\n",
       "      ...   DE_KN_residential6_freezer  DE_KN_residential6_grid_export  \\\n",
       "6253  ...                     -240.999                             NaN   \n",
       "\n",
       "      DE_KN_residential6_grid_import  DE_KN_residential6_pv  \\\n",
       "6253                             NaN                    NaN   \n",
       "\n",
       "      DE_KN_residential6_washing_machine            interpolated_values  \\\n",
       "6253                               6.932  DE_KN_residential5_dishwasher   \n",
       "\n",
       "       Datetime  Year       Date  Hour  \n",
       "6253 2016-01-01  2016 2016-01-01     0  \n",
       "\n",
       "[1 rows x 77 columns]"
      ]
     },
     "execution_count": 23,
     "metadata": {},
     "output_type": "execute_result"
    }
   ],
   "source": [
    "df_2016 = df_2016.fillna(method='ffill')\n",
    "df_2016.head(1)"
   ]
  },
  {
   "cell_type": "markdown",
   "metadata": {},
   "source": [
    "This method is not valid for the columns that have no values at the begginning of the year. In that case we are going to assume that the first value of data is the valid one, so we apply the bfill method of the function.  "
   ]
  },
  {
   "cell_type": "code",
   "execution_count": 24,
   "metadata": {},
   "outputs": [
    {
     "data": {
      "text/html": [
       "<div>\n",
       "<style scoped>\n",
       "    .dataframe tbody tr th:only-of-type {\n",
       "        vertical-align: middle;\n",
       "    }\n",
       "\n",
       "    .dataframe tbody tr th {\n",
       "        vertical-align: top;\n",
       "    }\n",
       "\n",
       "    .dataframe thead th {\n",
       "        text-align: right;\n",
       "    }\n",
       "</style>\n",
       "<table border=\"1\" class=\"dataframe\">\n",
       "  <thead>\n",
       "    <tr style=\"text-align: right;\">\n",
       "      <th></th>\n",
       "      <th>utc_timestamp</th>\n",
       "      <th>cet_cest_timestamp</th>\n",
       "      <th>DE_KN_industrial1_grid_import</th>\n",
       "      <th>DE_KN_industrial1_pv_1</th>\n",
       "      <th>DE_KN_industrial1_pv_2</th>\n",
       "      <th>DE_KN_industrial2_grid_import</th>\n",
       "      <th>DE_KN_industrial2_pv_1</th>\n",
       "      <th>DE_KN_industrial2_storage_charge</th>\n",
       "      <th>DE_KN_industrial2_storage_decharge</th>\n",
       "      <th>DE_KN_industrial3_area_offices</th>\n",
       "      <th>...</th>\n",
       "      <th>DE_KN_residential6_freezer</th>\n",
       "      <th>DE_KN_residential6_grid_export</th>\n",
       "      <th>DE_KN_residential6_grid_import</th>\n",
       "      <th>DE_KN_residential6_pv</th>\n",
       "      <th>DE_KN_residential6_washing_machine</th>\n",
       "      <th>interpolated_values</th>\n",
       "      <th>Datetime</th>\n",
       "      <th>Year</th>\n",
       "      <th>Date</th>\n",
       "      <th>Hour</th>\n",
       "    </tr>\n",
       "  </thead>\n",
       "  <tbody>\n",
       "    <tr>\n",
       "      <th>6253</th>\n",
       "      <td>2016-01-01T00:00:00Z</td>\n",
       "      <td>2016-01-01T01:00:00+0100</td>\n",
       "      <td>24436.75</td>\n",
       "      <td>412.9</td>\n",
       "      <td>3284.23</td>\n",
       "      <td>2.435</td>\n",
       "      <td>2269.545</td>\n",
       "      <td>0.0</td>\n",
       "      <td>0.0</td>\n",
       "      <td>3761.016</td>\n",
       "      <td>...</td>\n",
       "      <td>-240.999</td>\n",
       "      <td>0.4</td>\n",
       "      <td>1929.07</td>\n",
       "      <td>1361.605</td>\n",
       "      <td>6.932</td>\n",
       "      <td>DE_KN_residential5_dishwasher</td>\n",
       "      <td>2016-01-01</td>\n",
       "      <td>2016</td>\n",
       "      <td>2016-01-01</td>\n",
       "      <td>0</td>\n",
       "    </tr>\n",
       "  </tbody>\n",
       "</table>\n",
       "<p>1 rows × 77 columns</p>\n",
       "</div>"
      ],
      "text/plain": [
       "             utc_timestamp        cet_cest_timestamp  \\\n",
       "6253  2016-01-01T00:00:00Z  2016-01-01T01:00:00+0100   \n",
       "\n",
       "      DE_KN_industrial1_grid_import  DE_KN_industrial1_pv_1  \\\n",
       "6253                       24436.75                   412.9   \n",
       "\n",
       "      DE_KN_industrial1_pv_2  DE_KN_industrial2_grid_import  \\\n",
       "6253                 3284.23                          2.435   \n",
       "\n",
       "      DE_KN_industrial2_pv_1  DE_KN_industrial2_storage_charge  \\\n",
       "6253                2269.545                               0.0   \n",
       "\n",
       "      DE_KN_industrial2_storage_decharge  DE_KN_industrial3_area_offices  \\\n",
       "6253                                 0.0                        3761.016   \n",
       "\n",
       "      ...   DE_KN_residential6_freezer  DE_KN_residential6_grid_export  \\\n",
       "6253  ...                     -240.999                             0.4   \n",
       "\n",
       "      DE_KN_residential6_grid_import  DE_KN_residential6_pv  \\\n",
       "6253                         1929.07               1361.605   \n",
       "\n",
       "      DE_KN_residential6_washing_machine            interpolated_values  \\\n",
       "6253                               6.932  DE_KN_residential5_dishwasher   \n",
       "\n",
       "       Datetime  Year       Date  Hour  \n",
       "6253 2016-01-01  2016 2016-01-01     0  \n",
       "\n",
       "[1 rows x 77 columns]"
      ]
     },
     "execution_count": 24,
     "metadata": {},
     "output_type": "execute_result"
    }
   ],
   "source": [
    "df_2016 = df_2016.fillna(method='bfill')\n",
    "df_2016.head(1)"
   ]
  },
  {
   "cell_type": "markdown",
   "metadata": {},
   "source": [
    "## 2. Energy Prices"
   ]
  },
  {
   "cell_type": "markdown",
   "metadata": {},
   "source": [
    "To calculate the cost for the hourly energy consumption the prices information is neccesary. It is obtain from a csv generated from the jupyter notebook Prices_data. "
   ]
  },
  {
   "cell_type": "code",
   "execution_count": 25,
   "metadata": {},
   "outputs": [
    {
     "data": {
      "text/plain": [
       "Datetime    datetime64[ns]\n",
       "Price              float64\n",
       "dtype: object"
      ]
     },
     "execution_count": 25,
     "metadata": {},
     "output_type": "execute_result"
    }
   ],
   "source": [
    "#Join with prices and calculate cost\n",
    "df_prices = pd.read_csv('Prices.csv', sep=\",\")\n",
    "df_prices = df_prices[['Datetime','Price']]\n",
    "df_prices['Datetime'] = pd.to_datetime(df_prices['Datetime'], format='%Y.%m.%d %H:%M')\n",
    "df_prices.dtypes"
   ]
  },
  {
   "cell_type": "markdown",
   "metadata": {},
   "source": [
    "That hourly prices are not the final prices paid by the consumers at household level because taxes have to be taken into account. An assumption is going to be made to try to adjust the prices based in information from different sources (for detailed information see the readme file): the price will be increased by a 2 factor.\n",
    "\n"
   ]
  },
  {
   "cell_type": "code",
   "execution_count": 26,
   "metadata": {
    "scrolled": true
   },
   "outputs": [
    {
     "data": {
      "text/html": [
       "<div>\n",
       "<style scoped>\n",
       "    .dataframe tbody tr th:only-of-type {\n",
       "        vertical-align: middle;\n",
       "    }\n",
       "\n",
       "    .dataframe tbody tr th {\n",
       "        vertical-align: top;\n",
       "    }\n",
       "\n",
       "    .dataframe thead th {\n",
       "        text-align: right;\n",
       "    }\n",
       "</style>\n",
       "<table border=\"1\" class=\"dataframe\">\n",
       "  <thead>\n",
       "    <tr style=\"text-align: right;\">\n",
       "      <th></th>\n",
       "      <th>Datetime</th>\n",
       "      <th>Price</th>\n",
       "    </tr>\n",
       "  </thead>\n",
       "  <tbody>\n",
       "    <tr>\n",
       "      <th>0</th>\n",
       "      <td>2016-01-01 00:00:00</td>\n",
       "      <td>44.78</td>\n",
       "    </tr>\n",
       "    <tr>\n",
       "      <th>1</th>\n",
       "      <td>2016-01-01 01:00:00</td>\n",
       "      <td>41.18</td>\n",
       "    </tr>\n",
       "    <tr>\n",
       "      <th>2</th>\n",
       "      <td>2016-01-01 02:00:00</td>\n",
       "      <td>33.62</td>\n",
       "    </tr>\n",
       "    <tr>\n",
       "      <th>3</th>\n",
       "      <td>2016-01-01 03:00:00</td>\n",
       "      <td>34.82</td>\n",
       "    </tr>\n",
       "    <tr>\n",
       "      <th>4</th>\n",
       "      <td>2016-01-01 04:00:00</td>\n",
       "      <td>34.04</td>\n",
       "    </tr>\n",
       "  </tbody>\n",
       "</table>\n",
       "</div>"
      ],
      "text/plain": [
       "             Datetime  Price\n",
       "0 2016-01-01 00:00:00  44.78\n",
       "1 2016-01-01 01:00:00  41.18\n",
       "2 2016-01-01 02:00:00  33.62\n",
       "3 2016-01-01 03:00:00  34.82\n",
       "4 2016-01-01 04:00:00  34.04"
      ]
     },
     "execution_count": 26,
     "metadata": {},
     "output_type": "execute_result"
    }
   ],
   "source": [
    "df_prices['Price']=df_prices['Price']*2\n",
    "df_prices.head()"
   ]
  },
  {
   "cell_type": "code",
   "execution_count": 27,
   "metadata": {},
   "outputs": [],
   "source": [
    "df_2016_prices = df_2016.merge(df_prices)"
   ]
  },
  {
   "cell_type": "markdown",
   "metadata": {},
   "source": [
    "### Costs per appliance\n",
    "The consumption is aggregated so to know the cost of each hour that the appliance had been working a new column is added with the difference. <br>\n",
    "To have the data by house, the function df_byhouse is going to be used, but it is neccesary to add the price column."
   ]
  },
  {
   "cell_type": "code",
   "execution_count": 28,
   "metadata": {},
   "outputs": [],
   "source": [
    "def df_byhouse(extraction_df, house_num):\n",
    "    residential = True\n",
    "    condition1 = col_names['Residential']== int(residential)\n",
    "    condition2 = col_names['House_num']== house_num\n",
    "    df_house = col_names[condition1 & condition2]\n",
    "    #lists with the columns name and the equivalent name with only the concept\n",
    "    col_list = list(df_house['Col_name'])\n",
    "    col_list_concepts = list(df_house['Concept'])\n",
    "    col_common = ['Datetime','Date','Year','Hour','Price']\n",
    "    col_list = col_common + col_list\n",
    "    col_list_concepts = col_common + col_list_concepts\n",
    "    #dataframe with only the columns from the input house\n",
    "    df_byhouse = extraction_df[col_list]\n",
    "    df_byhouse.columns = col_list_concepts\n",
    "    return df_byhouse"
   ]
  },
  {
   "cell_type": "code",
   "execution_count": 29,
   "metadata": {},
   "outputs": [],
   "source": [
    "#Obtain a list containing all the dataframes\n",
    "list_df=list()\n",
    "for i in list(range(1,7)):\n",
    "    df=df_byhouse(df_2016_prices,i)\n",
    "    list_df.append(df)"
   ]
  },
  {
   "cell_type": "code",
   "execution_count": 30,
   "metadata": {},
   "outputs": [],
   "source": [
    "#Names for the dataframes generated for each house\n",
    "residential=list(['residential']*6)\n",
    "numbers =list(map(str,list(range(1,7))))\n",
    "list_dfnames = list(map(str.__add__,residential,numbers))"
   ]
  },
  {
   "cell_type": "code",
   "execution_count": 31,
   "metadata": {},
   "outputs": [
    {
     "name": "stderr",
     "output_type": "stream",
     "text": [
      "C:\\Users\\AROA\\Anaconda3\\lib\\site-packages\\ipykernel_launcher.py:9: SettingWithCopyWarning: \n",
      "A value is trying to be set on a copy of a slice from a DataFrame.\n",
      "Try using .loc[row_indexer,col_indexer] = value instead\n",
      "\n",
      "See the caveats in the documentation: http://pandas.pydata.org/pandas-docs/stable/indexing.html#indexing-view-versus-copy\n",
      "  if __name__ == '__main__':\n",
      "C:\\Users\\AROA\\Anaconda3\\lib\\site-packages\\ipykernel_launcher.py:10: SettingWithCopyWarning: \n",
      "A value is trying to be set on a copy of a slice from a DataFrame.\n",
      "Try using .loc[row_indexer,col_indexer] = value instead\n",
      "\n",
      "See the caveats in the documentation: http://pandas.pydata.org/pandas-docs/stable/indexing.html#indexing-view-versus-copy\n",
      "  # Remove the CWD from sys.path while we load stuff.\n"
     ]
    }
   ],
   "source": [
    "list_dfclean = list()\n",
    "conversionf = 1/1000  #the prices are in €/MWh and the consumption of the appliance in kWh\n",
    "appliances = ['dishwasher','washingmachine']\n",
    "\n",
    "for elem in list_df:\n",
    "    for app in appliances:\n",
    "        appliance_dif = app + '_dif'\n",
    "        appliance_cost = app + '_cost'\n",
    "        elem[appliance_dif]= abs(elem[app].diff(periods=-1))\n",
    "        elem[appliance_cost] = elem['Price'] * elem[appliance_dif]* conversionf\n",
    "    list_dfclean.append(elem)"
   ]
  },
  {
   "cell_type": "code",
   "execution_count": 32,
   "metadata": {},
   "outputs": [
    {
     "data": {
      "text/plain": [
       "8779    232.665\n",
       "8780    232.666\n",
       "8781    232.666\n",
       "8782    232.666\n",
       "8783    232.666\n",
       "Name: dishwasher, dtype: float64"
      ]
     },
     "execution_count": 32,
     "metadata": {},
     "output_type": "execute_result"
    }
   ],
   "source": [
    "list_dfclean[0]['dishwasher'].tail()"
   ]
  },
  {
   "cell_type": "markdown",
   "metadata": {},
   "source": [
    "Once the dataframes are generated they will be saved into csv files to be used for the Shiny App"
   ]
  },
  {
   "cell_type": "code",
   "execution_count": 33,
   "metadata": {},
   "outputs": [],
   "source": [
    "#Save the files in the correct directory for shiny\n",
    "from pathlib import Path\n",
    "\n",
    "path = Path(\"~/Documents/MASTER/TFM/data/\")\n",
    "for i in list(range(0, len(list_dfclean))):\n",
    "    name=list_dfnames[i] + '.csv'\n",
    "    list_dfclean[i].to_csv(path / name)"
   ]
  },
  {
   "cell_type": "code",
   "execution_count": 34,
   "metadata": {},
   "outputs": [
    {
     "data": {
      "text/html": [
       "<div>\n",
       "<style scoped>\n",
       "    .dataframe tbody tr th:only-of-type {\n",
       "        vertical-align: middle;\n",
       "    }\n",
       "\n",
       "    .dataframe tbody tr th {\n",
       "        vertical-align: top;\n",
       "    }\n",
       "\n",
       "    .dataframe thead th {\n",
       "        text-align: right;\n",
       "    }\n",
       "</style>\n",
       "<table border=\"1\" class=\"dataframe\">\n",
       "  <thead>\n",
       "    <tr style=\"text-align: right;\">\n",
       "      <th></th>\n",
       "      <th>Datetime</th>\n",
       "      <th>Date</th>\n",
       "      <th>Year</th>\n",
       "      <th>Hour</th>\n",
       "      <th>Price</th>\n",
       "      <th>circulationpump</th>\n",
       "      <th>dishwasher</th>\n",
       "      <th>freezer</th>\n",
       "      <th>gridexport</th>\n",
       "      <th>gridimport</th>\n",
       "      <th>pv</th>\n",
       "      <th>refrigerator</th>\n",
       "      <th>washingmachine</th>\n",
       "      <th>dishwasher_dif</th>\n",
       "      <th>dishwasher_cost</th>\n",
       "      <th>washingmachine_dif</th>\n",
       "      <th>washingmachine_cost</th>\n",
       "    </tr>\n",
       "  </thead>\n",
       "  <tbody>\n",
       "    <tr>\n",
       "      <th>0</th>\n",
       "      <td>2016-01-01 00:00:00</td>\n",
       "      <td>2016-01-01</td>\n",
       "      <td>2016</td>\n",
       "      <td>0</td>\n",
       "      <td>44.78</td>\n",
       "      <td>635.48</td>\n",
       "      <td>604.017</td>\n",
       "      <td>124.858</td>\n",
       "      <td>0.0</td>\n",
       "      <td>0.391</td>\n",
       "      <td>0.0</td>\n",
       "      <td>209.835</td>\n",
       "      <td>560.369</td>\n",
       "      <td>0.0</td>\n",
       "      <td>0.0</td>\n",
       "      <td>0.0</td>\n",
       "      <td>0.0</td>\n",
       "    </tr>\n",
       "    <tr>\n",
       "      <th>1</th>\n",
       "      <td>2016-01-01 01:00:00</td>\n",
       "      <td>2016-01-01</td>\n",
       "      <td>2016</td>\n",
       "      <td>1</td>\n",
       "      <td>41.18</td>\n",
       "      <td>635.48</td>\n",
       "      <td>604.017</td>\n",
       "      <td>124.858</td>\n",
       "      <td>0.0</td>\n",
       "      <td>0.391</td>\n",
       "      <td>0.0</td>\n",
       "      <td>209.835</td>\n",
       "      <td>560.369</td>\n",
       "      <td>0.0</td>\n",
       "      <td>0.0</td>\n",
       "      <td>0.0</td>\n",
       "      <td>0.0</td>\n",
       "    </tr>\n",
       "    <tr>\n",
       "      <th>2</th>\n",
       "      <td>2016-01-01 02:00:00</td>\n",
       "      <td>2016-01-01</td>\n",
       "      <td>2016</td>\n",
       "      <td>2</td>\n",
       "      <td>33.62</td>\n",
       "      <td>635.48</td>\n",
       "      <td>604.017</td>\n",
       "      <td>124.858</td>\n",
       "      <td>0.0</td>\n",
       "      <td>0.391</td>\n",
       "      <td>0.0</td>\n",
       "      <td>209.835</td>\n",
       "      <td>560.369</td>\n",
       "      <td>0.0</td>\n",
       "      <td>0.0</td>\n",
       "      <td>0.0</td>\n",
       "      <td>0.0</td>\n",
       "    </tr>\n",
       "    <tr>\n",
       "      <th>3</th>\n",
       "      <td>2016-01-01 03:00:00</td>\n",
       "      <td>2016-01-01</td>\n",
       "      <td>2016</td>\n",
       "      <td>3</td>\n",
       "      <td>34.82</td>\n",
       "      <td>635.48</td>\n",
       "      <td>604.017</td>\n",
       "      <td>124.858</td>\n",
       "      <td>0.0</td>\n",
       "      <td>0.391</td>\n",
       "      <td>0.0</td>\n",
       "      <td>209.835</td>\n",
       "      <td>560.369</td>\n",
       "      <td>0.0</td>\n",
       "      <td>0.0</td>\n",
       "      <td>0.0</td>\n",
       "      <td>0.0</td>\n",
       "    </tr>\n",
       "    <tr>\n",
       "      <th>4</th>\n",
       "      <td>2016-01-01 04:00:00</td>\n",
       "      <td>2016-01-01</td>\n",
       "      <td>2016</td>\n",
       "      <td>4</td>\n",
       "      <td>34.04</td>\n",
       "      <td>635.48</td>\n",
       "      <td>604.017</td>\n",
       "      <td>124.858</td>\n",
       "      <td>0.0</td>\n",
       "      <td>0.391</td>\n",
       "      <td>0.0</td>\n",
       "      <td>209.835</td>\n",
       "      <td>560.369</td>\n",
       "      <td>0.0</td>\n",
       "      <td>0.0</td>\n",
       "      <td>0.0</td>\n",
       "      <td>0.0</td>\n",
       "    </tr>\n",
       "  </tbody>\n",
       "</table>\n",
       "</div>"
      ],
      "text/plain": [
       "             Datetime       Date  Year  Hour  Price  circulationpump  \\\n",
       "0 2016-01-01 00:00:00 2016-01-01  2016     0  44.78           635.48   \n",
       "1 2016-01-01 01:00:00 2016-01-01  2016     1  41.18           635.48   \n",
       "2 2016-01-01 02:00:00 2016-01-01  2016     2  33.62           635.48   \n",
       "3 2016-01-01 03:00:00 2016-01-01  2016     3  34.82           635.48   \n",
       "4 2016-01-01 04:00:00 2016-01-01  2016     4  34.04           635.48   \n",
       "\n",
       "   dishwasher  freezer  gridexport  gridimport   pv  refrigerator  \\\n",
       "0     604.017  124.858         0.0       0.391  0.0       209.835   \n",
       "1     604.017  124.858         0.0       0.391  0.0       209.835   \n",
       "2     604.017  124.858         0.0       0.391  0.0       209.835   \n",
       "3     604.017  124.858         0.0       0.391  0.0       209.835   \n",
       "4     604.017  124.858         0.0       0.391  0.0       209.835   \n",
       "\n",
       "   washingmachine  dishwasher_dif  dishwasher_cost  washingmachine_dif  \\\n",
       "0         560.369             0.0              0.0                 0.0   \n",
       "1         560.369             0.0              0.0                 0.0   \n",
       "2         560.369             0.0              0.0                 0.0   \n",
       "3         560.369             0.0              0.0                 0.0   \n",
       "4         560.369             0.0              0.0                 0.0   \n",
       "\n",
       "   washingmachine_cost  \n",
       "0                  0.0  \n",
       "1                  0.0  \n",
       "2                  0.0  \n",
       "3                  0.0  \n",
       "4                  0.0  "
      ]
     },
     "execution_count": 34,
     "metadata": {},
     "output_type": "execute_result"
    }
   ],
   "source": [
    "list_dfclean[2].head()"
   ]
  },
  {
   "cell_type": "markdown",
   "metadata": {},
   "source": [
    "## 3. Recommendations\n",
    "\n",
    "The recommendations are going to be based in the use pattern for the specific house in that year"
   ]
  },
  {
   "cell_type": "code",
   "execution_count": 35,
   "metadata": {},
   "outputs": [],
   "source": [
    "#Definition of a function to study use patterns by hours\n",
    "def use_pattern(df,appliance):\n",
    "    filter_exp = df[appliance + '_dif'] != 0\n",
    "    data = pd.DataFrame(df[filter_exp].groupby('Hour').count()['Date'])\n",
    "    data.rename(columns={'Date' : 'Count'},inplace=True)\n",
    "    return data"
   ]
  },
  {
   "cell_type": "code",
   "execution_count": 36,
   "metadata": {},
   "outputs": [
    {
     "data": {
      "text/plain": [
       "[<matplotlib.lines.Line2D at 0x1a020148278>]"
      ]
     },
     "execution_count": 36,
     "metadata": {},
     "output_type": "execute_result"
    },
    {
     "data": {
      "image/png": "[encoded data removed]",
      "text/plain": [
       "<matplotlib.figure.Figure at 0x1a02051e400>"
      ]
     },
     "metadata": {},
     "output_type": "display_data"
    }
   ],
   "source": [
    "residential2 = list_dfclean[2]\n",
    "data = use_pattern(residential2, 'washingmachine')\n",
    "plt.xlabel ('hour')\n",
    "plt.ylabel ('count')\n",
    "plt.plot(data)"
   ]
  },
  {
   "cell_type": "markdown",
   "metadata": {},
   "source": [
    "To be able to see the use pattern depending on the day the function use_pattern has to be changed a bit"
   ]
  },
  {
   "cell_type": "code",
   "execution_count": 37,
   "metadata": {},
   "outputs": [],
   "source": [
    "def use_pattern2plt(df,appliance):\n",
    "    #Create a column to know if it is a weekday(1), saturday(2) or sunday(3)\n",
    "    df['Day_type'] = df['Datetime'].map(lambda x: 1 if x.dayofweek <= 4 else 2 if x.dayofweek == 5 else 3 )\n",
    "    filter_exp = df[appliance + '_dif'] != 0\n",
    "    data = df[filter_exp]\n",
    "    plt.figure(figsize=(12,5))\n",
    "    for i in list(range(1,4)):\n",
    "        filtered_data = data[data['Day_type']==i].groupby(['Hour']).count()['Date']\n",
    "        filtered_data.rename(columns={'Date' : 'Count'},inplace=True)\n",
    "        plt.xlabel ('hour')\n",
    "        plt.ylabel ('count')\n",
    "        day_name = 'Weekday' if i==1 else'Saturday' if i==2 else'Sunday'\n",
    "        plt.plot(filtered_data, label = day_name)\n",
    "        plt.legend()\n",
    "        "
   ]
  },
  {
   "cell_type": "code",
   "execution_count": 38,
   "metadata": {
    "scrolled": true
   },
   "outputs": [
    {
     "name": "stderr",
     "output_type": "stream",
     "text": [
      "C:\\Users\\AROA\\Anaconda3\\lib\\site-packages\\ipykernel_launcher.py:3: SettingWithCopyWarning: \n",
      "A value is trying to be set on a copy of a slice from a DataFrame.\n",
      "Try using .loc[row_indexer,col_indexer] = value instead\n",
      "\n",
      "See the caveats in the documentation: http://pandas.pydata.org/pandas-docs/stable/indexing.html#indexing-view-versus-copy\n",
      "  This is separate from the ipykernel package so we can avoid doing imports until\n"
     ]
    },
    {
     "data": {
      "image/png": "[encoded data removed]",
      "text/plain": [
       "<matplotlib.figure.Figure at 0x1a020313390>"
      ]
     },
     "metadata": {},
     "output_type": "display_data"
    }
   ],
   "source": [
    "use_pattern2plt(residential2, 'washingmachine')"
   ]
  },
  {
   "cell_type": "code",
   "execution_count": 39,
   "metadata": {},
   "outputs": [
    {
     "data": {
      "text/html": [
       "<div>\n",
       "<style scoped>\n",
       "    .dataframe tbody tr th:only-of-type {\n",
       "        vertical-align: middle;\n",
       "    }\n",
       "\n",
       "    .dataframe tbody tr th {\n",
       "        vertical-align: top;\n",
       "    }\n",
       "\n",
       "    .dataframe thead th {\n",
       "        text-align: right;\n",
       "    }\n",
       "</style>\n",
       "<table border=\"1\" class=\"dataframe\">\n",
       "  <thead>\n",
       "    <tr style=\"text-align: right;\">\n",
       "      <th></th>\n",
       "      <th>Hour</th>\n",
       "      <th>Cluster_id</th>\n",
       "      <th>Price_weekday</th>\n",
       "      <th>Price_sat</th>\n",
       "      <th>Price_sun</th>\n",
       "    </tr>\n",
       "  </thead>\n",
       "  <tbody>\n",
       "    <tr>\n",
       "      <th>0</th>\n",
       "      <td>0</td>\n",
       "      <td>0</td>\n",
       "      <td>22.245594</td>\n",
       "      <td>23.267736</td>\n",
       "      <td>17.756731</td>\n",
       "    </tr>\n",
       "    <tr>\n",
       "      <th>1</th>\n",
       "      <td>1</td>\n",
       "      <td>0</td>\n",
       "      <td>21.259004</td>\n",
       "      <td>22.121887</td>\n",
       "      <td>16.856538</td>\n",
       "    </tr>\n",
       "    <tr>\n",
       "      <th>2</th>\n",
       "      <td>2</td>\n",
       "      <td>0</td>\n",
       "      <td>21.253985</td>\n",
       "      <td>21.703774</td>\n",
       "      <td>16.447500</td>\n",
       "    </tr>\n",
       "    <tr>\n",
       "      <th>3</th>\n",
       "      <td>3</td>\n",
       "      <td>0</td>\n",
       "      <td>22.811762</td>\n",
       "      <td>21.910377</td>\n",
       "      <td>16.346923</td>\n",
       "    </tr>\n",
       "    <tr>\n",
       "      <th>4</th>\n",
       "      <td>4</td>\n",
       "      <td>2</td>\n",
       "      <td>27.572759</td>\n",
       "      <td>22.462264</td>\n",
       "      <td>16.354231</td>\n",
       "    </tr>\n",
       "    <tr>\n",
       "      <th>5</th>\n",
       "      <td>5</td>\n",
       "      <td>3</td>\n",
       "      <td>33.968161</td>\n",
       "      <td>23.646226</td>\n",
       "      <td>16.132500</td>\n",
       "    </tr>\n",
       "  </tbody>\n",
       "</table>\n",
       "</div>"
      ],
      "text/plain": [
       "   Hour  Cluster_id  Price_weekday  Price_sat  Price_sun\n",
       "0     0           0      22.245594  23.267736  17.756731\n",
       "1     1           0      21.259004  22.121887  16.856538\n",
       "2     2           0      21.253985  21.703774  16.447500\n",
       "3     3           0      22.811762  21.910377  16.346923\n",
       "4     4           2      27.572759  22.462264  16.354231\n",
       "5     5           3      33.968161  23.646226  16.132500"
      ]
     },
     "execution_count": 39,
     "metadata": {},
     "output_type": "execute_result"
    }
   ],
   "source": [
    "#Load the cluster_prices for each hour\n",
    "from pathlib import Path\n",
    "\n",
    "path = Path(\"~/Documents/MASTER/TFM/data/\")\n",
    "name = 'Cluster_prices.csv'\n",
    "\n",
    "prices_cluster = pd.read_csv(path / name)\n",
    "prices_cluster.head(6)"
   ]
  },
  {
   "cell_type": "markdown",
   "metadata": {},
   "source": [
    "For the recommendations the criteria is going to be used is a simple logic to try to make it easy for the user to implement it. If the hour before or after has a \"better cluster\" it will be consider as an improved hour. So the recommendation would be: If instead of using the appliance at this hour you use it one hour before/later you will saving money."
   ]
  },
  {
   "cell_type": "code",
   "execution_count": 40,
   "metadata": {},
   "outputs": [
    {
     "data": {
      "text/html": [
       "<div>\n",
       "<style scoped>\n",
       "    .dataframe tbody tr th:only-of-type {\n",
       "        vertical-align: middle;\n",
       "    }\n",
       "\n",
       "    .dataframe tbody tr th {\n",
       "        vertical-align: top;\n",
       "    }\n",
       "\n",
       "    .dataframe thead th {\n",
       "        text-align: right;\n",
       "    }\n",
       "</style>\n",
       "<table border=\"1\" class=\"dataframe\">\n",
       "  <thead>\n",
       "    <tr style=\"text-align: right;\">\n",
       "      <th></th>\n",
       "      <th>Hour</th>\n",
       "      <th>Cluster_id</th>\n",
       "      <th>Best_h</th>\n",
       "      <th>Price_weekday</th>\n",
       "      <th>Price_sat</th>\n",
       "      <th>Price_sun</th>\n",
       "    </tr>\n",
       "  </thead>\n",
       "  <tbody>\n",
       "    <tr>\n",
       "      <th>0</th>\n",
       "      <td>0</td>\n",
       "      <td>0</td>\n",
       "      <td>0</td>\n",
       "      <td>22.245594</td>\n",
       "      <td>23.267736</td>\n",
       "      <td>17.756731</td>\n",
       "    </tr>\n",
       "    <tr>\n",
       "      <th>1</th>\n",
       "      <td>1</td>\n",
       "      <td>0</td>\n",
       "      <td>0</td>\n",
       "      <td>21.259004</td>\n",
       "      <td>22.121887</td>\n",
       "      <td>16.856538</td>\n",
       "    </tr>\n",
       "    <tr>\n",
       "      <th>2</th>\n",
       "      <td>2</td>\n",
       "      <td>0</td>\n",
       "      <td>0</td>\n",
       "      <td>21.253985</td>\n",
       "      <td>21.703774</td>\n",
       "      <td>16.447500</td>\n",
       "    </tr>\n",
       "    <tr>\n",
       "      <th>3</th>\n",
       "      <td>3</td>\n",
       "      <td>0</td>\n",
       "      <td>0</td>\n",
       "      <td>22.811762</td>\n",
       "      <td>21.910377</td>\n",
       "      <td>16.346923</td>\n",
       "    </tr>\n",
       "    <tr>\n",
       "      <th>4</th>\n",
       "      <td>4</td>\n",
       "      <td>2</td>\n",
       "      <td>1</td>\n",
       "      <td>27.572759</td>\n",
       "      <td>22.462264</td>\n",
       "      <td>16.354231</td>\n",
       "    </tr>\n",
       "    <tr>\n",
       "      <th>5</th>\n",
       "      <td>5</td>\n",
       "      <td>3</td>\n",
       "      <td>1</td>\n",
       "      <td>33.968161</td>\n",
       "      <td>23.646226</td>\n",
       "      <td>16.132500</td>\n",
       "    </tr>\n",
       "    <tr>\n",
       "      <th>6</th>\n",
       "      <td>6</td>\n",
       "      <td>4</td>\n",
       "      <td>1</td>\n",
       "      <td>38.846092</td>\n",
       "      <td>26.455094</td>\n",
       "      <td>18.069615</td>\n",
       "    </tr>\n",
       "    <tr>\n",
       "      <th>7</th>\n",
       "      <td>7</td>\n",
       "      <td>4</td>\n",
       "      <td>2</td>\n",
       "      <td>38.162261</td>\n",
       "      <td>28.553585</td>\n",
       "      <td>19.276346</td>\n",
       "    </tr>\n",
       "    <tr>\n",
       "      <th>8</th>\n",
       "      <td>8</td>\n",
       "      <td>3</td>\n",
       "      <td>0</td>\n",
       "      <td>36.130077</td>\n",
       "      <td>28.833585</td>\n",
       "      <td>19.858077</td>\n",
       "    </tr>\n",
       "  </tbody>\n",
       "</table>\n",
       "</div>"
      ],
      "text/plain": [
       "   Hour  Cluster_id  Best_h  Price_weekday  Price_sat  Price_sun\n",
       "0     0           0       0      22.245594  23.267736  17.756731\n",
       "1     1           0       0      21.259004  22.121887  16.856538\n",
       "2     2           0       0      21.253985  21.703774  16.447500\n",
       "3     3           0       0      22.811762  21.910377  16.346923\n",
       "4     4           2       1      27.572759  22.462264  16.354231\n",
       "5     5           3       1      33.968161  23.646226  16.132500\n",
       "6     6           4       1      38.846092  26.455094  18.069615\n",
       "7     7           4       2      38.162261  28.553585  19.276346\n",
       "8     8           3       0      36.130077  28.833585  19.858077"
      ]
     },
     "execution_count": 40,
     "metadata": {},
     "output_type": "execute_result"
    }
   ],
   "source": [
    "list_out = list()\n",
    "for i in list(range(1,23)):\n",
    "    prev_val = prices_cluster['Cluster_id'].iloc[i-1]\n",
    "    act_val= prices_cluster['Cluster_id'].iloc[i]\n",
    "    next_val = prices_cluster['Cluster_id'].iloc[i+1]\n",
    "    elem = 1 if (prev_val < act_val) else 2 if (next_val < act_val) else 0\n",
    "    list_out.append(elem)\n",
    "\n",
    "#The value for the first position is 0 and for the last is 1\n",
    "list_out.insert(0, 0)\n",
    "list_out.append(1)\n",
    "\n",
    "prices_cluster.insert(2,\"Best_h\", list_out)\n",
    "prices_cluster.head(9)"
   ]
  },
  {
   "cell_type": "markdown",
   "metadata": {},
   "source": [
    "To obtain a list of dataframes for each day_type in a house to quantify with price for that day a new function is created"
   ]
  },
  {
   "cell_type": "code",
   "execution_count": 41,
   "metadata": {},
   "outputs": [],
   "source": [
    "def use_price(df,appliance):\n",
    "    #Create a column to know if it is a weekday(1), saturday(2) or sunday(3)\n",
    "    df['Day_type'] = df['Datetime'].map(lambda x: 1 if x.dayofweek <= 4 else 2 if x.dayofweek == 5 else 3 )\n",
    "    filter_exp = df[appliance + '_dif'] != 0\n",
    "    data = df[filter_exp]\n",
    "    list_df = list()\n",
    "    for i in list(range(1,4)):\n",
    "        filtered_data = pd.DataFrame(data[data['Day_type']==i].groupby(['Hour']).count()['Date'])\n",
    "        filtered_data.rename(columns={'Date' : 'Count'},inplace=True)\n",
    "        data_recomm =filtered_data.merge(prices_cluster, left_on='Hour', right_on='Hour')\n",
    "        fixed_col = list(data_recomm.columns[0:4])\n",
    "        name_col = [data_recomm.columns[3+i]]\n",
    "        col_list = fixed_col + name_col\n",
    "        data_recomm_p = data_recomm[col_list]\n",
    "        list_df.append(data_recomm_p)\n",
    "    return list_df"
   ]
  },
  {
   "cell_type": "code",
   "execution_count": 42,
   "metadata": {},
   "outputs": [
    {
     "name": "stderr",
     "output_type": "stream",
     "text": [
      "C:\\Users\\AROA\\Anaconda3\\lib\\site-packages\\ipykernel_launcher.py:3: SettingWithCopyWarning: \n",
      "A value is trying to be set on a copy of a slice from a DataFrame.\n",
      "Try using .loc[row_indexer,col_indexer] = value instead\n",
      "\n",
      "See the caveats in the documentation: http://pandas.pydata.org/pandas-docs/stable/indexing.html#indexing-view-versus-copy\n",
      "  This is separate from the ipykernel package so we can avoid doing imports until\n"
     ]
    },
    {
     "data": {
      "text/html": [
       "<div>\n",
       "<style scoped>\n",
       "    .dataframe tbody tr th:only-of-type {\n",
       "        vertical-align: middle;\n",
       "    }\n",
       "\n",
       "    .dataframe tbody tr th {\n",
       "        vertical-align: top;\n",
       "    }\n",
       "\n",
       "    .dataframe thead th {\n",
       "        text-align: right;\n",
       "    }\n",
       "</style>\n",
       "<table border=\"1\" class=\"dataframe\">\n",
       "  <thead>\n",
       "    <tr style=\"text-align: right;\">\n",
       "      <th></th>\n",
       "      <th>Hour</th>\n",
       "      <th>Count</th>\n",
       "      <th>Cluster_id</th>\n",
       "      <th>Best_h</th>\n",
       "      <th>Price_sun</th>\n",
       "    </tr>\n",
       "  </thead>\n",
       "  <tbody>\n",
       "    <tr>\n",
       "      <th>0</th>\n",
       "      <td>0</td>\n",
       "      <td>9</td>\n",
       "      <td>0</td>\n",
       "      <td>0</td>\n",
       "      <td>17.756731</td>\n",
       "    </tr>\n",
       "    <tr>\n",
       "      <th>1</th>\n",
       "      <td>1</td>\n",
       "      <td>9</td>\n",
       "      <td>0</td>\n",
       "      <td>0</td>\n",
       "      <td>16.856538</td>\n",
       "    </tr>\n",
       "    <tr>\n",
       "      <th>2</th>\n",
       "      <td>2</td>\n",
       "      <td>4</td>\n",
       "      <td>0</td>\n",
       "      <td>0</td>\n",
       "      <td>16.447500</td>\n",
       "    </tr>\n",
       "    <tr>\n",
       "      <th>3</th>\n",
       "      <td>3</td>\n",
       "      <td>3</td>\n",
       "      <td>0</td>\n",
       "      <td>0</td>\n",
       "      <td>16.346923</td>\n",
       "    </tr>\n",
       "    <tr>\n",
       "      <th>4</th>\n",
       "      <td>4</td>\n",
       "      <td>1</td>\n",
       "      <td>2</td>\n",
       "      <td>1</td>\n",
       "      <td>16.354231</td>\n",
       "    </tr>\n",
       "  </tbody>\n",
       "</table>\n",
       "</div>"
      ],
      "text/plain": [
       "   Hour  Count  Cluster_id  Best_h  Price_sun\n",
       "0     0      9           0       0  17.756731\n",
       "1     1      9           0       0  16.856538\n",
       "2     2      4           0       0  16.447500\n",
       "3     3      3           0       0  16.346923\n",
       "4     4      1           2       1  16.354231"
      ]
     },
     "execution_count": 42,
     "metadata": {},
     "output_type": "execute_result"
    }
   ],
   "source": [
    "#Example of dataframe\n",
    "df = use_price(residential2, 'washingmachine')[2]\n",
    "df.head()"
   ]
  },
  {
   "cell_type": "markdown",
   "metadata": {},
   "source": [
    "To calculate the savings the diff function is used depending on the Best_h values, if Best_h is 1 the difference is with the prev, if it is 2 is with the next. Multiplying by the count of hours we obtain the savings a year for that change in the hour."
   ]
  },
  {
   "cell_type": "code",
   "execution_count": 43,
   "metadata": {
    "scrolled": false
   },
   "outputs": [
    {
     "data": {
      "text/html": [
       "<div>\n",
       "<style scoped>\n",
       "    .dataframe tbody tr th:only-of-type {\n",
       "        vertical-align: middle;\n",
       "    }\n",
       "\n",
       "    .dataframe tbody tr th {\n",
       "        vertical-align: top;\n",
       "    }\n",
       "\n",
       "    .dataframe thead th {\n",
       "        text-align: right;\n",
       "    }\n",
       "</style>\n",
       "<table border=\"1\" class=\"dataframe\">\n",
       "  <thead>\n",
       "    <tr style=\"text-align: right;\">\n",
       "      <th></th>\n",
       "      <th>Hour</th>\n",
       "      <th>Count</th>\n",
       "      <th>Cluster_id</th>\n",
       "      <th>Best_h</th>\n",
       "      <th>Price_sun</th>\n",
       "      <th>Savings</th>\n",
       "      <th>Final_Savings</th>\n",
       "    </tr>\n",
       "  </thead>\n",
       "  <tbody>\n",
       "    <tr>\n",
       "      <th>0</th>\n",
       "      <td>0</td>\n",
       "      <td>9</td>\n",
       "      <td>0</td>\n",
       "      <td>0</td>\n",
       "      <td>17.756731</td>\n",
       "      <td>0.000000</td>\n",
       "      <td>0.000000</td>\n",
       "    </tr>\n",
       "    <tr>\n",
       "      <th>1</th>\n",
       "      <td>1</td>\n",
       "      <td>9</td>\n",
       "      <td>0</td>\n",
       "      <td>0</td>\n",
       "      <td>16.856538</td>\n",
       "      <td>0.000000</td>\n",
       "      <td>0.000000</td>\n",
       "    </tr>\n",
       "    <tr>\n",
       "      <th>2</th>\n",
       "      <td>2</td>\n",
       "      <td>4</td>\n",
       "      <td>0</td>\n",
       "      <td>0</td>\n",
       "      <td>16.447500</td>\n",
       "      <td>0.000000</td>\n",
       "      <td>0.000000</td>\n",
       "    </tr>\n",
       "    <tr>\n",
       "      <th>3</th>\n",
       "      <td>3</td>\n",
       "      <td>3</td>\n",
       "      <td>0</td>\n",
       "      <td>0</td>\n",
       "      <td>16.346923</td>\n",
       "      <td>0.000000</td>\n",
       "      <td>0.000000</td>\n",
       "    </tr>\n",
       "    <tr>\n",
       "      <th>4</th>\n",
       "      <td>4</td>\n",
       "      <td>1</td>\n",
       "      <td>2</td>\n",
       "      <td>1</td>\n",
       "      <td>16.354231</td>\n",
       "      <td>0.007308</td>\n",
       "      <td>0.007308</td>\n",
       "    </tr>\n",
       "  </tbody>\n",
       "</table>\n",
       "</div>"
      ],
      "text/plain": [
       "   Hour  Count  Cluster_id  Best_h  Price_sun   Savings  Final_Savings\n",
       "0     0      9           0       0  17.756731  0.000000       0.000000\n",
       "1     1      9           0       0  16.856538  0.000000       0.000000\n",
       "2     2      4           0       0  16.447500  0.000000       0.000000\n",
       "3     3      3           0       0  16.346923  0.000000       0.000000\n",
       "4     4      1           2       1  16.354231  0.007308       0.007308"
      ]
     },
     "execution_count": 43,
     "metadata": {},
     "output_type": "execute_result"
    }
   ],
   "source": [
    "df['Savings'] = np.where(df['Best_h']==1, abs(df['Price_sun'].diff(periods=1)), 0)\n",
    "df['Savings'] = np.where(df['Best_h']==2, abs(df['Price_sun'].diff(periods=-1)), df['Savings'])\n",
    "df['Final_Savings'] = df['Savings'] *df['Count']\n",
    "df.head()"
   ]
  },
  {
   "cell_type": "markdown",
   "metadata": {},
   "source": [
    "To use the information on shiny it is neccesary to generate the dataframes. The next cells generates a list of dataframes containig the information for recommendations for the washing machine. Then the files will be save with the proper name pattern."
   ]
  },
  {
   "cell_type": "code",
   "execution_count": 44,
   "metadata": {},
   "outputs": [],
   "source": [
    "def generate_recomm(appliance):\n",
    "    list_dfrecomm= list()\n",
    "    for house_num in [0,1,2,3,4,5]:\n",
    "        dataframe = list_dfclean[house_num]\n",
    "        list_df = list()\n",
    "        tot = use_price(dataframe, appliance)\n",
    "        for i in [0,1,2]:\n",
    "            df = tot[i]\n",
    "            df['Savings'] = np.where(df['Best_h']==1, abs(df[df.columns[4]].diff(periods=1)), 0)\n",
    "            df['Savings'] = np.where(df['Best_h']==2, abs(df[df.columns[4]].diff(periods=-1)), df['Savings'])\n",
    "            df['Final_Savings'] = df['Savings'] *df['Count']\n",
    "            #rename columns to later put all the data frames for one house together\n",
    "            old_col = list(df.columns[1:7])\n",
    "            numbs = [i+1]*len(old_col)\n",
    "            new_col = [str(old_col[elem]) + str(numbs[elem]) for elem in range(len(old_col))]\n",
    "            df.columns = ['Hour'] +new_col\n",
    "            list_df.append(df)\n",
    "    \n",
    "        result1 = pd.merge(list_df[0], list_df[1], on='Hour')\n",
    "        result = pd.merge(result1, list_df[2], on='Hour')\n",
    "        list_dfrecomm.append(result)\n",
    "    return list_dfrecomm"
   ]
  },
  {
   "cell_type": "markdown",
   "metadata": {},
   "source": [
    "Generate the list of dataframes with the 2 selected appliances"
   ]
  },
  {
   "cell_type": "code",
   "execution_count": 45,
   "metadata": {},
   "outputs": [
    {
     "name": "stderr",
     "output_type": "stream",
     "text": [
      "C:\\Users\\AROA\\Anaconda3\\lib\\site-packages\\ipykernel_launcher.py:3: SettingWithCopyWarning: \n",
      "A value is trying to be set on a copy of a slice from a DataFrame.\n",
      "Try using .loc[row_indexer,col_indexer] = value instead\n",
      "\n",
      "See the caveats in the documentation: http://pandas.pydata.org/pandas-docs/stable/indexing.html#indexing-view-versus-copy\n",
      "  This is separate from the ipykernel package so we can avoid doing imports until\n"
     ]
    }
   ],
   "source": [
    "recomm_w = generate_recomm('washingmachine')\n",
    "recomm_d = generate_recomm('dishwasher')"
   ]
  },
  {
   "cell_type": "code",
   "execution_count": 46,
   "metadata": {},
   "outputs": [],
   "source": [
    "#Names for the dataframes generated for recommendations\n",
    "residential=list(['residential']*6)\n",
    "numbers =list(map(str,list(range(1,7))))\n",
    "list_dfnamesw = [str(residential[elem]) + str(numbers[elem]) + \"_washingmachine\" for elem in range(len(residential))]\n",
    "list_dfnamesd = [str(residential[elem]) + str(numbers[elem]) + \"_dishwasher\" for elem in range(len(residential))]"
   ]
  },
  {
   "cell_type": "markdown",
   "metadata": {},
   "source": [
    "Once the dataframes are generated they will be saved into csv files to be used for the Shiny App"
   ]
  },
  {
   "cell_type": "code",
   "execution_count": 47,
   "metadata": {},
   "outputs": [],
   "source": [
    "def save_recomm(df,names):\n",
    "    path = Path(\"~/Documents/MASTER/TFM/data/\")\n",
    "    for i in list(range(0, len(df))):\n",
    "        name=names[i] + '.csv'\n",
    "        df[i].to_csv(path / name)"
   ]
  },
  {
   "cell_type": "code",
   "execution_count": 48,
   "metadata": {},
   "outputs": [],
   "source": [
    "save_recomm(recomm_w,list_dfnamesw)\n",
    "save_recomm(recomm_d,list_dfnamesd)"
   ]
  }
 ],
 "metadata": {
  "kernelspec": {
   "display_name": "Python 3",
   "language": "python",
   "name": "python3"
  },
  "language_info": {
   "codemirror_mode": {
    "name": "ipython",
    "version": 3
   },
   "file_extension": ".py",
   "mimetype": "text/x-python",
   "name": "python",
   "nbconvert_exporter": "python",
   "pygments_lexer": "ipython3",
   "version": "3.6.4"
  }
 },
 "nbformat": 4,
 "nbformat_minor": 2
}
